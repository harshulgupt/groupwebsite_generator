{
 "cells": [
  {
   "cell_type": "code",
   "execution_count": 27,
   "metadata": {},
   "outputs": [],
   "source": [
    "import json\n",
    "import pandas as pd\n",
    "from pathlib import Path"
   ]
  },
  {
   "cell_type": "code",
   "execution_count": 28,
   "metadata": {},
   "outputs": [],
   "source": [
    "# Defining paths\n",
    "GROUP_DATA_DIR = Path(\"/Users/harshul/projects/kgwebsite/group-data\")\n",
    "\n",
    "MEMBERS_DIR_PATH = GROUP_DATA_DIR / 'members/'\n",
    "WEBSITE_DATA_PATH = GROUP_DATA_DIR / 'website_data/'\n",
    "CONTENT_DIR_PATH = WEBSITE_DATA_PATH / 'content'\n"
   ]
  },
  {
   "cell_type": "code",
   "execution_count": 29,
   "metadata": {},
   "outputs": [],
   "source": [
    "def parse_education_experience_df(member_dir):\n",
    "    member_json_dir = member_dir / 'jsons'\n",
    "    education_experience_list = []\n",
    "    \n",
    "    for json_file in ['experiences.json', 'education.json']:\n",
    "        json_path = member_json_dir / json_file\n",
    "        if json_path.exists():\n",
    "            with open(json_path, 'r') as f:\n",
    "                education_experience_list += json.load(f)\n",
    "    \n",
    "    return pd.DataFrame(education_experience_list)\n"
   ]
  },
  {
   "cell_type": "code",
   "execution_count": 30,
   "metadata": {},
   "outputs": [],
   "source": [
    "def extract_member_academic_role(people_data_frame):\n",
    "    role = people_data_frame.iloc[0].get('role', None)\n",
    "    degree = people_data_frame.iloc[0].get('degree', None)\n",
    "    \n",
    "    if degree == 'Bachelors':\n",
    "        if 'end_date' in people_data_frame.iloc[0]:\n",
    "            return 'Graduate Student'\n",
    "        else:\n",
    "            return 'Undergraduate Student'\n",
    "    elif role in ['Assistant Professor', 'Professor']:\n",
    "        return 'Professor'\n",
    "    elif role in ['Visiting Researcher', 'Postdoctoral Researcher']:\n",
    "        return 'Postdoctoral Researcher'\n",
    "    elif degree in ['Masters', 'PhD']:\n",
    "        return 'Graduate Student'\n",
    "    else:\n",
    "        return \"\"\n"
   ]
  },
  {
   "cell_type": "code",
   "execution_count": 31,
   "metadata": {},
   "outputs": [],
   "source": [
    "current_people_page_list = []\n",
    "alumni_people_page_list = []\n",
    "\n",
    "for member_dir in MEMBERS_DIR_PATH.glob('*'):\n",
    "    member_info_fname = member_dir / 'info.json'\n",
    "    if not member_info_fname.exists():\n",
    "        continue\n",
    "\n",
    "    with open(member_info_fname, 'r') as f:\n",
    "        member_info = json.load(f)\n",
    "\n",
    "    education_experience_df = parse_education_experience_df(member_dir)\n",
    "\n",
    "    # Ensure 'end_date' and 'group' columns are present in the dataframe\n",
    "    if 'end_date' not in education_experience_df.columns:\n",
    "        education_experience_df['end_date'] = None\n",
    "    if 'group' not in education_experience_df.columns:\n",
    "        education_experience_df['group'] = ''\n",
    "    if 'institution' not in education_experience_df.columns:\n",
    "        education_experience_df['institution'] = ''\n",
    "\n",
    "    current_members = education_experience_df[\n",
    "        (education_experience_df['group'].isin(['kerzendorf', 'DTI', 'ICER']) | education_experience_df['institution'] == 'Michigan State University') & \n",
    "        education_experience_df['end_date'].isna() \n",
    "    ]\n",
    "    alumni_members = education_experience_df[\n",
    "        (education_experience_df['group'].isin(['kerzendorf', 'DTI', 'ICER']) | education_experience_df['institution'] == 'Michigan State University') & \n",
    "        ~education_experience_df['end_date'].isna()\n",
    "    ]\n",
    "\n",
    "    member_id = member_info['id']\n",
    "    first_name = member_info['first_name']\n",
    "    last_name = member_info['last_name']\n",
    "    nickname = member_info.get('nick_name', None)\n",
    "    name = f'{nickname if nickname else first_name} {last_name}'\n",
    "\n",
    "    if not current_members.empty:\n",
    "        current_academic_role = extract_member_academic_role(current_members)\n",
    "        current_people_page_list.append({\"Name\": name, \"academic_role\": current_academic_role, \"ID\": member_id})\n",
    "    if not alumni_members.empty:\n",
    "        alumni_academic_role = extract_member_academic_role(alumni_members)\n",
    "        alumni_people_page_list.append({\"Name\": name, \"academic_role\": alumni_academic_role, \"ID\": member_id})"
   ]
  },
  {
   "cell_type": "code",
   "execution_count": 32,
   "metadata": {},
   "outputs": [
    {
     "data": {
      "text/plain": [
       "[]"
      ]
     },
     "execution_count": 32,
     "metadata": {},
     "output_type": "execute_result"
    }
   ],
   "source": [
    "current_people_page_list\n"
   ]
  },
  {
   "cell_type": "code",
   "execution_count": 33,
   "metadata": {},
   "outputs": [
    {
     "data": {
      "text/plain": [
       "[]"
      ]
     },
     "execution_count": 33,
     "metadata": {},
     "output_type": "execute_result"
    }
   ],
   "source": [
    "alumni_people_page_list\n"
   ]
  }
 ],
 "metadata": {
  "kernelspec": {
   "display_name": "Python 3",
   "language": "python",
   "name": "python3"
  },
  "language_info": {
   "codemirror_mode": {
    "name": "ipython",
    "version": 3
   },
   "file_extension": ".py",
   "mimetype": "text/x-python",
   "name": "python",
   "nbconvert_exporter": "python",
   "pygments_lexer": "ipython3",
   "version": "3.8.2"
  },
  "orig_nbformat": 4
 },
 "nbformat": 4,
 "nbformat_minor": 2
}
