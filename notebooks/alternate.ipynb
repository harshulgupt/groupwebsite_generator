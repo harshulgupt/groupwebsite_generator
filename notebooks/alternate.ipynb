{
 "cells": [
  {
   "cell_type": "code",
   "execution_count": 51,
   "metadata": {},
   "outputs": [],
   "source": [
    "import json\n",
    "import pandas as pd\n",
    "from pathlib import Path"
   ]
  },
  {
   "cell_type": "code",
   "execution_count": 52,
   "metadata": {},
   "outputs": [],
   "source": [
    "# Defining paths\n",
    "GROUP_DATA_DIR = Path(\"/Users/harshul/projects/kgwebsite/group-data\")\n",
    "\n",
    "MEMBERS_DIR_PATH = GROUP_DATA_DIR / 'members/'\n",
    "WEBSITE_DATA_PATH = GROUP_DATA_DIR / 'website_data/'\n",
    "CONTENT_DIR_PATH = WEBSITE_DATA_PATH / 'content'\n"
   ]
  },
  {
   "cell_type": "code",
   "execution_count": 53,
   "metadata": {},
   "outputs": [],
   "source": [
    "\n",
    "def parse_education_experience_df(member_dir):\n",
    "    member_json_dir = member_dir / 'jsons'\n",
    "    education_experience_list = []\n",
    "    \n",
    "    for json_file in ['experiences.json', 'education.json']:\n",
    "        json_path = member_json_dir / json_file\n",
    "        if json_path.exists():\n",
    "            with open(json_path, 'r') as f:\n",
    "                education_experience_list += json.load(f)\n",
    "    \n",
    "    return pd.DataFrame(education_experience_list)\n"
   ]
  },
  {
   "cell_type": "code",
   "execution_count": null,
   "metadata": {},
   "outputs": [],
   "source": [
    "\n",
    "def extract_member_academic_role(df):\n",
    "    role = df.iloc[0].get('role', None)\n",
    "    degree = df.iloc[0].get('degree', None)\n",
    "\n",
    "    if role in ['Assistant Professor', 'Professor']:\n",
    "        return 'Professor'\n",
    "    elif role in ['Visiting Researcher', 'Postdoctoral Researcher']:\n",
    "        return 'Postdoctoral Researcher'\n",
    "    elif degree in ['Masters', 'PhD']:\n",
    "        return 'Graduate Student'\n",
    "    elif degree == 'Bachelors':\n",
    "        return 'Graduate Student' if df.iloc[0].get('degree') is None else 'Undergraduate Student'\n",
    "    else:\n",
    "        return \"\"\n",
    "\n"
   ]
  },
  {
   "cell_type": "code",
   "execution_count": null,
   "metadata": {},
   "outputs": [],
   "source": [
    "\n",
    "current_people_page_list = []\n",
    "alumni_people_page_list = []\n",
    "\n",
    "for member_dir in MEMBERS_DIR_PATH.glob('*'):\n",
    "    member_info_fname = member_dir / 'info.json'\n",
    "    if not member_info_fname.exists():\n",
    "        continue\n",
    "\n",
    "    with open(member_info_fname, 'r') as f:\n",
    "        member_info = json.load(f)\n",
    "\n",
    "    education_experience_df = parse_education_experience_df(member_dir)\n",
    "\n",
    "    # Ensure 'end_date' and 'group' columns are present in the dataframe\n",
    "    if 'end_date' not in education_experience_df.columns:\n",
    "        education_experience_df['end_date'] = None\n",
    "    if 'group' not in education_experience_df.columns:\n",
    "        education_experience_df['group'] = ''\n",
    "\n",
    "    current_members = education_experience_df[\n",
    "        education_experience_df['group'].isin(['Kerzendorf Group', 'DTI', 'ICER']) & \n",
    "        education_experience_df['end_date'].isna()\n",
    "    ]\n",
    "    alumni_members = education_experience_df[\n",
    "        education_experience_df['group'].isin(['Kerzendorf Group', 'DTI', 'ICER']) & \n",
    "        ~education_experience_df['end_date'].isna()\n",
    "    ]\n",
    "\n",
    "    member_id = member_info['id']\n",
    "    first_name = member_info['first_name']\n",
    "    last_name = member_info['last_name']\n",
    "    nickname = member_info.get('nick_name', None)\n",
    "    name = f'{nickname if nickname else first_name} {last_name}'\n",
    "\n",
    "    if not current_members.empty:\n",
    "        current_academic_role = extract_member_academic_role(current_members)\n",
    "        current_people_page_list.append({\"Name\": name, \"academic_role\": current_academic_role, \"ID\": member_id})\n",
    "    if not alumni_members.empty:\n",
    "        alumni_academic_role = extract_member_academic_role(alumni_members)\n",
    "        alumni_people_page_list.append({\"Name\": name, \"academic_role\": alumni_academic_role, \"ID\": member_id})\n"
   ]
  },
  {
   "cell_type": "code",
   "execution_count": 54,
   "metadata": {},
   "outputs": [
    {
     "data": {
      "text/plain": [
       "[{'Name': 'Josh Shields', 'academic_role': '', 'ID': 'josh_shields'},\n",
       " {'Name': 'Anirban  Dutta',\n",
       "  'academic_role': 'Postdoctoral Researcher',\n",
       "  'ID': 'anirban_dutta'},\n",
       " {'Name': 'Erin Visser', 'academic_role': '', 'ID': 'erin_visser'},\n",
       " {'Name': 'Vicente  Amado Olivo', 'academic_role': '', 'ID': 'vicente_amado'},\n",
       " {'Name': 'Yuki Matsumura', 'academic_role': '', 'ID': 'yuki_matsumura'},\n",
       " {'Name': 'Andrew Fullard', 'academic_role': '', 'ID': 'andrew_fullard'},\n",
       " {'Name': 'Hayden Monk', 'academic_role': '', 'ID': 'hayden_monk'},\n",
       " {'Name': 'Atharva Arya', 'academic_role': '', 'ID': 'atharva_arya'},\n",
       " {'Name': 'Sona Chitchyan', 'academic_role': '', 'ID': 'sona_chitchyan'},\n",
       " {'Name': 'Iliomar Rodriguez-Ramos',\n",
       "  'academic_role': '',\n",
       "  'ID': 'iliomar_rodriguez_ramos'},\n",
       " {'Name': 'Jaladh Singhal', 'academic_role': '', 'ID': 'jaladh_singhal'},\n",
       " {'Name': \"Jack O'Brien\", 'academic_role': '', 'ID': 'jack_o_brien'},\n",
       " {'Name': 'Cecelia Powers', 'academic_role': '', 'ID': 'cecelia_powers'},\n",
       " {'Name': 'Jing Lu',\n",
       "  'academic_role': 'Postdoctoral Researcher',\n",
       "  'ID': 'jing_lu'},\n",
       " {'Name': 'Alexander Grunewald',\n",
       "  'academic_role': '',\n",
       "  'ID': 'alexander_grunewald'},\n",
       " {'Name': 'Harshul Gupta', 'academic_role': '', 'ID': 'harshul_gupta'},\n",
       " {'Name': 'Wolfgang Kerzendorf',\n",
       "  'academic_role': 'Professor',\n",
       "  'ID': 'wolfgang_kerzendorf'}]"
      ]
     },
     "execution_count": 54,
     "metadata": {},
     "output_type": "execute_result"
    }
   ],
   "source": [
    "current_people_page_list\n"
   ]
  },
  {
   "cell_type": "code",
   "execution_count": 55,
   "metadata": {},
   "outputs": [
    {
     "data": {
      "text/plain": [
       "[{'Name': 'Josh Shields', 'academic_role': '', 'ID': 'josh_shields'},\n",
       " {'Name': 'Isaac Smith', 'academic_role': '', 'ID': 'isaac_smith'},\n",
       " {'Name': 'Tripp Dow', 'academic_role': '', 'ID': 'richard_dow'},\n",
       " {'Name': 'Kevin Cawley', 'academic_role': '', 'ID': 'kevin_cawley'},\n",
       " {'Name': 'Sofia Biriouk', 'academic_role': '', 'ID': 'sofia_biriouk'}]"
      ]
     },
     "execution_count": 55,
     "metadata": {},
     "output_type": "execute_result"
    }
   ],
   "source": [
    "alumni_people_page_list\n"
   ]
  }
 ],
 "metadata": {
  "kernelspec": {
   "display_name": "Python 3",
   "language": "python",
   "name": "python3"
  },
  "language_info": {
   "codemirror_mode": {
    "name": "ipython",
    "version": 3
   },
   "file_extension": ".py",
   "mimetype": "text/x-python",
   "name": "python",
   "nbconvert_exporter": "python",
   "pygments_lexer": "ipython3",
   "version": "3.8.2"
  },
  "orig_nbformat": 4
 },
 "nbformat": 4,
 "nbformat_minor": 2
}
