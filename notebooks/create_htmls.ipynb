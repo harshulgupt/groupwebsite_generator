{
 "cells": [
  {
   "attachments": {},
   "cell_type": "markdown",
   "metadata": {},
   "source": [
    "### This notebook consist of code for creating the html files for the website each time data is updated."
   ]
  },
  {
   "attachments": {},
   "cell_type": "markdown",
   "metadata": {},
   "source": [
    "##### Set-up"
   ]
  },
  {
   "cell_type": "code",
   "execution_count": 317,
   "metadata": {},
   "outputs": [],
   "source": [
    "#Importing classes from the Jinja2 library to load and render templates.\n",
    "import json\n",
    "import os\n",
    "import pandas as pd\n",
    "from jinja2 import Environment, FileSystemLoader\n",
    "from jinja2.exceptions import UndefinedError\n",
    "from pathlib import Path"
   ]
  },
  {
   "cell_type": "code",
   "execution_count": 318,
   "metadata": {},
   "outputs": [],
   "source": [
    "# Defining paths\n",
    "GROUP_DATA_DIR = Path(\"/Users/harshul/projects/kgwebsite/group-data\")\n",
    "\n",
    "MEMBERS_DIR_PATH = GROUP_DATA_DIR / 'members/'\n",
    "WEBSITE_DATA_PATH = GROUP_DATA_DIR / 'website_data/'\n",
    "CONTENT_DIR_PATH = WEBSITE_DATA_PATH / 'content'\n",
    "TEMPLATE_DIR_PATH = GROUP_DATA_DIR.parent / 'groupwebsite_generator' / 'templates'\n",
    "HOSTING_PATH = GROUP_DATA_DIR.parent / 'kerzendorf-group.github.io' \n"
   ]
  },
  {
   "cell_type": "code",
   "execution_count": 319,
   "metadata": {},
   "outputs": [],
   "source": [
    "#Function for creating proper html file names\n",
    "def page_link(a):\n",
    "    if ' ' in a:\n",
    "        return a.replace(' ', '_')\n",
    "    else:\n",
    "        return a"
   ]
  },
  {
   "cell_type": "code",
   "execution_count": 320,
   "metadata": {},
   "outputs": [],
   "source": [
    "# creating dataframe for education and experiences\n",
    "def parse_education_experience_df(member_dir):\n",
    "    member_json_dir = member_dir / 'jsons'\n",
    "    education_experience_list = []\n",
    "\n",
    "    if (member_experiences_dir := (member_json_dir / 'experiences.json')).exists():\n",
    "        with open(member_experiences_dir, 'r') as f:\n",
    "            education_experience_list += json.load(f)\n",
    "    else:\n",
    "        print(member_experiences_dir)\n",
    "    \n",
    "    if (member_education_dir := (member_json_dir / 'education.json')).exists():\n",
    "        with open(member_education_dir, 'r') as f:\n",
    "            education_experience_list += json.load(f)\n",
    "    \n",
    "    return pd.DataFrame(education_experience_list)\n"
   ]
  },
  {
   "cell_type": "code",
   "execution_count": 321,
   "metadata": {},
   "outputs": [],
   "source": [
    "# To see if member is current member and their roles\n",
    "member_records = []\n",
    "\n",
    "def extract_member_academic_role(education_experience_df):\n",
    "    current_academic_role = \"\"  \n",
    "    is_current_member = False\n",
    "    if 'end_date' not in education_experience_df.columns:\n",
    "        education_experience_df['end_date'] = None\n",
    "    filtered_e_e_df = education_experience_df[education_experience_df.end_date.isna()]\n",
    "    if 'institution' in filtered_e_e_df.columns:\n",
    "        filtered_e_e_df = filtered_e_e_df[filtered_e_e_df['institution'] == 'Michigan State University']\n",
    "    else:\n",
    "\n",
    "        print(\"No 'institution' column found in dataframe.\")\n",
    "        filtered_e_e_df = pd.DataFrame()\n",
    "\n",
    "    \n",
    "    \n",
    "\n",
    "    if len(filtered_e_e_df) == 0: \n",
    "       pass\n",
    "        \n",
    "    \n",
    "    elif len(filtered_e_e_df) == 1:\n",
    "        role = filtered_e_e_df.iloc[0].get('role', None)  \n",
    "        degree = filtered_e_e_df.iloc[0].get('degree', None)  \n",
    "        if role in ['Assistant Professor', 'Professor']:\n",
    "            current_academic_role = 'Professor'\n",
    "        elif role in ['Visiting Researcher', 'Postdoctoral Researcher']:\n",
    "                current_academic_role = 'Postdoctoral Researcher'  \n",
    "        elif degree in ['Masters', 'PhD']:\n",
    "                current_academic_role = 'Graduate Student'     \n",
    "        elif degree == 'Bachelors':\n",
    "\n",
    "                current_academic_role = 'Graduate Student' if filtered_e_e_df.iloc[0].get('degree')   is None else 'Undergraduate Student'\n",
    "        is_current_member = True\n",
    "         \n",
    "\n",
    "    else:\n",
    "        raise ValueError('Not sure what happened multiple positions at MSU')\n",
    "    \n",
    "    return current_academic_role, is_current_member\n",
    "\n"
   ]
  },
  {
   "cell_type": "code",
   "execution_count": 322,
   "metadata": {},
   "outputs": [
    {
     "name": "stdout",
     "output_type": "stream",
     "text": [
      "/Users/harshul/projects/kgwebsite/group-data/members/erin_visser/jsons/experiences.json\n",
      "/Users/harshul/projects/kgwebsite/group-data/members/vicente_amado/jsons/experiences.json\n",
      "/Users/harshul/projects/kgwebsite/group-data/members/yuki_matsumura/jsons/experiences.json\n",
      "/Users/harshul/projects/kgwebsite/group-data/members/isaac_smith/jsons/experiences.json\n",
      "/Users/harshul/projects/kgwebsite/group-data/members/hayden_monk/jsons/experiences.json\n",
      "/Users/harshul/projects/kgwebsite/group-data/members/atharva_arya/jsons/experiences.json\n",
      "/Users/harshul/projects/kgwebsite/group-data/members/bea_lu/jsons/experiences.json\n",
      "/Users/harshul/projects/kgwebsite/group-data/members/sona_chitchyan/jsons/experiences.json\n",
      "No 'institution' column found in dataframe.\n",
      "/Users/harshul/projects/kgwebsite/group-data/members/iliomar_rodriguez_ramos/jsons/experiences.json\n",
      "/Users/harshul/projects/kgwebsite/group-data/members/jaladh_singhal/jsons/experiences.json\n",
      "/Users/harshul/projects/kgwebsite/group-data/members/jack_o_brien/jsons/experiences.json\n",
      "/Users/harshul/projects/kgwebsite/group-data/members/cecelia_powers/jsons/experiences.json\n",
      "/Users/harshul/projects/kgwebsite/group-data/members/alexander_grunewald/jsons/experiences.json\n"
     ]
    }
   ],
   "source": [
    "# for creating two lists\n",
    "\n",
    "current_people_page_list = []\n",
    "alumni_people_page_list = []\n",
    "\n",
    "\n",
    "for member_dir in MEMBERS_DIR_PATH.glob('*'):\n",
    "    if not (member_info_fname := member_dir / 'info.json').exists():\n",
    "        continue\n",
    "    else:\n",
    "        member_info = json.load(open(member_info_fname, 'r'))\n",
    "    education_experience_df = parse_education_experience_df(member_dir)\n",
    "    current_academic_role, is_current_member = extract_member_academic_role(education_experience_df)\n",
    "\n",
    "    \n",
    "    first_name = member_info['first_name']\n",
    "    last_name = member_info['last_name']\n",
    "    nickname = member_info.get('nick_name', None)\n",
    "\n",
    "    name = f'{nickname if nickname else first_name} {last_name}'\n",
    "\n",
    "    if is_current_member:\n",
    "        current_people_page_list.append({\"Name\": name, \"academic_role\": current_academic_role})\n",
    "    else:\n",
    "        alumni_people_page_list.append({\"Name\": name, \"academic_role\": current_academic_role})\n",
    "\n",
    "\n"
   ]
  },
  {
   "cell_type": "code",
   "execution_count": 323,
   "metadata": {},
   "outputs": [
    {
     "data": {
      "text/plain": [
       "[{'Name': 'Josh Shields', 'academic_role': 'Graduate Student'},\n",
       " {'Name': 'Anirban  Dutta', 'academic_role': 'Postdoctoral Researcher'},\n",
       " {'Name': 'Erin Visser', 'academic_role': 'Undergraduate Student'},\n",
       " {'Name': 'Vicente  Amado Olivo', 'academic_role': 'Graduate Student'},\n",
       " {'Name': 'Yuki Matsumura', 'academic_role': 'Graduate Student'},\n",
       " {'Name': 'Andrew Fullard', 'academic_role': ''},\n",
       " {'Name': 'Hayden Monk', 'academic_role': 'Undergraduate Student'},\n",
       " {'Name': 'Bea Lu', 'academic_role': 'Undergraduate Student'},\n",
       " {'Name': \"Jack O'Brien\", 'academic_role': 'Graduate Student'},\n",
       " {'Name': 'Cecelia Powers', 'academic_role': 'Undergraduate Student'},\n",
       " {'Name': 'Sofia Biriouk', 'academic_role': 'Undergraduate Student'},\n",
       " {'Name': 'Jing Lu', 'academic_role': 'Postdoctoral Researcher'},\n",
       " {'Name': 'Wolfgang Kerzendorf', 'academic_role': 'Professor'}]"
      ]
     },
     "execution_count": 323,
     "metadata": {},
     "output_type": "execute_result"
    }
   ],
   "source": [
    "current_people_page_list"
   ]
  },
  {
   "cell_type": "code",
   "execution_count": 324,
   "metadata": {},
   "outputs": [
    {
     "data": {
      "text/plain": [
       "[{'Name': 'Isaac Smith', 'academic_role': ''},\n",
       " {'Name': 'Atharva Arya', 'academic_role': ''},\n",
       " {'Name': 'Tripp Dow', 'academic_role': ''},\n",
       " {'Name': 'Sona Chitchyan', 'academic_role': ''},\n",
       " {'Name': 'Iliomar Rodriguez-Ramos', 'academic_role': ''},\n",
       " {'Name': 'Jaladh Singhal', 'academic_role': ''},\n",
       " {'Name': 'Template Person', 'academic_role': ''},\n",
       " {'Name': 'Kevin Cawley', 'academic_role': ''},\n",
       " {'Name': 'Alexander Grunewald', 'academic_role': ''},\n",
       " {'Name': 'Harshul Gupta', 'academic_role': ''}]"
      ]
     },
     "execution_count": 324,
     "metadata": {},
     "output_type": "execute_result"
    }
   ],
   "source": [
    "alumni_people_page_list"
   ]
  },
  {
   "cell_type": "code",
   "execution_count": 325,
   "metadata": {},
   "outputs": [],
   "source": [
    "#Creating an instance of the Environment class that looks for templates. Page_link is set to the global variable so that it can be accessed by all templates\n",
    "environment = Environment(loader=FileSystemLoader(TEMPLATE_DIR_PATH), extensions=['jinja2.ext.loopcontrols'])\n",
    "environment.globals['page_link'] = page_link\n"
   ]
  },
  {
   "cell_type": "code",
   "execution_count": 326,
   "metadata": {},
   "outputs": [],
   "source": [
    "content_id_data = {\"article_id\": [], \"category\": [], \"date\": [], \"tags\": []}\n",
    "\n",
    "\n",
    "for json_file in os.listdir(CONTENT_DIR_PATH):\n",
    "    if json_file.endswith('.json'):\n",
    "        json_path = os.path.join(CONTENT_DIR_PATH, json_file)\n",
    "        with open(json_path, 'r') as file:\n",
    "            info = json.load(file)\n",
    "            if info.get('display'):\n",
    "                content_id_data['article_id'].append(info.get('article_id'))\n",
    "                content_id_data['category'].append(info.get('category'))\n",
    "                content_id_data['date'].append(info.get('article_date'))\n",
    "                content_id_data['tags'].append(info.get('tags'))\n",
    "\n",
    "content_df = pd.DataFrame(content_id_data)\n",
    "content_df['date'] = pd.to_datetime(content_df['date'], format='%m-%d-%Y')\n",
    "content_df = content_df.groupby('category').apply(lambda x: x.sort_values('date', ascending=False)).reset_index(drop=True)"
   ]
  },
  {
   "cell_type": "code",
   "execution_count": 327,
   "metadata": {},
   "outputs": [
    {
     "name": "stderr",
     "output_type": "stream",
     "text": [
      "/var/folders/4k/bxm54w1d3tn2gj52lyx4vp200000gn/T/ipykernel_75508/2653118682.py:2: FutureWarning: Not prepending group keys to the result index of transform-like apply. In the future, the group keys will be included in the index, regardless of whether the applied function returns a like-indexed object.\n",
      "To preserve the previous behavior, use\n",
      "\n",
      "\t>>> .groupby(..., group_keys=False)\n",
      "\n",
      "To adopt the future behavior and silence this warning, use \n",
      "\n",
      "\t>>> .groupby(..., group_keys=True)\n",
      "  research_content = research_content_unsorted.groupby('category').apply(lambda x: x.sort_values('date', ascending=False)).reset_index(drop=True)\n"
     ]
    }
   ],
   "source": [
    "research_content_unsorted = content_df[content_df['tags'].apply(lambda x: any('research' in tag for tag in x))]\n",
    "research_content = research_content_unsorted.groupby('category').apply(lambda x: x.sort_values('date', ascending=False)).reset_index(drop=True)"
   ]
  },
  {
   "cell_type": "code",
   "execution_count": 328,
   "metadata": {},
   "outputs": [],
   "source": [
    "news_content_unsorted = content_df[content_df['tags'].apply(lambda x: any('news' in tag for tag in x))]\n",
    "news_content = news_content_unsorted.sort_values(by=\"date\", ascending=False)"
   ]
  },
  {
   "cell_type": "code",
   "execution_count": 329,
   "metadata": {},
   "outputs": [],
   "source": [
    "latest_content_df = pd.DataFrame()\n",
    "\n",
    "for category in content_df.category.unique():\n",
    "    latest_data = pd.Series(content_df[content_df.category == category].iloc[0])\n",
    "    latest_content_df = latest_content_df._append(latest_data, ignore_index=True)\n",
    "\n",
    "latest_content_df['date'] = pd.to_datetime(latest_content_df['date'], format='%m-%d-%Y')\n",
    "latest_content_df = latest_content_df.sort_values(by='date', ascending=False)"
   ]
  },
  {
   "cell_type": "code",
   "execution_count": 330,
   "metadata": {},
   "outputs": [],
   "source": [
    "json_files = ['general', 'homepage', 'research', 'support', 'contact']\n",
    "data = {}\n",
    "\n",
    "for json_file in json_files:\n",
    "   \n",
    "    json_file_path = WEBSITE_DATA_PATH / f\"{json_file}.json\"\n",
    "\n",
    "    try:\n",
    "        with open(json_file_path, 'r') as json_var:\n",
    "            data[json_file] = json.load(json_var)\n",
    "    except (FileNotFoundError, json.JSONDecodeError):\n",
    "        pass"
   ]
  },
  {
   "cell_type": "code",
   "execution_count": 331,
   "metadata": {},
   "outputs": [
    {
     "name": "stdout",
     "output_type": "stream",
     "text": [
      "/Users/harshul/projects/kgwebsite/groupwebsite_generator/notebooks\n"
     ]
    }
   ],
   "source": [
    "!pwd"
   ]
  },
  {
   "attachments": {},
   "cell_type": "markdown",
   "metadata": {},
   "source": [
    "##### Homepage"
   ]
  },
  {
   "cell_type": "code",
   "execution_count": 332,
   "metadata": {},
   "outputs": [],
   "source": [
    "homepage_template = environment.get_template('homepage.html.j2')"
   ]
  },
  {
   "cell_type": "code",
   "execution_count": 333,
   "metadata": {},
   "outputs": [
    {
     "ename": "UndefinedError",
     "evalue": "'ContentData' is undefined",
     "output_type": "error",
     "traceback": [
      "\u001b[0;31m---------------------------------------------------------------------------\u001b[0m",
      "\u001b[0;31mUndefinedError\u001b[0m                            Traceback (most recent call last)",
      "\u001b[1;32m/Users/harshul/projects/kgwebsite/groupwebsite_generator/notebooks/create_htmls.ipynb Cell 20\u001b[0m line \u001b[0;36m2\n\u001b[1;32m      <a href='vscode-notebook-cell:/Users/harshul/projects/kgwebsite/groupwebsite_generator/notebooks/create_htmls.ipynb#X24sZmlsZQ%3D%3D?line=0'>1</a>\u001b[0m homepage_content \u001b[39m=\u001b[39m \\\n\u001b[0;32m----> <a href='vscode-notebook-cell:/Users/harshul/projects/kgwebsite/groupwebsite_generator/notebooks/create_htmls.ipynb#X24sZmlsZQ%3D%3D?line=1'>2</a>\u001b[0m     homepage_template\u001b[39m.\u001b[39;49mrender(general\u001b[39m=\u001b[39;49mdata[\u001b[39m'\u001b[39;49m\u001b[39mgeneral\u001b[39;49m\u001b[39m'\u001b[39;49m],\n\u001b[1;32m      <a href='vscode-notebook-cell:/Users/harshul/projects/kgwebsite/groupwebsite_generator/notebooks/create_htmls.ipynb#X24sZmlsZQ%3D%3D?line=2'>3</a>\u001b[0m                              homepage\u001b[39m=\u001b[39;49mdata[\u001b[39m'\u001b[39;49m\u001b[39mhomepage\u001b[39;49m\u001b[39m'\u001b[39;49m],\n\u001b[1;32m      <a href='vscode-notebook-cell:/Users/harshul/projects/kgwebsite/groupwebsite_generator/notebooks/create_htmls.ipynb#X24sZmlsZQ%3D%3D?line=3'>4</a>\u001b[0m                              recent_content\u001b[39m=\u001b[39;49mlatest_content_df\u001b[39m.\u001b[39;49mto_dict(orient\u001b[39m=\u001b[39;49m\u001b[39m'\u001b[39;49m\u001b[39mrecords\u001b[39;49m\u001b[39m'\u001b[39;49m))\n",
      "File \u001b[0;32m~/Library/Python/3.8/lib/python/site-packages/jinja2/environment.py:1301\u001b[0m, in \u001b[0;36mTemplate.render\u001b[0;34m(self, *args, **kwargs)\u001b[0m\n\u001b[1;32m   1299\u001b[0m     \u001b[39mreturn\u001b[39;00m \u001b[39mself\u001b[39m\u001b[39m.\u001b[39menvironment\u001b[39m.\u001b[39mconcat(\u001b[39mself\u001b[39m\u001b[39m.\u001b[39mroot_render_func(ctx))  \u001b[39m# type: ignore\u001b[39;00m\n\u001b[1;32m   1300\u001b[0m \u001b[39mexcept\u001b[39;00m \u001b[39mException\u001b[39;00m:\n\u001b[0;32m-> 1301\u001b[0m     \u001b[39mself\u001b[39;49m\u001b[39m.\u001b[39;49menvironment\u001b[39m.\u001b[39;49mhandle_exception()\n",
      "File \u001b[0;32m~/Library/Python/3.8/lib/python/site-packages/jinja2/environment.py:936\u001b[0m, in \u001b[0;36mEnvironment.handle_exception\u001b[0;34m(self, source)\u001b[0m\n\u001b[1;32m    931\u001b[0m \u001b[39m\u001b[39m\u001b[39m\"\"\"Exception handling helper.  This is used internally to either raise\u001b[39;00m\n\u001b[1;32m    932\u001b[0m \u001b[39mrewritten exceptions or return a rendered traceback for the template.\u001b[39;00m\n\u001b[1;32m    933\u001b[0m \u001b[39m\"\"\"\u001b[39;00m\n\u001b[1;32m    934\u001b[0m \u001b[39mfrom\u001b[39;00m \u001b[39m.\u001b[39;00m\u001b[39mdebug\u001b[39;00m \u001b[39mimport\u001b[39;00m rewrite_traceback_stack\n\u001b[0;32m--> 936\u001b[0m \u001b[39mraise\u001b[39;00m rewrite_traceback_stack(source\u001b[39m=\u001b[39msource)\n",
      "File \u001b[0;32m~/projects/kgwebsite/groupwebsite_generator/templates/homepage.html.j2:189\u001b[0m, in \u001b[0;36mtop-level template code\u001b[0;34m()\u001b[0m\n\u001b[1;32m    187\u001b[0m <div class=\"row justify-content-center\">\n\u001b[1;32m    188\u001b[0m     {% for content in recent_content[:3] %}\n\u001b[0;32m--> 189\u001b[0m     {% set content_data = ContentData(content['article_id']) %}\n\u001b[1;32m    190\u001b[0m     <div class=\"col-lg-4 col-md-6\">\n\u001b[1;32m    191\u001b[0m         <div class=\"about-single\" style=\"width: 374px; height: 512px;\">\n",
      "File \u001b[0;32m~/Library/Python/3.8/lib/python/site-packages/jinja2/utils.py:83\u001b[0m, in \u001b[0;36m_PassArg.from_obj\u001b[0;34m(cls, obj)\u001b[0m\n\u001b[1;32m     81\u001b[0m \u001b[39m@classmethod\u001b[39m\n\u001b[1;32m     82\u001b[0m \u001b[39mdef\u001b[39;00m \u001b[39mfrom_obj\u001b[39m(\u001b[39mcls\u001b[39m, obj: F) \u001b[39m-\u001b[39m\u001b[39m>\u001b[39m t\u001b[39m.\u001b[39mOptional[\u001b[39m\"\u001b[39m\u001b[39m_PassArg\u001b[39m\u001b[39m\"\u001b[39m]:\n\u001b[0;32m---> 83\u001b[0m     \u001b[39mif\u001b[39;00m \u001b[39mhasattr\u001b[39;49m(obj, \u001b[39m\"\u001b[39;49m\u001b[39mjinja_pass_arg\u001b[39;49m\u001b[39m\"\u001b[39;49m):\n\u001b[1;32m     84\u001b[0m         \u001b[39mreturn\u001b[39;00m obj\u001b[39m.\u001b[39mjinja_pass_arg  \u001b[39m# type: ignore\u001b[39;00m\n\u001b[1;32m     86\u001b[0m     \u001b[39mreturn\u001b[39;00m \u001b[39mNone\u001b[39;00m\n",
      "\u001b[0;31mUndefinedError\u001b[0m: 'ContentData' is undefined"
     ]
    }
   ],
   "source": [
    "homepage_content = \\\n",
    "    homepage_template.render(general=data['general'],\n",
    "                             homepage=data['homepage'],\n",
    "                             recent_content=latest_content_df.to_dict(orient='records'))"
   ]
  },
  {
   "cell_type": "code",
   "execution_count": null,
   "metadata": {},
   "outputs": [],
   "source": [
    "with open('../kerzendorf-group.github.io/index.html', mode='w', encoding='utf-8') as Homepage:\n",
    "    Homepage.write(homepage_content)"
   ]
  },
  {
   "attachments": {},
   "cell_type": "markdown",
   "metadata": {},
   "source": [
    "##### People Page"
   ]
  },
  {
   "cell_type": "code",
   "execution_count": 337,
   "metadata": {},
   "outputs": [],
   "source": [
    "people_template = environment.get_template(\"people.html.j2\")"
   ]
  },
  {
   "cell_type": "code",
   "execution_count": 338,
   "metadata": {},
   "outputs": [],
   "source": [
    "people_content = people_template.render(general=data[\"general\"], \n",
    "                                        current_members=current_people_page_list)"
   ]
  },
  {
   "cell_type": "code",
   "execution_count": 339,
   "metadata": {},
   "outputs": [],
   "source": [
    "people_file_path = HOSTING_PATH / \"People.html\"\n",
    "\n",
    "with open(people_file_path, mode=\"w\", encoding=\"utf-8\") as people:\n",
    "    people.write(people_content)"
   ]
  },
  {
   "attachments": {},
   "cell_type": "markdown",
   "metadata": {},
   "source": [
    "##### Individual People Page"
   ]
  },
  {
   "cell_type": "code",
   "execution_count": null,
   "metadata": {},
   "outputs": [],
   "source": [
    "ind_person_template = environment.get_template(\"individual_person.html.j2\")"
   ]
  },
  {
   "cell_type": "code",
   "execution_count": null,
   "metadata": {},
   "outputs": [],
   "source": [
    "for person in people_df['id']:\n",
    "            filename = f\"../kerzendorf-group.github.io/members/{ person }/{ person }.html\"\n",
    "            ind_person_content = ind_person_template.render(general=data[\"general\"], \n",
    "                                                            member_id=person, \n",
    "                                                            content=content_df.to_dict(orient='records'))\n",
    "            with open(filename, mode=\"w\", encoding=\"utf-8\") as page:\n",
    "                page.write(ind_person_content)"
   ]
  },
  {
   "attachments": {},
   "cell_type": "markdown",
   "metadata": {},
   "source": [
    "##### Research Page"
   ]
  },
  {
   "cell_type": "code",
   "execution_count": null,
   "metadata": {},
   "outputs": [],
   "source": [
    "research_template = environment.get_template(\"research.html.j2\")"
   ]
  },
  {
   "cell_type": "code",
   "execution_count": null,
   "metadata": {},
   "outputs": [],
   "source": [
    "main_page_research_content = research_template.render(general=data[\"general\"],\n",
    "                                            content=research_content)"
   ]
  },
  {
   "cell_type": "code",
   "execution_count": null,
   "metadata": {},
   "outputs": [],
   "source": [
    "with open(\"../kerzendorf-group.github.io/Research.html\", mode=\"w\", encoding=\"utf-8\") as research:\n",
    "        research.write(main_page_research_content)"
   ]
  },
  {
   "cell_type": "code",
   "execution_count": null,
   "metadata": {},
   "outputs": [],
   "source": [
    "sub_research_template = environment.get_template(\"sub_research_frontpage.html.j2\")"
   ]
  },
  {
   "cell_type": "code",
   "execution_count": null,
   "metadata": {},
   "outputs": [],
   "source": [
    "for category in content_df.loc[content_df.category != \"News\", \"category\"].unique():\n",
    "        sub_research_content = sub_research_template.render(general=data[\"general\"], \n",
    "                                                            research_general=data[\"research\"], \n",
    "                                                            content = research_content,\n",
    "                                                            category = category\n",
    "                                                            )\n",
    "        folder_path = f\"../kerzendorf-group.github.io/sub_research/{page_link(category.lower())}\"\n",
    "        os.makedirs(folder_path, exist_ok=True)\n",
    "        with open(f\"../kerzendorf-group.github.io/sub_research/{page_link(category.lower())}.html\", mode=\"w\", encoding=\"utf-8\") as sub_research:\n",
    "            sub_research.write(sub_research_content)"
   ]
  },
  {
   "attachments": {},
   "cell_type": "markdown",
   "metadata": {},
   "source": [
    "##### Individual Research Page"
   ]
  },
  {
   "cell_type": "code",
   "execution_count": null,
   "metadata": {},
   "outputs": [],
   "source": [
    "template_no_twitter = environment.get_template(\"research_page_no_twitter.html.j2\")"
   ]
  },
  {
   "cell_type": "code",
   "execution_count": null,
   "metadata": {},
   "outputs": [],
   "source": [
    "for ind_research_keys, ind_research_values in research_content.iterrows():\n",
    "    if \"news\" not in ind_research_values.category.lower():\n",
    "        ind_research_content = template_no_twitter.render(general=data[\"general\"], \n",
    "                                                          member_ids = people_df['id'],\n",
    "                                                          nonmem_ids = non_mem_df['id'],\n",
    "                                                          content = ind_research_values\n",
    "                                                          \n",
    "                                                            )\n",
    "        folder_path = f\"../kerzendorf-group.github.io/sub_research/{page_link(ind_research_values.category.lower())}\"\n",
    "        os.makedirs(folder_path, exist_ok=True)\n",
    "        with open(f\"{ folder_path }/{page_link(ind_research_values.article_id.lower())}.html\", mode=\"w\", encoding=\"utf-8\") as ind_research_page:\n",
    "            ind_research_page.write(ind_research_content)"
   ]
  },
  {
   "attachments": {},
   "cell_type": "markdown",
   "metadata": {},
   "source": [
    "##### News Page"
   ]
  },
  {
   "cell_type": "code",
   "execution_count": null,
   "metadata": {},
   "outputs": [],
   "source": [
    "news_content"
   ]
  },
  {
   "cell_type": "code",
   "execution_count": null,
   "metadata": {},
   "outputs": [],
   "source": [
    "news_template = environment.get_template(\"news.html.j2\")"
   ]
  },
  {
   "cell_type": "code",
   "execution_count": null,
   "metadata": {},
   "outputs": [],
   "source": [
    "news_page_content = news_template.render(general=data[\"general\"],\n",
    "                                         content=news_content,\n",
    "                                         member_ids=people_df['id'],\n",
    "                                         nonmem_ids = non_mem_df['id'],\n",
    "                                         category=\"News\")"
   ]
  },
  {
   "cell_type": "code",
   "execution_count": null,
   "metadata": {},
   "outputs": [],
   "source": [
    "with open(\"../kerzendorf-group.github.io/News.html\", mode=\"w\", encoding=\"utf-8\") as news:\n",
    "        news.write(news_page_content)"
   ]
  },
  {
   "attachments": {},
   "cell_type": "markdown",
   "metadata": {},
   "source": [
    "##### Individual News Pages"
   ]
  },
  {
   "cell_type": "code",
   "execution_count": null,
   "metadata": {},
   "outputs": [],
   "source": [
    "news_template_no_twitter = environment.get_template(\"news_page_no_twitter.html.j2\")\n",
    "#news_template_twitter = environment.get_template(\"news_page_twitter.html.j2\")"
   ]
  },
  {
   "cell_type": "code",
   "execution_count": null,
   "metadata": {},
   "outputs": [],
   "source": [
    "for ind_news_keys, ind_news_values in news_content.iterrows():\n",
    "        ind_news_content = news_template_no_twitter.render(general=data[\"general\"], \n",
    "                                                          member_ids = people_df['id'],\n",
    "                                                          nonmem_ids = non_mem_df['id'],\n",
    "                                                          content = ind_news_values\n",
    "                                                            )\n",
    "        folder_path = f\"../kerzendorf-group.github.io/news/\"\n",
    "        os.makedirs(folder_path, exist_ok=True)\n",
    "        with open(f\"{ folder_path }/{page_link(ind_news_values.article_id.lower())}.html\", mode=\"w\", encoding=\"utf-8\") as ind_news_page:\n",
    "            ind_news_page.write(ind_news_content)"
   ]
  },
  {
   "attachments": {},
   "cell_type": "markdown",
   "metadata": {},
   "source": [
    "##### Support Page"
   ]
  },
  {
   "cell_type": "code",
   "execution_count": null,
   "metadata": {},
   "outputs": [],
   "source": [
    "support_template = environment.get_template('support.html.j2')"
   ]
  },
  {
   "cell_type": "code",
   "execution_count": null,
   "metadata": {},
   "outputs": [],
   "source": [
    "support_content = support_template.render(general=data[\"general\"], support=data[\"support\"])"
   ]
  },
  {
   "cell_type": "code",
   "execution_count": null,
   "metadata": {},
   "outputs": [],
   "source": [
    "with open('../kerzendorf-group.github.io/Support.html', mode='w', encoding='utf-8') as support:\n",
    "    support.write(support_content)"
   ]
  },
  {
   "attachments": {},
   "cell_type": "markdown",
   "metadata": {},
   "source": [
    "##### Contact"
   ]
  },
  {
   "cell_type": "code",
   "execution_count": null,
   "metadata": {},
   "outputs": [],
   "source": [
    "contact_template = environment.get_template('contact.html.j2')"
   ]
  },
  {
   "cell_type": "code",
   "execution_count": null,
   "metadata": {},
   "outputs": [],
   "source": [
    "contact_content = contact_template.render(general=data[\"general\"], contact=data[\"contact\"])"
   ]
  },
  {
   "cell_type": "code",
   "execution_count": null,
   "metadata": {},
   "outputs": [],
   "source": [
    "with open('../kerzendorf-group.github.io/Contact.html', mode='w', encoding='utf-8') as contact:\n",
    "    contact.write(contact_content)"
   ]
  }
 ],
 "metadata": {
  "kernelspec": {
   "display_name": "Python 3",
   "language": "python",
   "name": "python3"
  },
  "language_info": {
   "codemirror_mode": {
    "name": "ipython",
    "version": 3
   },
   "file_extension": ".py",
   "mimetype": "text/x-python",
   "name": "python",
   "nbconvert_exporter": "python",
   "pygments_lexer": "ipython3",
   "version": "3.8.2"
  },
  "orig_nbformat": 4
 },
 "nbformat": 4,
 "nbformat_minor": 2
}
