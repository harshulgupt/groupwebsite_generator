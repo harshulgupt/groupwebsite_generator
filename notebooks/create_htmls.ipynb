{
 "cells": [
  {
   "attachments": {},
   "cell_type": "markdown",
   "metadata": {},
   "source": [
    "### This notebook consist of code for creating the html files for the website each time data is updated."
   ]
  },
  {
   "attachments": {},
   "cell_type": "markdown",
   "metadata": {},
   "source": [
    "##### Set-up"
   ]
  },
  {
   "cell_type": "code",
   "execution_count": 1,
   "metadata": {},
   "outputs": [
    {
     "data": {
      "text/plain": [
       "'/Users/harshul/website clone/harshul/test/groupwebsite_generator'"
      ]
     },
     "execution_count": 1,
     "metadata": {},
     "output_type": "execute_result"
    }
   ],
   "source": [
    "# Change the working directory to the desired location\n",
    "# temporary, only for local\n",
    "import os\n",
    "#os.chdir(\"/home/bumblebealu/groupwebsite_generator/\")\n",
    "os.chdir(\"/Users/harshul/website clone/harshul/test/groupwebsite_generator\")\n",
    "os.getcwd()"
   ]
  },
  {
   "cell_type": "code",
   "execution_count": 2,
   "metadata": {},
   "outputs": [],
   "source": [
    "#Importing classes from the Jinja2 library to load and render templates.\n",
    "import json\n",
    "import os\n",
    "import pandas as pd\n",
    "from jinja2 import Environment, FileSystemLoader\n",
    "from jinja2.exceptions import UndefinedError"
   ]
  },
  {
   "cell_type": "code",
   "execution_count": 3,
   "metadata": {},
   "outputs": [],
   "source": [
    "#Function for creating proper html file names\n",
    "def page_link(a):\n",
    "    if ' ' in a:\n",
    "        return a.replace(' ', '_')\n",
    "    else:\n",
    "        return a"
   ]
  },
  {
   "cell_type": "code",
   "execution_count": 4,
   "metadata": {},
   "outputs": [],
   "source": [
    "import os\n",
    "import json\n",
    "\n",
    "class MemberData:\n",
    "    def __init__(self, member_id):\n",
    "        self.member_id = member_id\n",
    "        self.jsons_path, self.member_dir = self._find_jsons_path_and_member_dir(member_id)\n",
    "\n",
    "    def _find_jsons_path_and_member_dir(self, member_id):\n",
    "        members_dir = \"../group-data/members/\"\n",
    "\n",
    "        for dir_name in os.listdir(members_dir):\n",
    "            dir_path = os.path.join(members_dir, dir_name)\n",
    "            if os.path.isdir(dir_path):\n",
    "                jsons_dir = os.path.join(dir_path, \"jsons\")\n",
    "                info_file = os.path.join(dir_path, \"info.json\")\n",
    "                if os.path.isfile(info_file):\n",
    "                    with open(info_file, \"r\") as f:\n",
    "                        basic_info = json.load(f)\n",
    "                    if basic_info.get(\"id\") == member_id:\n",
    "                        return jsons_dir, dir_path\n",
    "        return \"Couldn't find {member_id}\", None\n",
    "\n",
    "    def _load_json(self, json_file):\n",
    "        file_path = os.path.join(self.jsons_path, json_file)\n",
    "        with open(file_path, \"r\") as f:\n",
    "            data = json.load(f)\n",
    "        return data\n",
    "\n",
    "    def basic_info(self):\n",
    "        info_file = os.path.join(self.member_dir, \"info.json\")\n",
    "        with open(info_file, \"r\") as f:\n",
    "            data = json.load(f)\n",
    "        if \"start_date\" in data:\n",
    "            data[\"group_start_date\"] = data.pop(\"start_date\")\n",
    "        if \"end_date\" in data:\n",
    "            data[\"group_end_date\"] = data.pop(\"end_date\")\n",
    "        return data\n",
    "    def education(self):\n",
    "        data = self._load_json(\"education.json\")\n",
    "        return data\n",
    "\n",
    "    def experience(self):\n",
    "        data = self._load_json(\"experience.json\")\n",
    "        return data\n",
    "\n",
    "    def outreach(self):\n",
    "        data = self._load_json(\"outreach.json\")\n",
    "        return data\n",
    "\n",
    "    def documents(self):\n",
    "        data = self._load_json(\"docs.json\")\n",
    "        return data\n",
    "\n",
    "    def publications(self):\n",
    "        data = self._load_json(\"publications.json\")\n",
    "        return data\n",
    "\n",
    "    def projects(self):\n",
    "        data = self._load_json(\"projects.json\")\n",
    "        return data\n",
    "\n",
    "    def social_links(self):\n",
    "        data = self._load_json(\"social_links.json\")\n",
    "        return data\n",
    "\n",
    "    def website_media(self):\n",
    "        data = self._load_json(\"website_media.json\")\n",
    "        return data\n"
   ]
  },
  {
   "cell_type": "code",
   "execution_count": 109,
   "metadata": {},
   "outputs": [
    {
     "data": {
      "text/plain": [
       "{'first_name': 'Wolfgang',\n",
       " 'last_name': 'Kerzendorf',\n",
       " 'nick_name': '',\n",
       " 'introduction': \"I am an astrophysicist deeply intrigued by nucleosynthesis in high-energy astrophysics transients. By studying these captivating phenomena, me and my team uncover their potential as valuable distance probes. I like to explore both nucleosynthesis and cosmic distance probes by using machine learning and statistics to reconstruct explosion from observational spectral time series. Beyond astrophysics, I am dedicated to improving the academic research landscape. As an active member of the open science community, I foster collaboration and knowledge sharing. Through computational meta-research, I utilize natural language processing and machine learning to enhance peer review, advancing its efficiency and effectiveness. Let's embark on an extraordinary journey of cosmic exploration and scientific discovery together.\",\n",
       " 'image_path': 'media/images/wolfgang.jpg',\n",
       " 'cover_image_path': 'media/images/cover.jpg',\n",
       " 'id': 'wolfgang_kerzendorf'}"
      ]
     },
     "execution_count": 109,
     "metadata": {},
     "output_type": "execute_result"
    }
   ],
   "source": [
    "\n",
    "member=MemberData(\"wolfgang_kerzendorf\")\n",
    "basic=member.basic_info()\n",
    "basic\n"
   ]
  },
  {
   "cell_type": "code",
   "execution_count": 110,
   "metadata": {},
   "outputs": [],
   "source": [
    "class ContentData:\n",
    "    def __init__(self, article_id):\n",
    "        self.article_id = article_id\n",
    "        self.json_path = self._find_jsons_path(article_id)\n",
    "\n",
    "    def _find_jsons_path(self, article_id):\n",
    "        content_dir = \"../group-data/website_data/content/\"\n",
    "        for file_name in os.listdir(content_dir):\n",
    "            file_path = os.path.join(content_dir, file_name)\n",
    "            if os.path.isfile(file_path):\n",
    "                with open(file_path, \"r\") as f:\n",
    "                    content_data = json.load(f)\n",
    "                if content_data.get(\"article_id\") == article_id:\n",
    "                    return file_path\n",
    "\n",
    "        raise ValueError(f\"Article ID '{article_id}' not found.\")\n",
    "\n",
    "    def load_json(self):\n",
    "        with open(self.json_path, \"r\") as f:\n",
    "            data = json.load(f)\n",
    "        return data\n"
   ]
  },
  {
   "cell_type": "code",
   "execution_count": 111,
   "metadata": {},
   "outputs": [],
   "source": [
    "#Creating an instance of the Environment class that looks for templates. Page_link is set to the global variable so that it can be accessed by all templates\n",
    "environment = Environment(loader=FileSystemLoader('templates/'),extensions=['jinja2.ext.loopcontrols'])\n",
    "environment.globals['page_link'] = page_link\n",
    "environment.globals['MemberData'] = MemberData\n",
    "environment.globals['ContentData'] = ContentData"
   ]
  },
  {
   "cell_type": "code",
   "execution_count": 112,
   "metadata": {},
   "outputs": [],
   "source": [
    "people_id_data = {\"id\": [], \"category\": []}\n",
    "non_mem_data = {\"id\": [], \"category\": []}\n",
    "members_directory = '../group-data/members/'\n",
    "\n",
    "for member_dir in os.listdir(members_directory):\n",
    "    member_path = os.path.join(members_directory, member_dir)\n",
    "    if os.path.isdir(member_path):\n",
    "        jsons_directory = os.path.join(member_path, 'jsons')\n",
    "        if os.path.isdir(jsons_directory):\n",
    "            for json_file in os.listdir(jsons_directory):\n",
    "                if json_file == 'basic_info.json':\n",
    "                    json_path = os.path.join(jsons_directory, json_file)\n",
    "                    with open(json_path, 'r') as file:\n",
    "                        info = json.load(file)\n",
    "                        if info.get('display') and info['display'].get('kg'):\n",
    "                            if info['display']['kg']:\n",
    "                                people_id_data['id'].append(info.get('id'))\n",
    "                                people_id_data['category'].append(info.get('category'))\n",
    "                        else:\n",
    "                            non_mem_data['id'].append(info.get('id'))\n",
    "                            non_mem_data['category'].append(info.get('category'))\n",
    "\n",
    "people_df = pd.DataFrame(people_id_data)\n",
    "non_mem_df = pd.DataFrame(non_mem_data)\n",
    "\n",
    "sorting_order = [\n",
    "    \"Faculty\", \"Postdoctoral Researchers\", \"Graduate Students\",\n",
    "    \"Undergraduate Students\", \"Researchers\", \"Research Software Engineers\"\n",
    "]\n",
    "\n",
    "people_df['sorting_order'] = people_df['category'].apply(lambda x: sorting_order.index(x) if x in sorting_order else -1)\n",
    "people_df = people_df.sort_values(['sorting_order', 'id'], ascending=[True, True])\n",
    "people_df.drop('sorting_order', axis=1, inplace=True)\n"
   ]
  },
  {
   "cell_type": "code",
   "execution_count": 113,
   "metadata": {},
   "outputs": [
    {
     "name": "stdout",
     "output_type": "stream",
     "text": [
      "                         id                     category\n",
      "19      wolfgang_kerzendorf                         None\n",
      "1             anirban_dutta     Postdoctoral Researchers\n",
      "17                  jing_lu     Postdoctoral Researchers\n",
      "13             jack_o_brien            Graduate Students\n",
      "0              josh_shields            Graduate Students\n",
      "10           sona_chitchyan            Graduate Students\n",
      "2             vicente_amado            Graduate Students\n",
      "3            yuki_matsumura            Graduate Students\n",
      "20      alexander-grunewald       Undergraduate Students\n",
      "9                    bea_lu       Undergraduate Students\n",
      "6               hayden_monk       Undergraduate Students\n",
      "11  iliomar_rodriguez_ramos       Undergraduate Students\n",
      "5               isaac_smith       Undergraduate Students\n",
      "15             kevin_cawley       Undergraduate Students\n",
      "8               richard_dow       Undergraduate Students\n",
      "16            sofia_biriouk       Undergraduate Students\n",
      "4            andrew_fullard                  Researchers\n",
      "14          template_person                  Researchers\n",
      "7              atharva_arya  Research Software Engineers\n",
      "18            harshul_gupta  Research Software Engineers\n",
      "12           jaladh_singhal  Research Software Engineers\n"
     ]
    },
    {
     "data": {
      "text/html": [
       "<div>\n",
       "<style scoped>\n",
       "    .dataframe tbody tr th:only-of-type {\n",
       "        vertical-align: middle;\n",
       "    }\n",
       "\n",
       "    .dataframe tbody tr th {\n",
       "        vertical-align: top;\n",
       "    }\n",
       "\n",
       "    .dataframe thead th {\n",
       "        text-align: right;\n",
       "    }\n",
       "</style>\n",
       "<table border=\"1\" class=\"dataframe\">\n",
       "  <thead>\n",
       "    <tr style=\"text-align: right;\">\n",
       "      <th></th>\n",
       "      <th>id</th>\n",
       "      <th>category</th>\n",
       "    </tr>\n",
       "  </thead>\n",
       "  <tbody>\n",
       "    <tr>\n",
       "      <th>19</th>\n",
       "      <td>wolfgang_kerzendorf</td>\n",
       "      <td>None</td>\n",
       "    </tr>\n",
       "    <tr>\n",
       "      <th>1</th>\n",
       "      <td>anirban_dutta</td>\n",
       "      <td>Postdoctoral Researchers</td>\n",
       "    </tr>\n",
       "    <tr>\n",
       "      <th>17</th>\n",
       "      <td>jing_lu</td>\n",
       "      <td>Postdoctoral Researchers</td>\n",
       "    </tr>\n",
       "    <tr>\n",
       "      <th>13</th>\n",
       "      <td>jack_o_brien</td>\n",
       "      <td>Graduate Students</td>\n",
       "    </tr>\n",
       "    <tr>\n",
       "      <th>0</th>\n",
       "      <td>josh_shields</td>\n",
       "      <td>Graduate Students</td>\n",
       "    </tr>\n",
       "    <tr>\n",
       "      <th>10</th>\n",
       "      <td>sona_chitchyan</td>\n",
       "      <td>Graduate Students</td>\n",
       "    </tr>\n",
       "    <tr>\n",
       "      <th>2</th>\n",
       "      <td>vicente_amado</td>\n",
       "      <td>Graduate Students</td>\n",
       "    </tr>\n",
       "    <tr>\n",
       "      <th>3</th>\n",
       "      <td>yuki_matsumura</td>\n",
       "      <td>Graduate Students</td>\n",
       "    </tr>\n",
       "    <tr>\n",
       "      <th>20</th>\n",
       "      <td>alexander-grunewald</td>\n",
       "      <td>Undergraduate Students</td>\n",
       "    </tr>\n",
       "    <tr>\n",
       "      <th>9</th>\n",
       "      <td>bea_lu</td>\n",
       "      <td>Undergraduate Students</td>\n",
       "    </tr>\n",
       "    <tr>\n",
       "      <th>6</th>\n",
       "      <td>hayden_monk</td>\n",
       "      <td>Undergraduate Students</td>\n",
       "    </tr>\n",
       "    <tr>\n",
       "      <th>11</th>\n",
       "      <td>iliomar_rodriguez_ramos</td>\n",
       "      <td>Undergraduate Students</td>\n",
       "    </tr>\n",
       "    <tr>\n",
       "      <th>5</th>\n",
       "      <td>isaac_smith</td>\n",
       "      <td>Undergraduate Students</td>\n",
       "    </tr>\n",
       "    <tr>\n",
       "      <th>15</th>\n",
       "      <td>kevin_cawley</td>\n",
       "      <td>Undergraduate Students</td>\n",
       "    </tr>\n",
       "    <tr>\n",
       "      <th>8</th>\n",
       "      <td>richard_dow</td>\n",
       "      <td>Undergraduate Students</td>\n",
       "    </tr>\n",
       "    <tr>\n",
       "      <th>16</th>\n",
       "      <td>sofia_biriouk</td>\n",
       "      <td>Undergraduate Students</td>\n",
       "    </tr>\n",
       "    <tr>\n",
       "      <th>4</th>\n",
       "      <td>andrew_fullard</td>\n",
       "      <td>Researchers</td>\n",
       "    </tr>\n",
       "    <tr>\n",
       "      <th>14</th>\n",
       "      <td>template_person</td>\n",
       "      <td>Researchers</td>\n",
       "    </tr>\n",
       "    <tr>\n",
       "      <th>7</th>\n",
       "      <td>atharva_arya</td>\n",
       "      <td>Research Software Engineers</td>\n",
       "    </tr>\n",
       "    <tr>\n",
       "      <th>18</th>\n",
       "      <td>harshul_gupta</td>\n",
       "      <td>Research Software Engineers</td>\n",
       "    </tr>\n",
       "    <tr>\n",
       "      <th>12</th>\n",
       "      <td>jaladh_singhal</td>\n",
       "      <td>Research Software Engineers</td>\n",
       "    </tr>\n",
       "  </tbody>\n",
       "</table>\n",
       "</div>"
      ],
      "text/plain": [
       "                         id                     category\n",
       "19      wolfgang_kerzendorf                         None\n",
       "1             anirban_dutta     Postdoctoral Researchers\n",
       "17                  jing_lu     Postdoctoral Researchers\n",
       "13             jack_o_brien            Graduate Students\n",
       "0              josh_shields            Graduate Students\n",
       "10           sona_chitchyan            Graduate Students\n",
       "2             vicente_amado            Graduate Students\n",
       "3            yuki_matsumura            Graduate Students\n",
       "20      alexander-grunewald       Undergraduate Students\n",
       "9                    bea_lu       Undergraduate Students\n",
       "6               hayden_monk       Undergraduate Students\n",
       "11  iliomar_rodriguez_ramos       Undergraduate Students\n",
       "5               isaac_smith       Undergraduate Students\n",
       "15             kevin_cawley       Undergraduate Students\n",
       "8               richard_dow       Undergraduate Students\n",
       "16            sofia_biriouk       Undergraduate Students\n",
       "4            andrew_fullard                  Researchers\n",
       "14          template_person                  Researchers\n",
       "7              atharva_arya  Research Software Engineers\n",
       "18            harshul_gupta  Research Software Engineers\n",
       "12           jaladh_singhal  Research Software Engineers"
      ]
     },
     "execution_count": 113,
     "metadata": {},
     "output_type": "execute_result"
    }
   ],
   "source": [
    "# People list\n",
    "print(people_df)\n",
    "non_mem_df"
   ]
  },
  {
   "cell_type": "code",
   "execution_count": 114,
   "metadata": {},
   "outputs": [],
   "source": [
    "content_id_data = {\"article_id\": [], \"category\": [], \"date\": [], \"tags\": []}\n",
    "content_directory = '../group-data/website_data/content'\n",
    "\n",
    "for json_file in os.listdir(content_directory):\n",
    "    if json_file.endswith('.json'):\n",
    "        json_path = os.path.join(content_directory, json_file)\n",
    "        with open(json_path, 'r') as file:\n",
    "            info = json.load(file)\n",
    "            if info.get('display'):\n",
    "                content_id_data['article_id'].append(info.get('article_id'))\n",
    "                content_id_data['category'].append(info.get('category'))\n",
    "                content_id_data['date'].append(info.get('article_date'))\n",
    "                content_id_data['tags'].append(info.get('tags'))\n",
    "\n",
    "content_df = pd.DataFrame(content_id_data)\n",
    "content_df['date'] = pd.to_datetime(content_df['date'], format='%m-%d-%Y')\n",
    "content_df = content_df.groupby('category').apply(lambda x: x.sort_values('date', ascending=False)).reset_index(drop=True)"
   ]
  },
  {
   "cell_type": "code",
   "execution_count": 115,
   "metadata": {},
   "outputs": [
    {
     "name": "stderr",
     "output_type": "stream",
     "text": [
      "<ipython-input-115-317efb93bc43>:2: FutureWarning: Not prepending group keys to the result index of transform-like apply. In the future, the group keys will be included in the index, regardless of whether the applied function returns a like-indexed object.\n",
      "To preserve the previous behavior, use\n",
      "\n",
      "\t>>> .groupby(..., group_keys=False)\n",
      "\n",
      "To adopt the future behavior and silence this warning, use \n",
      "\n",
      "\t>>> .groupby(..., group_keys=True)\n",
      "  research_content = research_content_unsorted.groupby('category').apply(lambda x: x.sort_values('date', ascending=False)).reset_index(drop=True)\n"
     ]
    }
   ],
   "source": [
    "research_content_unsorted = content_df[content_df['tags'].apply(lambda x: any('research' in tag for tag in x))]\n",
    "research_content = research_content_unsorted.groupby('category').apply(lambda x: x.sort_values('date', ascending=False)).reset_index(drop=True)"
   ]
  },
  {
   "cell_type": "code",
   "execution_count": 116,
   "metadata": {},
   "outputs": [],
   "source": [
    "news_content_unsorted = content_df[content_df['tags'].apply(lambda x: any('news' in tag for tag in x))]\n",
    "news_content = news_content_unsorted.sort_values(by=\"date\", ascending=False)"
   ]
  },
  {
   "cell_type": "code",
   "execution_count": 117,
   "metadata": {},
   "outputs": [],
   "source": [
    "latest_content_df = pd.DataFrame()\n",
    "\n",
    "for category in content_df.category.unique():\n",
    "    latest_data = pd.Series(content_df[content_df.category == category].iloc[0])\n",
    "    latest_content_df = latest_content_df._append(latest_data, ignore_index=True)\n",
    "\n",
    "latest_content_df['date'] = pd.to_datetime(latest_content_df['date'], format='%m-%d-%Y')\n",
    "latest_content_df = latest_content_df.sort_values(by='date', ascending=False)"
   ]
  },
  {
   "cell_type": "code",
   "execution_count": 118,
   "metadata": {},
   "outputs": [],
   "source": [
    "json_files = ['general', 'homepage', 'research', 'support', 'contact']\n",
    "data = {}\n",
    "\n",
    "for json_file in json_files:\n",
    "    try:\n",
    "        with open(f\"../group-data/website_data/{json_file}.json\") as json_var:\n",
    "            data[json_file] = json.load(json_var)\n",
    "    except (FileNotFoundError, json.JSONDecodeError):\n",
    "        pass"
   ]
  },
  {
   "attachments": {},
   "cell_type": "markdown",
   "metadata": {},
   "source": [
    "##### Homepage"
   ]
  },
  {
   "cell_type": "code",
   "execution_count": 119,
   "metadata": {},
   "outputs": [],
   "source": [
    "homepage_template = environment.get_template('homepage.html.j2')"
   ]
  },
  {
   "cell_type": "code",
   "execution_count": 120,
   "metadata": {},
   "outputs": [],
   "source": [
    "homepage_content = \\\n",
    "    homepage_template.render(general=data['general'],\n",
    "                             homepage=data['homepage'],\n",
    "                             recent_content=latest_content_df.to_dict(orient='records'))"
   ]
  },
  {
   "cell_type": "code",
   "execution_count": 121,
   "metadata": {},
   "outputs": [],
   "source": [
    "with open('../kerzendorf-group.github.io/index.html', mode='w', encoding='utf-8') as Homepage:\n",
    "    Homepage.write(homepage_content)"
   ]
  },
  {
   "attachments": {},
   "cell_type": "markdown",
   "metadata": {},
   "source": [
    "##### People Page"
   ]
  },
  {
   "cell_type": "code",
   "execution_count": 122,
   "metadata": {},
   "outputs": [],
   "source": [
    "people_template = environment.get_template(\"people.html.j2\")"
   ]
  },
  {
   "cell_type": "code",
   "execution_count": 123,
   "metadata": {},
   "outputs": [
    {
     "ename": "UndefinedError",
     "evalue": "'dict object' has no attribute 'academic_role'",
     "output_type": "error",
     "traceback": [
      "\u001b[0;31m---------------------------------------------------------------------------\u001b[0m",
      "\u001b[0;31mUndefinedError\u001b[0m                            Traceback (most recent call last)",
      "\u001b[0;32m<ipython-input-123-382336121060>\u001b[0m in \u001b[0;36m<module>\u001b[0;34m\u001b[0m\n\u001b[0;32m----> 1\u001b[0;31m people_content = people_template.render(general=data[\"general\"], \n\u001b[0m\u001b[1;32m      2\u001b[0m                                         members=non_mem_df['id'])\n",
      "\u001b[0;32m~/Library/Python/3.8/lib/python/site-packages/jinja2/environment.py\u001b[0m in \u001b[0;36mrender\u001b[0;34m(self, *args, **kwargs)\u001b[0m\n\u001b[1;32m   1299\u001b[0m             \u001b[0;32mreturn\u001b[0m \u001b[0mself\u001b[0m\u001b[0;34m.\u001b[0m\u001b[0menvironment\u001b[0m\u001b[0;34m.\u001b[0m\u001b[0mconcat\u001b[0m\u001b[0;34m(\u001b[0m\u001b[0mself\u001b[0m\u001b[0;34m.\u001b[0m\u001b[0mroot_render_func\u001b[0m\u001b[0;34m(\u001b[0m\u001b[0mctx\u001b[0m\u001b[0;34m)\u001b[0m\u001b[0;34m)\u001b[0m  \u001b[0;31m# type: ignore\u001b[0m\u001b[0;34m\u001b[0m\u001b[0;34m\u001b[0m\u001b[0m\n\u001b[1;32m   1300\u001b[0m         \u001b[0;32mexcept\u001b[0m \u001b[0mException\u001b[0m\u001b[0;34m:\u001b[0m\u001b[0;34m\u001b[0m\u001b[0;34m\u001b[0m\u001b[0m\n\u001b[0;32m-> 1301\u001b[0;31m             \u001b[0mself\u001b[0m\u001b[0;34m.\u001b[0m\u001b[0menvironment\u001b[0m\u001b[0;34m.\u001b[0m\u001b[0mhandle_exception\u001b[0m\u001b[0;34m(\u001b[0m\u001b[0;34m)\u001b[0m\u001b[0;34m\u001b[0m\u001b[0;34m\u001b[0m\u001b[0m\n\u001b[0m\u001b[1;32m   1302\u001b[0m \u001b[0;34m\u001b[0m\u001b[0m\n\u001b[1;32m   1303\u001b[0m     \u001b[0;32masync\u001b[0m \u001b[0;32mdef\u001b[0m \u001b[0mrender_async\u001b[0m\u001b[0;34m(\u001b[0m\u001b[0mself\u001b[0m\u001b[0;34m,\u001b[0m \u001b[0;34m*\u001b[0m\u001b[0margs\u001b[0m\u001b[0;34m:\u001b[0m \u001b[0mt\u001b[0m\u001b[0;34m.\u001b[0m\u001b[0mAny\u001b[0m\u001b[0;34m,\u001b[0m \u001b[0;34m**\u001b[0m\u001b[0mkwargs\u001b[0m\u001b[0;34m:\u001b[0m \u001b[0mt\u001b[0m\u001b[0;34m.\u001b[0m\u001b[0mAny\u001b[0m\u001b[0;34m)\u001b[0m \u001b[0;34m->\u001b[0m \u001b[0mstr\u001b[0m\u001b[0;34m:\u001b[0m\u001b[0;34m\u001b[0m\u001b[0;34m\u001b[0m\u001b[0m\n",
      "\u001b[0;32m~/Library/Python/3.8/lib/python/site-packages/jinja2/environment.py\u001b[0m in \u001b[0;36mhandle_exception\u001b[0;34m(self, source)\u001b[0m\n\u001b[1;32m    934\u001b[0m         \u001b[0;32mfrom\u001b[0m \u001b[0;34m.\u001b[0m\u001b[0mdebug\u001b[0m \u001b[0;32mimport\u001b[0m \u001b[0mrewrite_traceback_stack\u001b[0m\u001b[0;34m\u001b[0m\u001b[0;34m\u001b[0m\u001b[0m\n\u001b[1;32m    935\u001b[0m \u001b[0;34m\u001b[0m\u001b[0m\n\u001b[0;32m--> 936\u001b[0;31m         \u001b[0;32mraise\u001b[0m \u001b[0mrewrite_traceback_stack\u001b[0m\u001b[0;34m(\u001b[0m\u001b[0msource\u001b[0m\u001b[0;34m=\u001b[0m\u001b[0msource\u001b[0m\u001b[0;34m)\u001b[0m\u001b[0;34m\u001b[0m\u001b[0;34m\u001b[0m\u001b[0m\n\u001b[0m\u001b[1;32m    937\u001b[0m \u001b[0;34m\u001b[0m\u001b[0m\n\u001b[1;32m    938\u001b[0m     \u001b[0;32mdef\u001b[0m \u001b[0mjoin_path\u001b[0m\u001b[0;34m(\u001b[0m\u001b[0mself\u001b[0m\u001b[0;34m,\u001b[0m \u001b[0mtemplate\u001b[0m\u001b[0;34m:\u001b[0m \u001b[0mstr\u001b[0m\u001b[0;34m,\u001b[0m \u001b[0mparent\u001b[0m\u001b[0;34m:\u001b[0m \u001b[0mstr\u001b[0m\u001b[0;34m)\u001b[0m \u001b[0;34m->\u001b[0m \u001b[0mstr\u001b[0m\u001b[0;34m:\u001b[0m\u001b[0;34m\u001b[0m\u001b[0;34m\u001b[0m\u001b[0m\n",
      "\u001b[0;32m~/website clone/harshul/test/groupwebsite_generator/templates/people.html.j2\u001b[0m in \u001b[0;36mtop-level template code\u001b[0;34m()\u001b[0m\n\u001b[1;32m    672\u001b[0m                                                         \u001b[0;34m{\u001b[0m\u001b[0;34m%\u001b[0m \u001b[0mendif\u001b[0m \u001b[0;34m%\u001b[0m\u001b[0;34m}\u001b[0m\u001b[0;34m\u001b[0m\u001b[0;34m\u001b[0m\u001b[0m\n\u001b[1;32m    673\u001b[0m                                                     \u001b[0;34m<\u001b[0m\u001b[0;34m/\u001b[0m\u001b[0mh3\u001b[0m\u001b[0;34m>\u001b[0m\u001b[0;34m\u001b[0m\u001b[0;34m\u001b[0m\u001b[0m\n\u001b[0;32m--> 674\u001b[0;31m                                                     \u001b[0;34m{\u001b[0m\u001b[0;34m%\u001b[0m \u001b[0;32mif\u001b[0m \u001b[0mperson\u001b[0m\u001b[0;34m.\u001b[0m\u001b[0macademic_role\u001b[0m \u001b[0;34m!=\u001b[0m \u001b[0;34m\"\"\u001b[0m \u001b[0;32mand\u001b[0m \u001b[0;32mnot\u001b[0m \u001b[0mperson\u001b[0m\u001b[0;34m.\u001b[0m\u001b[0macademic_role\u001b[0m\u001b[0;34m.\u001b[0m\u001b[0mstrip\u001b[0m\u001b[0;34m(\u001b[0m\u001b[0;34m)\u001b[0m\u001b[0;34m.\u001b[0m\u001b[0mlower\u001b[0m\u001b[0;34m(\u001b[0m\u001b[0;34m)\u001b[0m\u001b[0;34m.\u001b[0m\u001b[0mstartswith\u001b[0m\u001b[0;34m(\u001b[0m\u001b[0;34m\"enter\"\u001b[0m\u001b[0;34m)\u001b[0m \u001b[0;34m%\u001b[0m\u001b[0;34m}\u001b[0m\u001b[0;34m\u001b[0m\u001b[0;34m\u001b[0m\u001b[0m\n\u001b[0m\u001b[1;32m    675\u001b[0m                                                         \u001b[0;34m<\u001b[0m\u001b[0mp\u001b[0m \u001b[0;32mclass\u001b[0m\u001b[0;34m=\u001b[0m\u001b[0;34m\"profession\"\u001b[0m\u001b[0;34m>\u001b[0m\u001b[0;34m{\u001b[0m\u001b[0;34m{\u001b[0m \u001b[0mperson\u001b[0m\u001b[0;34m.\u001b[0m\u001b[0macademic_role\u001b[0m \u001b[0;34m}\u001b[0m\u001b[0;34m}\u001b[0m\u001b[0;34m<\u001b[0m\u001b[0;34m/\u001b[0m\u001b[0mp\u001b[0m\u001b[0;34m>\u001b[0m\u001b[0;34m\u001b[0m\u001b[0;34m\u001b[0m\u001b[0m\n\u001b[1;32m    676\u001b[0m                                                     \u001b[0;34m{\u001b[0m\u001b[0;34m%\u001b[0m \u001b[0mendif\u001b[0m \u001b[0;34m%\u001b[0m\u001b[0;34m}\u001b[0m\u001b[0;34m\u001b[0m\u001b[0;34m\u001b[0m\u001b[0m\n",
      "\u001b[0;32m~/Library/Python/3.8/lib/python/site-packages/jinja2/environment.py\u001b[0m in \u001b[0;36mgetattr\u001b[0;34m(self, obj, attribute)\u001b[0m\n\u001b[1;32m    483\u001b[0m         \"\"\"\n\u001b[1;32m    484\u001b[0m         \u001b[0;32mtry\u001b[0m\u001b[0;34m:\u001b[0m\u001b[0;34m\u001b[0m\u001b[0;34m\u001b[0m\u001b[0m\n\u001b[0;32m--> 485\u001b[0;31m             \u001b[0;32mreturn\u001b[0m \u001b[0mgetattr\u001b[0m\u001b[0;34m(\u001b[0m\u001b[0mobj\u001b[0m\u001b[0;34m,\u001b[0m \u001b[0mattribute\u001b[0m\u001b[0;34m)\u001b[0m\u001b[0;34m\u001b[0m\u001b[0;34m\u001b[0m\u001b[0m\n\u001b[0m\u001b[1;32m    486\u001b[0m         \u001b[0;32mexcept\u001b[0m \u001b[0mAttributeError\u001b[0m\u001b[0;34m:\u001b[0m\u001b[0;34m\u001b[0m\u001b[0;34m\u001b[0m\u001b[0m\n\u001b[1;32m    487\u001b[0m             \u001b[0;32mpass\u001b[0m\u001b[0;34m\u001b[0m\u001b[0;34m\u001b[0m\u001b[0m\n",
      "\u001b[0;31mUndefinedError\u001b[0m: 'dict object' has no attribute 'academic_role'"
     ]
    }
   ],
   "source": [
    "people_content = people_template.render(general=data[\"general\"], \n",
    "                                        members=people_df['id'])"
   ]
  },
  {
   "cell_type": "code",
   "execution_count": null,
   "metadata": {},
   "outputs": [],
   "source": [
    "with open(\"../kerzendorf-group.github.io/People.html\", mode=\"w\", encoding=\"utf-8\") as people:\n",
    "    people.write(people_content)"
   ]
  },
  {
   "attachments": {},
   "cell_type": "markdown",
   "metadata": {},
   "source": [
    "##### Individual People Page"
   ]
  },
  {
   "cell_type": "code",
   "execution_count": null,
   "metadata": {},
   "outputs": [],
   "source": [
    "ind_person_template = environment.get_template(\"individual_person.html.j2\")"
   ]
  },
  {
   "cell_type": "code",
   "execution_count": null,
   "metadata": {},
   "outputs": [],
   "source": [
    "for person in people_df['id']:\n",
    "            filename = f\"../kerzendorf-group.github.io/members/{ person }/{ person }.html\"\n",
    "            ind_person_content = ind_person_template.render(general=data[\"general\"], \n",
    "                                                            member_id=person, \n",
    "                                                            content=content_df.to_dict(orient='records'))\n",
    "            with open(filename, mode=\"w\", encoding=\"utf-8\") as page:\n",
    "                page.write(ind_person_content)"
   ]
  },
  {
   "attachments": {},
   "cell_type": "markdown",
   "metadata": {},
   "source": [
    "##### Research Page"
   ]
  },
  {
   "cell_type": "code",
   "execution_count": null,
   "metadata": {},
   "outputs": [],
   "source": [
    "research_template = environment.get_template(\"research.html.j2\")"
   ]
  },
  {
   "cell_type": "code",
   "execution_count": null,
   "metadata": {},
   "outputs": [],
   "source": [
    "main_page_research_content = research_template.render(general=data[\"general\"],\n",
    "                                            content=research_content)"
   ]
  },
  {
   "cell_type": "code",
   "execution_count": null,
   "metadata": {},
   "outputs": [],
   "source": [
    "with open(\"../kerzendorf-group.github.io/Research.html\", mode=\"w\", encoding=\"utf-8\") as research:\n",
    "        research.write(main_page_research_content)"
   ]
  },
  {
   "cell_type": "code",
   "execution_count": null,
   "metadata": {},
   "outputs": [],
   "source": [
    "sub_research_template = environment.get_template(\"sub_research_frontpage.html.j2\")"
   ]
  },
  {
   "cell_type": "code",
   "execution_count": null,
   "metadata": {},
   "outputs": [],
   "source": [
    "for category in content_df.loc[content_df.category != \"News\", \"category\"].unique():\n",
    "        sub_research_content = sub_research_template.render(general=data[\"general\"], \n",
    "                                                            research_general=data[\"research\"], \n",
    "                                                            content = research_content,\n",
    "                                                            category = category\n",
    "                                                            )\n",
    "        folder_path = f\"../kerzendorf-group.github.io/sub_research/{page_link(category.lower())}\"\n",
    "        os.makedirs(folder_path, exist_ok=True)\n",
    "        with open(f\"../kerzendorf-group.github.io/sub_research/{page_link(category.lower())}.html\", mode=\"w\", encoding=\"utf-8\") as sub_research:\n",
    "            sub_research.write(sub_research_content)"
   ]
  },
  {
   "attachments": {},
   "cell_type": "markdown",
   "metadata": {},
   "source": [
    "##### Individual Research Page"
   ]
  },
  {
   "cell_type": "code",
   "execution_count": null,
   "metadata": {},
   "outputs": [],
   "source": [
    "template_no_twitter = environment.get_template(\"research_page_no_twitter.html.j2\")"
   ]
  },
  {
   "cell_type": "code",
   "execution_count": null,
   "metadata": {},
   "outputs": [],
   "source": [
    "for ind_research_keys, ind_research_values in research_content.iterrows():\n",
    "    if \"news\" not in ind_research_values.category.lower():\n",
    "        ind_research_content = template_no_twitter.render(general=data[\"general\"], \n",
    "                                                          member_ids = people_df['id'],\n",
    "                                                          nonmem_ids = non_mem_df['id'],\n",
    "                                                          content = ind_research_values\n",
    "                                                          \n",
    "                                                            )\n",
    "        folder_path = f\"../kerzendorf-group.github.io/sub_research/{page_link(ind_research_values.category.lower())}\"\n",
    "        os.makedirs(folder_path, exist_ok=True)\n",
    "        with open(f\"{ folder_path }/{page_link(ind_research_values.article_id.lower())}.html\", mode=\"w\", encoding=\"utf-8\") as ind_research_page:\n",
    "            ind_research_page.write(ind_research_content)"
   ]
  },
  {
   "attachments": {},
   "cell_type": "markdown",
   "metadata": {},
   "source": [
    "##### News Page"
   ]
  },
  {
   "cell_type": "code",
   "execution_count": null,
   "metadata": {},
   "outputs": [
    {
     "data": {
      "text/html": [
       "<div>\n",
       "<style scoped>\n",
       "    .dataframe tbody tr th:only-of-type {\n",
       "        vertical-align: middle;\n",
       "    }\n",
       "\n",
       "    .dataframe tbody tr th {\n",
       "        vertical-align: top;\n",
       "    }\n",
       "\n",
       "    .dataframe thead th {\n",
       "        text-align: right;\n",
       "    }\n",
       "</style>\n",
       "<table border=\"1\" class=\"dataframe\">\n",
       "  <thead>\n",
       "    <tr style=\"text-align: right;\">\n",
       "      <th></th>\n",
       "      <th>article_id</th>\n",
       "      <th>category</th>\n",
       "      <th>date</th>\n",
       "      <th>tags</th>\n",
       "    </tr>\n",
       "  </thead>\n",
       "  <tbody>\n",
       "    <tr>\n",
       "      <th>4</th>\n",
       "      <td>reu_student_announcement</td>\n",
       "      <td>News</td>\n",
       "      <td>2023-06-23</td>\n",
       "      <td>[news, research, Internship]</td>\n",
       "    </tr>\n",
       "    <tr>\n",
       "      <th>5</th>\n",
       "      <td>ESA_internship_vicente</td>\n",
       "      <td>News</td>\n",
       "      <td>2023-06-15</td>\n",
       "      <td>[news, research, Internship]</td>\n",
       "    </tr>\n",
       "    <tr>\n",
       "      <th>0</th>\n",
       "      <td>snr0509_josh_paper</td>\n",
       "      <td>Astrophysical Transients</td>\n",
       "      <td>2023-05-28</td>\n",
       "      <td>[research, news]</td>\n",
       "    </tr>\n",
       "    <tr>\n",
       "      <th>6</th>\n",
       "      <td>natsci_fellowship_yuki</td>\n",
       "      <td>News</td>\n",
       "      <td>2023-04-29</td>\n",
       "      <td>[news, research, fellowship]</td>\n",
       "    </tr>\n",
       "    <tr>\n",
       "      <th>7</th>\n",
       "      <td>news_nsf22_collab</td>\n",
       "      <td>News</td>\n",
       "      <td>2023-04-19</td>\n",
       "      <td>[news, research, grant]</td>\n",
       "    </tr>\n",
       "    <tr>\n",
       "      <th>1</th>\n",
       "      <td>sn1006_josh_paper</td>\n",
       "      <td>Astrophysical Transients</td>\n",
       "      <td>2022-07-10</td>\n",
       "      <td>[research, news]</td>\n",
       "    </tr>\n",
       "  </tbody>\n",
       "</table>\n",
       "</div>"
      ],
      "text/plain": [
       "                 article_id                  category       date  \\\n",
       "4  reu_student_announcement                      News 2023-06-23   \n",
       "5    ESA_internship_vicente                      News 2023-06-15   \n",
       "0        snr0509_josh_paper  Astrophysical Transients 2023-05-28   \n",
       "6    natsci_fellowship_yuki                      News 2023-04-29   \n",
       "7         news_nsf22_collab                      News 2023-04-19   \n",
       "1         sn1006_josh_paper  Astrophysical Transients 2022-07-10   \n",
       "\n",
       "                           tags  \n",
       "4  [news, research, Internship]  \n",
       "5  [news, research, Internship]  \n",
       "0              [research, news]  \n",
       "6  [news, research, fellowship]  \n",
       "7       [news, research, grant]  \n",
       "1              [research, news]  "
      ]
     },
     "execution_count": 71,
     "metadata": {},
     "output_type": "execute_result"
    }
   ],
   "source": [
    "news_content"
   ]
  },
  {
   "cell_type": "code",
   "execution_count": null,
   "metadata": {},
   "outputs": [],
   "source": [
    "news_template = environment.get_template(\"news.html.j2\")"
   ]
  },
  {
   "cell_type": "code",
   "execution_count": null,
   "metadata": {},
   "outputs": [],
   "source": [
    "news_page_content = news_template.render(general=data[\"general\"],\n",
    "                                         content=news_content,\n",
    "                                         member_ids=people_df['id'],\n",
    "                                         nonmem_ids = non_mem_df['id'],\n",
    "                                         category=\"News\")"
   ]
  },
  {
   "cell_type": "code",
   "execution_count": null,
   "metadata": {},
   "outputs": [],
   "source": [
    "with open(\"../kerzendorf-group.github.io/News.html\", mode=\"w\", encoding=\"utf-8\") as news:\n",
    "        news.write(news_page_content)"
   ]
  },
  {
   "attachments": {},
   "cell_type": "markdown",
   "metadata": {},
   "source": [
    "##### Individual News Pages"
   ]
  },
  {
   "cell_type": "code",
   "execution_count": null,
   "metadata": {},
   "outputs": [],
   "source": [
    "news_template_no_twitter = environment.get_template(\"news_page_no_twitter.html.j2\")\n",
    "#news_template_twitter = environment.get_template(\"news_page_twitter.html.j2\")"
   ]
  },
  {
   "cell_type": "code",
   "execution_count": null,
   "metadata": {},
   "outputs": [],
   "source": [
    "for ind_news_keys, ind_news_values in news_content.iterrows():\n",
    "        ind_news_content = news_template_no_twitter.render(general=data[\"general\"], \n",
    "                                                          member_ids = people_df['id'],\n",
    "                                                          nonmem_ids = non_mem_df['id'],\n",
    "                                                          content = ind_news_values\n",
    "                                                            )\n",
    "        folder_path = f\"../kerzendorf-group.github.io/news/\"\n",
    "        os.makedirs(folder_path, exist_ok=True)\n",
    "        with open(f\"{ folder_path }/{page_link(ind_news_values.article_id.lower())}.html\", mode=\"w\", encoding=\"utf-8\") as ind_news_page:\n",
    "            ind_news_page.write(ind_news_content)"
   ]
  },
  {
   "attachments": {},
   "cell_type": "markdown",
   "metadata": {},
   "source": [
    "##### Support Page"
   ]
  },
  {
   "cell_type": "code",
   "execution_count": null,
   "metadata": {},
   "outputs": [],
   "source": [
    "support_template = environment.get_template('support.html.j2')"
   ]
  },
  {
   "cell_type": "code",
   "execution_count": null,
   "metadata": {},
   "outputs": [],
   "source": [
    "support_content = support_template.render(general=data[\"general\"], support=data[\"support\"])"
   ]
  },
  {
   "cell_type": "code",
   "execution_count": null,
   "metadata": {},
   "outputs": [],
   "source": [
    "with open('../kerzendorf-group.github.io/Support.html', mode='w', encoding='utf-8') as support:\n",
    "    support.write(support_content)"
   ]
  },
  {
   "attachments": {},
   "cell_type": "markdown",
   "metadata": {},
   "source": [
    "##### Contact"
   ]
  },
  {
   "cell_type": "code",
   "execution_count": null,
   "metadata": {},
   "outputs": [],
   "source": [
    "contact_template = environment.get_template('contact.html.j2')"
   ]
  },
  {
   "cell_type": "code",
   "execution_count": null,
   "metadata": {},
   "outputs": [],
   "source": [
    "contact_content = contact_template.render(general=data[\"general\"], contact=data[\"contact\"])"
   ]
  },
  {
   "cell_type": "code",
   "execution_count": null,
   "metadata": {},
   "outputs": [],
   "source": [
    "with open('../kerzendorf-group.github.io/Contact.html', mode='w', encoding='utf-8') as contact:\n",
    "    contact.write(contact_content)"
   ]
  }
 ],
 "metadata": {
  "kernelspec": {
   "display_name": "Python 3",
   "language": "python",
   "name": "python3"
  },
  "language_info": {
   "codemirror_mode": {
    "name": "ipython",
    "version": 3
   },
   "file_extension": ".py",
   "mimetype": "text/x-python",
   "name": "python",
   "nbconvert_exporter": "python",
   "pygments_lexer": "ipython3",
   "version": "3.8.2"
  },
  "orig_nbformat": 4
 },
 "nbformat": 4,
 "nbformat_minor": 2
}
