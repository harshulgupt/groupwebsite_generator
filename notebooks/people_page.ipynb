{
 "cells": [
  {
   "cell_type": "code",
   "execution_count": 30,
   "metadata": {},
   "outputs": [],
   "source": [
    "import json\n",
    "import pandas as pd\n",
    "from pathlib import Path\n",
    "from datetime import datetime\n"
   ]
  },
  {
   "cell_type": "code",
   "execution_count": 31,
   "metadata": {},
   "outputs": [],
   "source": [
    "# Defining paths\n",
    "GROUP_DATA_DIR = Path(\"/Users/harshul/projects/kgwebsite/group-data\")\n",
    "\n",
    "MEMBERS_DIR_PATH = GROUP_DATA_DIR / 'members/'\n",
    "WEBSITE_DATA_PATH = GROUP_DATA_DIR / 'website_data/'\n",
    "CONTENT_DIR_PATH = WEBSITE_DATA_PATH / 'content'\n"
   ]
  },
  {
   "cell_type": "code",
   "execution_count": 32,
   "metadata": {},
   "outputs": [],
   "source": [
    "def parse_education_experience_df(member_dir):\n",
    "    member_json_dir = member_dir / 'jsons'\n",
    "    education_experience_list = []\n",
    "\n",
    "    if (member_experiences_dir := (member_json_dir / 'experiences.json')).exists():\n",
    "        with open(member_experiences_dir, 'r') as f:\n",
    "            education_experience_list += json.load(f)\n",
    "    else:\n",
    "        print(member_experiences_dir)\n",
    "    \n",
    "    if (member_education_dir := (member_json_dir / 'education.json')).exists():\n",
    "        with open(member_education_dir, 'r') as f:\n",
    "            education_experience_list += json.load(f)\n",
    "    \n",
    "    return pd.DataFrame(education_experience_list)"
   ]
  },
  {
   "cell_type": "code",
   "execution_count": 33,
   "metadata": {},
   "outputs": [
    {
     "name": "stdout",
     "output_type": "stream",
     "text": [
      "/Users/harshul/projects/kgwebsite/group-data/members/josh_shields <class 'pathlib.PosixPath'>\n",
      "/Users/harshul/projects/kgwebsite/group-data/members/anirban_dutta <class 'pathlib.PosixPath'>\n",
      "/Users/harshul/projects/kgwebsite/group-data/members/erin_visser <class 'pathlib.PosixPath'>\n",
      "/Users/harshul/projects/kgwebsite/group-data/members/vicente_amado <class 'pathlib.PosixPath'>\n",
      "/Users/harshul/projects/kgwebsite/group-data/members/vicente_amado/jsons/experiences.json\n",
      "/Users/harshul/projects/kgwebsite/group-data/members/yuki_matsumura <class 'pathlib.PosixPath'>\n",
      "/Users/harshul/projects/kgwebsite/group-data/members/yuki_matsumura/jsons/experiences.json\n",
      "/Users/harshul/projects/kgwebsite/group-data/members/andrew_fullard <class 'pathlib.PosixPath'>\n",
      "/Users/harshul/projects/kgwebsite/group-data/members/isaac_smith <class 'pathlib.PosixPath'>\n",
      "/Users/harshul/projects/kgwebsite/group-data/members/hayden_monk <class 'pathlib.PosixPath'>\n",
      "/Users/harshul/projects/kgwebsite/group-data/members/hayden_monk/jsons/experiences.json\n",
      "/Users/harshul/projects/kgwebsite/group-data/members/atharva_arya <class 'pathlib.PosixPath'>\n",
      "/Users/harshul/projects/kgwebsite/group-data/members/richard_dow <class 'pathlib.PosixPath'>\n",
      "/Users/harshul/projects/kgwebsite/group-data/members/bea_lu <class 'pathlib.PosixPath'>\n",
      "/Users/harshul/projects/kgwebsite/group-data/members/sona_chitchyan <class 'pathlib.PosixPath'>\n",
      "/Users/harshul/projects/kgwebsite/group-data/members/iliomar_rodriguez_ramos <class 'pathlib.PosixPath'>\n",
      "/Users/harshul/projects/kgwebsite/group-data/members/jaladh_singhal <class 'pathlib.PosixPath'>\n",
      "/Users/harshul/projects/kgwebsite/group-data/members/jack_o_brien <class 'pathlib.PosixPath'>\n",
      "/Users/harshul/projects/kgwebsite/group-data/members/jack_o_brien/jsons/experiences.json\n",
      "/Users/harshul/projects/kgwebsite/group-data/members/template_person <class 'pathlib.PosixPath'>\n",
      "/Users/harshul/projects/kgwebsite/group-data/members/cecelia_powers <class 'pathlib.PosixPath'>\n",
      "/Users/harshul/projects/kgwebsite/group-data/members/cecelia_powers/jsons/experiences.json\n",
      "/Users/harshul/projects/kgwebsite/group-data/members/kevin_cawley <class 'pathlib.PosixPath'>\n",
      "/Users/harshul/projects/kgwebsite/group-data/members/sofia_biriouk <class 'pathlib.PosixPath'>\n",
      "/Users/harshul/projects/kgwebsite/group-data/members/jing_lu <class 'pathlib.PosixPath'>\n",
      "/Users/harshul/projects/kgwebsite/group-data/members/alexander_grunewald <class 'pathlib.PosixPath'>\n",
      "/Users/harshul/projects/kgwebsite/group-data/members/alexander_grunewald/jsons/experiences.json\n",
      "/Users/harshul/projects/kgwebsite/group-data/members/harshul_gupta <class 'pathlib.PosixPath'>\n",
      "/Users/harshul/projects/kgwebsite/group-data/members/wolfgang_kerzendorf <class 'pathlib.PosixPath'>\n"
     ]
    }
   ],
   "source": [
    "for member_dir in MEMBERS_DIR_PATH.glob('*'):\n",
    "    if not (member_info_fname := member_dir / 'info.json').exists():\n",
    "      continue\n",
    "    else:\n",
    "        member_info = json.load(open(member_info_fname, 'r'))\n",
    "    print(member_dir, type(member_dir))\n",
    "\n",
    "    education_experience_df = parse_education_experience_df(member_dir)\n",
    "\n"
   ]
  },
  {
   "cell_type": "code",
   "execution_count": 34,
   "metadata": {},
   "outputs": [
    {
     "data": {
      "text/html": [
       "<div>\n",
       "<style scoped>\n",
       "    .dataframe tbody tr th:only-of-type {\n",
       "        vertical-align: middle;\n",
       "    }\n",
       "\n",
       "    .dataframe tbody tr th {\n",
       "        vertical-align: top;\n",
       "    }\n",
       "\n",
       "    .dataframe thead th {\n",
       "        text-align: right;\n",
       "    }\n",
       "</style>\n",
       "<table border=\"1\" class=\"dataframe\">\n",
       "  <thead>\n",
       "    <tr style=\"text-align: right;\">\n",
       "      <th></th>\n",
       "      <th>organisation</th>\n",
       "      <th>city</th>\n",
       "      <th>state</th>\n",
       "      <th>country</th>\n",
       "      <th>role</th>\n",
       "      <th>start_date</th>\n",
       "      <th>end_date</th>\n",
       "      <th>degree</th>\n",
       "      <th>subject</th>\n",
       "      <th>institution</th>\n",
       "    </tr>\n",
       "  </thead>\n",
       "  <tbody>\n",
       "    <tr>\n",
       "      <th>0</th>\n",
       "      <td>Michigan State University</td>\n",
       "      <td>East Lansing</td>\n",
       "      <td>Michigan</td>\n",
       "      <td>USA</td>\n",
       "      <td>Professorial Assistant</td>\n",
       "      <td>2020-01-01</td>\n",
       "      <td>2023-12-31</td>\n",
       "      <td>NaN</td>\n",
       "      <td>NaN</td>\n",
       "      <td>NaN</td>\n",
       "    </tr>\n",
       "    <tr>\n",
       "      <th>1</th>\n",
       "      <td>NaN</td>\n",
       "      <td>East Lansing</td>\n",
       "      <td>Michigan</td>\n",
       "      <td>USA</td>\n",
       "      <td>NaN</td>\n",
       "      <td>2020-01-01</td>\n",
       "      <td>2024-12-31</td>\n",
       "      <td>Bachelors</td>\n",
       "      <td>Physics and Mathematics</td>\n",
       "      <td>Michigan State University</td>\n",
       "    </tr>\n",
       "  </tbody>\n",
       "</table>\n",
       "</div>"
      ],
      "text/plain": [
       "                organisation          city     state country  \\\n",
       "0  Michigan State University  East Lansing  Michigan     USA   \n",
       "1                        NaN  East Lansing  Michigan     USA   \n",
       "\n",
       "                     role  start_date    end_date     degree  \\\n",
       "0  Professorial Assistant  2020-01-01  2023-12-31        NaN   \n",
       "1                     NaN  2020-01-01  2024-12-31  Bachelors   \n",
       "\n",
       "                   subject                institution  \n",
       "0                      NaN                        NaN  \n",
       "1  Physics and Mathematics  Michigan State University  "
      ]
     },
     "execution_count": 34,
     "metadata": {},
     "output_type": "execute_result"
    }
   ],
   "source": [
    "member_dir = Path(\"/Users/harshul/projects/kgwebsite/group-data/members/isaac_smith\")\n",
    "parse_education_experience_df(member_dir)"
   ]
  },
  {
   "cell_type": "code",
   "execution_count": 35,
   "metadata": {},
   "outputs": [],
   "source": [
    "def extract_member_academic_role(education_experience_df):\n",
    "    current_academic_role = \"\"\n",
    "    is_current_member = False\n",
    "    \n",
    "    if 'end_date' not in education_experience_df.columns:\n",
    "        education_experience_df['end_date'] = None\n",
    "    if 'group' not in education_experience_df.columns:\n",
    "        education_experience_df['group'] = None\n",
    "    if 'institution' not in education_experience_df.columns:\n",
    "        education_experience_df['institution'] = None    \n",
    "    # Filter based on 'institution' or 'group'\n",
    "    condition_institution = (education_experience_df['institution'] == 'Michigan State University')\n",
    "    condition_group = education_experience_df['group'].isin(['kerzendorf', 'DTI', 'ICER'])\n",
    "    \n",
    "    filtered_e_e_df = education_experience_df[condition_institution | condition_group]\n",
    "    \n",
    "    if len(filtered_e_e_df) == 0: \n",
    "       pass\n",
    "    \n",
    "    elif len(filtered_e_e_df) >= 1:\n",
    "        role = filtered_e_e_df.iloc[0].get('role', None)  \n",
    "        degree = filtered_e_e_df.iloc[0].get('degree', None)  \n",
    "        \n",
    "        if role in ['Assistant Professor', 'Professor']:\n",
    "            current_academic_role = 'Professor'\n",
    "        if role == \"Professorial Assistant\":\n",
    "            current_academic_role = 'Professorial Assistant'\n",
    "        elif role in ['Visiting Researcher', 'Postdoctoral Researcher']:\n",
    "            current_academic_role = 'Postdoctoral Researcher' \n",
    "        elif degree in ['Masters', 'PhD']:\n",
    "            current_academic_role = 'Graduate Student' \n",
    "        elif degree == 'Bachelors':\n",
    "            current_academic_role = 'Graduate Student' if filtered_e_e_df.iloc[0].get('end_date') is None else 'Undergraduate Student'\n",
    "        \n",
    "    has_end_date = any(not pd.isna(date) for date in filtered_e_e_df['end_date'])\n",
    "    is_current_member = not has_end_date\n",
    "\n",
    "    return current_academic_role, is_current_member"
   ]
  },
  {
   "cell_type": "code",
   "execution_count": 36,
   "metadata": {},
   "outputs": [
    {
     "name": "stdout",
     "output_type": "stream",
     "text": [
      "/Users/harshul/projects/kgwebsite/group-data/members/josh_shields\n",
      "Joshua\n",
      "/Users/harshul/projects/kgwebsite/group-data/members/anirban_dutta\n",
      "Anirban \n",
      "/Users/harshul/projects/kgwebsite/group-data/members/erin_visser\n",
      "Erin\n",
      "/Users/harshul/projects/kgwebsite/group-data/members/.DS_Store\n",
      "/Users/harshul/projects/kgwebsite/group-data/members/vicente_amado\n",
      "/Users/harshul/projects/kgwebsite/group-data/members/vicente_amado/jsons/experiences.json\n",
      "Vicente\n",
      "/Users/harshul/projects/kgwebsite/group-data/members/yuki_matsumura\n",
      "/Users/harshul/projects/kgwebsite/group-data/members/yuki_matsumura/jsons/experiences.json\n",
      "Yuki\n",
      "/Users/harshul/projects/kgwebsite/group-data/members/andrew_fullard\n",
      "Andrew\n",
      "/Users/harshul/projects/kgwebsite/group-data/members/isaac_smith\n",
      "Isaac\n",
      "/Users/harshul/projects/kgwebsite/group-data/members/hayden_monk\n",
      "/Users/harshul/projects/kgwebsite/group-data/members/hayden_monk/jsons/experiences.json\n",
      "Hayden\n",
      "/Users/harshul/projects/kgwebsite/group-data/members/atharva_arya\n",
      "Atharva\n",
      "/Users/harshul/projects/kgwebsite/group-data/members/richard_dow\n",
      "Richard\n",
      "/Users/harshul/projects/kgwebsite/group-data/members/bea_lu\n",
      "Bea\n",
      "/Users/harshul/projects/kgwebsite/group-data/members/sona_chitchyan\n",
      "Sona\n",
      "/Users/harshul/projects/kgwebsite/group-data/members/iliomar_rodriguez_ramos\n",
      "Iliomar\n",
      "/Users/harshul/projects/kgwebsite/group-data/members/jaladh_singhal\n",
      "Jaladh\n",
      "/Users/harshul/projects/kgwebsite/group-data/members/jack_o_brien\n",
      "/Users/harshul/projects/kgwebsite/group-data/members/jack_o_brien/jsons/experiences.json\n",
      "Jack\n",
      "/Users/harshul/projects/kgwebsite/group-data/members/template_person\n",
      "Template\n",
      "/Users/harshul/projects/kgwebsite/group-data/members/cecelia_powers\n",
      "/Users/harshul/projects/kgwebsite/group-data/members/cecelia_powers/jsons/experiences.json\n",
      "Cecelia\n",
      "/Users/harshul/projects/kgwebsite/group-data/members/kevin_cawley\n",
      "Kevin\n",
      "/Users/harshul/projects/kgwebsite/group-data/members/sofia_biriouk\n",
      "Sofia\n",
      "/Users/harshul/projects/kgwebsite/group-data/members/jing_lu\n",
      "Jing\n",
      "/Users/harshul/projects/kgwebsite/group-data/members/alexander_grunewald\n",
      "/Users/harshul/projects/kgwebsite/group-data/members/alexander_grunewald/jsons/experiences.json\n",
      "Alexander\n",
      "/Users/harshul/projects/kgwebsite/group-data/members/harshul_gupta\n",
      "Harshul\n",
      "/Users/harshul/projects/kgwebsite/group-data/members/wolfgang_kerzendorf\n",
      "Wolfgang\n"
     ]
    }
   ],
   "source": [
    "\n",
    "# for creating two lists\n",
    "\n",
    "current_people_page_list = []\n",
    "alumni_people_page_list = []\n",
    "\n",
    "\n",
    "for member_dir in MEMBERS_DIR_PATH.glob('*'):\n",
    "    print(member_dir)\n",
    "    if not (member_info_fname := member_dir / 'info.json').exists():\n",
    "        continue\n",
    "    else:\n",
    "        member_info = json.load(open(member_info_fname, 'r'))\n",
    "    education_experience_df = parse_education_experience_df(member_dir)\n",
    "    current_academic_role, is_current_member = extract_member_academic_role(education_experience_df)\n",
    "\n",
    "    \n",
    "    first_name = member_info['first_name']\n",
    "    print(first_name)\n",
    "    last_name = member_info['last_name']\n",
    "    nickname = member_info.get('nick_name', None)\n",
    "    id = member_info['id']\n",
    "    image_path = member_info['image_path']  \n",
    "    cover_image_path = member_info['cover_image_path']   \n",
    "\n",
    "    name = f'{nickname if nickname else first_name} {last_name}'\n",
    "\n",
    "    if is_current_member:\n",
    "        current_people_page_list.append({\"Name\": name, \"academic_role\": current_academic_role, \"ID\": id})\n",
    "    else:\n",
    "        alumni_people_page_list.append({\"Name\": name, \"academic_role\": current_academic_role, \"ID\": id})\n",
    "\n",
    "\n"
   ]
  },
  {
   "cell_type": "code",
   "execution_count": 37,
   "metadata": {},
   "outputs": [
    {
     "data": {
      "text/plain": [
       "[{'Name': 'Josh Shields',\n",
       "  'academic_role': 'Graduate Student',\n",
       "  'ID': 'josh_shields'},\n",
       " {'Name': 'Anirban  Dutta',\n",
       "  'academic_role': 'Postdoctoral Researcher',\n",
       "  'ID': 'anirban_dutta'},\n",
       " {'Name': 'Erin Visser', 'academic_role': '', 'ID': 'erin_visser'},\n",
       " {'Name': 'Yuki Matsumura',\n",
       "  'academic_role': 'Graduate Student',\n",
       "  'ID': 'yuki_matsumura'},\n",
       " {'Name': 'Andrew Fullard', 'academic_role': '', 'ID': 'andrew_fullard'},\n",
       " {'Name': 'Hayden Monk',\n",
       "  'academic_role': 'Graduate Student',\n",
       "  'ID': 'hayden_monk'},\n",
       " {'Name': 'Atharva Arya', 'academic_role': '', 'ID': 'atharva_arya'},\n",
       " {'Name': 'Tripp Dow', 'academic_role': '', 'ID': 'richard_dow'},\n",
       " {'Name': 'Sona Chitchyan', 'academic_role': '', 'ID': 'sona_chitchyan'},\n",
       " {'Name': 'Iliomar Rodriguez-Ramos',\n",
       "  'academic_role': '',\n",
       "  'ID': 'iliomar_rodriguez_ramos'},\n",
       " {'Name': 'Jaladh Singhal', 'academic_role': '', 'ID': 'jaladh_singhal'},\n",
       " {'Name': \"Jack O'Brien\",\n",
       "  'academic_role': 'Graduate Student',\n",
       "  'ID': 'jack_o_brien'},\n",
       " {'Name': 'Template Person', 'academic_role': '', 'ID': 'template_person'},\n",
       " {'Name': 'Cecelia Powers',\n",
       "  'academic_role': 'Graduate Student',\n",
       "  'ID': 'cecelia_powers'},\n",
       " {'Name': 'Sofia Biriouk',\n",
       "  'academic_role': 'Undergraduate Student',\n",
       "  'ID': 'sofia_biriouk'},\n",
       " {'Name': 'Jing Lu',\n",
       "  'academic_role': 'Postdoctoral Researcher',\n",
       "  'ID': 'jing_lu'},\n",
       " {'Name': 'Harshul Gupta', 'academic_role': '', 'ID': 'harshul_gupta'},\n",
       " {'Name': 'Wolfgang Kerzendorf',\n",
       "  'academic_role': 'Professor',\n",
       "  'ID': 'wolfgang_kerzendorf'}]"
      ]
     },
     "execution_count": 37,
     "metadata": {},
     "output_type": "execute_result"
    }
   ],
   "source": [
    "current_people_page_list"
   ]
  },
  {
   "cell_type": "code",
   "execution_count": 38,
   "metadata": {},
   "outputs": [
    {
     "data": {
      "text/plain": [
       "[{'Name': 'Vicente  Amado Olivo',\n",
       "  'academic_role': 'Graduate Student',\n",
       "  'ID': 'vicente_amado'},\n",
       " {'Name': 'Isaac Smith',\n",
       "  'academic_role': 'Undergraduate Student',\n",
       "  'ID': 'isaac_smith'},\n",
       " {'Name': 'Bea Lu', 'academic_role': 'Professorial Assistant', 'ID': 'bea_lu'},\n",
       " {'Name': 'Kevin Cawley',\n",
       "  'academic_role': 'Professorial Assistant',\n",
       "  'ID': 'kevin_cawley'},\n",
       " {'Name': 'Alexander Grunewald',\n",
       "  'academic_role': 'Undergraduate Student',\n",
       "  'ID': 'alexander_grunewald'}]"
      ]
     },
     "execution_count": 38,
     "metadata": {},
     "output_type": "execute_result"
    }
   ],
   "source": [
    "alumni_people_page_list"
   ]
  },
  {
   "cell_type": "code",
   "execution_count": 39,
   "metadata": {},
   "outputs": [
    {
     "data": {
      "text/plain": [
       "PosixPath('/Users/harshul/projects/kgwebsite/group-data/members/wolfgang_kerzendorf')"
      ]
     },
     "execution_count": 39,
     "metadata": {},
     "output_type": "execute_result"
    }
   ],
   "source": [
    "member_dir"
   ]
  },
  {
   "cell_type": "code",
   "execution_count": 40,
   "metadata": {},
   "outputs": [
    {
     "ename": "NameError",
     "evalue": "name 'filtered_e_e_df' is not defined",
     "output_type": "error",
     "traceback": [
      "\u001b[0;31m---------------------------------------------------------------------------\u001b[0m",
      "\u001b[0;31mNameError\u001b[0m                                 Traceback (most recent call last)",
      "\u001b[1;32m/Users/harshul/projects/kgwebsite/groupwebsite_generator/notebooks/people_page.ipynb Cell 11\u001b[0m line \u001b[0;36m1\n\u001b[0;32m----> <a href='vscode-notebook-cell:/Users/harshul/projects/kgwebsite/groupwebsite_generator/notebooks/people_page.ipynb#X13sZmlsZQ%3D%3D?line=0'>1</a>\u001b[0m filtered_e_e_df \u001b[39m=\u001b[39m filtered_e_e_df[filtered_e_e_df[\u001b[39m'\u001b[39m\u001b[39minstitution\u001b[39m\u001b[39m'\u001b[39m] \u001b[39m==\u001b[39m \u001b[39m'\u001b[39m\u001b[39mMichigan State University\u001b[39m\u001b[39m'\u001b[39m]\n",
      "\u001b[0;31mNameError\u001b[0m: name 'filtered_e_e_df' is not defined"
     ]
    }
   ],
   "source": [
    "filtered_e_e_df = filtered_e_e_df[filtered_e_e_df['institution'] == 'Michigan State University']"
   ]
  },
  {
   "cell_type": "code",
   "execution_count": null,
   "metadata": {},
   "outputs": [],
   "source": [
    "filtered_e_e_df"
   ]
  },
  {
   "cell_type": "code",
   "execution_count": null,
   "metadata": {},
   "outputs": [],
   "source": []
  }
 ],
 "metadata": {
  "kernelspec": {
   "display_name": "Python 3",
   "language": "python",
   "name": "python3"
  },
  "language_info": {
   "codemirror_mode": {
    "name": "ipython",
    "version": 3
   },
   "file_extension": ".py",
   "mimetype": "text/x-python",
   "name": "python",
   "nbconvert_exporter": "python",
   "pygments_lexer": "ipython3",
   "version": "3.8.2"
  },
  "orig_nbformat": 4
 },
 "nbformat": 4,
 "nbformat_minor": 2
}
