{
 "cells": [
  {
   "cell_type": "code",
   "execution_count": null,
   "metadata": {},
   "outputs": [],
   "source": [
    "import json\n",
    "import pandas as pd\n",
    "from pathlib import Path\n",
    "from datetime import datetime\n"
   ]
  },
  {
   "cell_type": "code",
   "execution_count": null,
   "metadata": {},
   "outputs": [],
   "source": [
    "# Defining paths\n",
    "GROUP_DATA_DIR = Path(\"/Users/harshul/projects/kgwebsite/group-data\")\n",
    "\n",
    "MEMBERS_DIR_PATH = GROUP_DATA_DIR / 'members/'\n",
    "WEBSITE_DATA_PATH = GROUP_DATA_DIR / 'website_data/'\n",
    "CONTENT_DIR_PATH = WEBSITE_DATA_PATH / 'content'\n"
   ]
  },
  {
   "cell_type": "code",
   "execution_count": null,
   "metadata": {},
   "outputs": [],
   "source": [
    "def parse_education_experience_df(member_dir):\n",
    "    member_json_dir = member_dir / 'jsons'\n",
    "    education_experience_list = []\n",
    "\n",
    "    if (member_experiences_dir := (member_json_dir / 'experiences.json')).exists():\n",
    "        with open(member_experiences_dir, 'r') as f:\n",
    "            education_experience_list += json.load(f)\n",
    "    else:\n",
    "        print(member_experiences_dir)\n",
    "    \n",
    "    if (member_education_dir := (member_json_dir / 'education.json')).exists():\n",
    "        with open(member_education_dir, 'r') as f:\n",
    "            education_experience_list += json.load(f)\n",
    "    \n",
    "    return pd.DataFrame(education_experience_list)"
   ]
  },
  {
   "cell_type": "code",
   "execution_count": null,
   "metadata": {},
   "outputs": [],
   "source": [
    "for member_dir in MEMBERS_DIR_PATH.glob('*'):\n",
    "    if not (member_info_fname := member_dir / 'info.json').exists():\n",
    "      continue\n",
    "    else:\n",
    "        member_info = json.load(open(member_info_fname, 'r'))\n",
    "    print(member_dir, type(member_dir))\n",
    "\n",
    "    education_experience_df = parse_education_experience_df(member_dir)\n",
    "\n"
   ]
  },
  {
   "cell_type": "code",
   "execution_count": null,
   "metadata": {},
   "outputs": [],
   "source": [
    "member_dir = Path(\"/Users/harshul/projects/kgwebsite/group-data/members/isaac_smith\")\n",
    "\n",
    "parse_education_experience_df(member_dir)"
   ]
  },
  {
   "cell_type": "code",
   "execution_count": null,
   "metadata": {},
   "outputs": [],
   "source": [
    "def extract_member_academic_role(education_experience_df):\n",
    "    current_academic_role = \"\"\n",
    "    is_current_member = False\n",
    "    \n",
    "    if 'end_date' not in education_experience_df.columns:\n",
    "        education_experience_df['end_date'] = None\n",
    "    if 'group' not in education_experience_df.columns:\n",
    "        education_experience_df['group'] = None\n",
    "    if 'institution' not in education_experience_df.columns:\n",
    "        education_experience_df['institution'] = None    \n",
    "    # Filter based on 'institution' or 'group'\n",
    "    condition_institution = (education_experience_df['institution'] == 'Michigan State University')\n",
    "    condition_group = education_experience_df['group'].isin(['kerzendorf', 'DTI', 'ICER'])\n",
    "    \n",
    "    filtered_e_e_df = education_experience_df[condition_institution | condition_group]\n",
    "    \n",
    "    if len(filtered_e_e_df) == 0: \n",
    "       pass\n",
    "    \n",
    "    elif len(filtered_e_e_df) >= 1:\n",
    "        role = filtered_e_e_df.iloc[0].get('role', None)  \n",
    "        degree = filtered_e_e_df.iloc[0].get('degree', None)  \n",
    "        \n",
    "        if role in ['Assistant Professor', 'Professor']:\n",
    "            current_academic_role = 'Professor'\n",
    "        if role == \"Professorial Assistant\":\n",
    "            current_academic_role = 'Professorial Assistant'\n",
    "        elif role in ['Visiting Researcher', 'Postdoctoral Researcher']:\n",
    "            current_academic_role = 'Postdoctoral Researcher' \n",
    "        elif degree in ['Masters', 'PhD']:\n",
    "            current_academic_role = 'Graduate Student' \n",
    "        elif degree == 'Bachelors':\n",
    "            current_academic_role = 'Graduate Student' if filtered_e_e_df.iloc[0].get('end_date') is None else 'Undergraduate Student'\n",
    "        \n",
    "    has_end_date = any(not pd.isna(date) for date in filtered_e_e_df['end_date'])\n",
    "    is_current_member = not has_end_date\n",
    "\n",
    "    return current_academic_role, is_current_member"
   ]
  },
  {
   "cell_type": "code",
   "execution_count": null,
   "metadata": {},
   "outputs": [],
   "source": [
    "\n",
    "# for creating two lists\n",
    "\n",
    "current_people_page_list = []\n",
    "alumni_people_page_list = []\n",
    "\n",
    "\n",
    "for member_dir in MEMBERS_DIR_PATH.glob('*'):\n",
    "    print(member_dir)\n",
    "    if not (member_info_fname := member_dir / 'info.json').exists():\n",
    "        continue\n",
    "    else:\n",
    "        member_info = json.load(open(member_info_fname, 'r'))\n",
    "    education_experience_df = parse_education_experience_df(member_dir)\n",
    "    current_academic_role, is_current_member = extract_member_academic_role(education_experience_df)\n",
    "\n",
    "    \n",
    "    first_name = member_info['first_name']\n",
    "    print(first_name)\n",
    "    last_name = member_info['last_name']\n",
    "    nickname = member_info.get('nick_name', None)\n",
    "    id = member_info['id']\n",
    "    image_path = member_info['image_path']  \n",
    "    cover_image_path = member_info['cover_image_path']   \n",
    "\n",
    "    name = f'{nickname if nickname else first_name} {last_name}'\n",
    "\n",
    "    if is_current_member:\n",
    "        current_people_page_list.append({\"Name\": name, \"academic_role\": current_academic_role, \"ID\": id})\n",
    "    else:\n",
    "        alumni_people_page_list.append({\"Name\": name, \"academic_role\": current_academic_role, \"ID\": id})\n",
    "\n",
    "\n"
   ]
  },
  {
   "cell_type": "code",
   "execution_count": null,
   "metadata": {},
   "outputs": [],
   "source": [
    "current_people_page_list"
   ]
  },
  {
   "cell_type": "code",
   "execution_count": null,
   "metadata": {},
   "outputs": [],
   "source": [
    "alumni_people_page_list"
   ]
  },
  {
   "cell_type": "code",
   "execution_count": null,
   "metadata": {},
   "outputs": [],
   "source": [
    "member_dir"
   ]
  },
  {
   "cell_type": "code",
   "execution_count": null,
   "metadata": {},
   "outputs": [],
   "source": [
    "filtered_e_e_df = filtered_e_e_df[filtered_e_e_df['institution'] == 'Michigan State University']"
   ]
  },
  {
   "cell_type": "code",
   "execution_count": null,
   "metadata": {},
   "outputs": [],
   "source": [
    "filtered_e_e_df"
   ]
  },
  {
   "cell_type": "code",
   "execution_count": null,
   "metadata": {},
   "outputs": [],
   "source": []
  }
 ],
 "metadata": {
  "kernelspec": {
   "display_name": "Python 3",
   "language": "python",
   "name": "python3"
  },
  "language_info": {
   "codemirror_mode": {
    "name": "ipython",
    "version": 3
   },
   "file_extension": ".py",
   "mimetype": "text/x-python",
   "name": "python",
   "nbconvert_exporter": "python",
   "pygments_lexer": "ipython3",
   "version": "3.8.2"
  },
  "orig_nbformat": 4
 },
 "nbformat": 4,
 "nbformat_minor": 2
}
