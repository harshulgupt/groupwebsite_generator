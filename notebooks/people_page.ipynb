{
 "cells": [
  {
   "cell_type": "code",
   "execution_count": 42,
   "metadata": {},
   "outputs": [],
   "source": [
    "import json\n",
    "import pandas as pd\n",
    "from pathlib import Path\n"
   ]
  },
  {
   "cell_type": "code",
   "execution_count": 43,
   "metadata": {},
   "outputs": [],
   "source": [
    "# Defining paths\n",
    "GROUP_DATA_DIR = Path(\"/Users/harshul/projects/kgwebsite/group-data\")\n",
    "\n",
    "MEMBERS_DIR_PATH = GROUP_DATA_DIR / 'members/'\n",
    "WEBSITE_DATA_PATH = GROUP_DATA_DIR / 'website_data/'\n",
    "CONTENT_DIR_PATH = WEBSITE_DATA_PATH / 'content'\n"
   ]
  },
  {
   "cell_type": "code",
   "execution_count": 44,
   "metadata": {},
   "outputs": [
    {
     "ename": "ValueError",
     "evalue": "Not sure what happened multiple positions at MSU",
     "output_type": "error",
     "traceback": [
      "\u001b[0;31m---------------------------------------------------------------------------\u001b[0m",
      "\u001b[0;31mValueError\u001b[0m                                Traceback (most recent call last)",
      "\u001b[1;32m/Users/harshul/projects/kgwebsite/groupwebsite_generator/notebooks/people_page.ipynb Cell 3\u001b[0m line \u001b[0;36m8\n\u001b[1;32m     <a href='vscode-notebook-cell:/Users/harshul/projects/kgwebsite/groupwebsite_generator/notebooks/people_page.ipynb#X55sZmlsZQ%3D%3D?line=79'>80</a>\u001b[0m     member_info \u001b[39m=\u001b[39m json\u001b[39m.\u001b[39mload(\u001b[39mopen\u001b[39m(member_info_fname, \u001b[39m'\u001b[39m\u001b[39mr\u001b[39m\u001b[39m'\u001b[39m))\n\u001b[1;32m     <a href='vscode-notebook-cell:/Users/harshul/projects/kgwebsite/groupwebsite_generator/notebooks/people_page.ipynb#X55sZmlsZQ%3D%3D?line=80'>81</a>\u001b[0m education_experience_df \u001b[39m=\u001b[39m parse_education_experience_df(member_dir)\n\u001b[0;32m---> <a href='vscode-notebook-cell:/Users/harshul/projects/kgwebsite/groupwebsite_generator/notebooks/people_page.ipynb#X55sZmlsZQ%3D%3D?line=81'>82</a>\u001b[0m current_academic_role, is_current_member \u001b[39m=\u001b[39m extract_member_academic_role(education_experience_df)\n\u001b[1;32m     <a href='vscode-notebook-cell:/Users/harshul/projects/kgwebsite/groupwebsite_generator/notebooks/people_page.ipynb#X55sZmlsZQ%3D%3D?line=84'>85</a>\u001b[0m first_name \u001b[39m=\u001b[39m member_info[\u001b[39m'\u001b[39m\u001b[39mfirst_name\u001b[39m\u001b[39m'\u001b[39m]\n\u001b[1;32m     <a href='vscode-notebook-cell:/Users/harshul/projects/kgwebsite/groupwebsite_generator/notebooks/people_page.ipynb#X55sZmlsZQ%3D%3D?line=85'>86</a>\u001b[0m last_name \u001b[39m=\u001b[39m member_info[\u001b[39m'\u001b[39m\u001b[39mlast_name\u001b[39m\u001b[39m'\u001b[39m]\n",
      "\u001b[1;32m/Users/harshul/projects/kgwebsite/groupwebsite_generator/notebooks/people_page.ipynb Cell 3\u001b[0m line \u001b[0;36m6\n\u001b[1;32m     <a href='vscode-notebook-cell:/Users/harshul/projects/kgwebsite/groupwebsite_generator/notebooks/people_page.ipynb#X55sZmlsZQ%3D%3D?line=62'>63</a>\u001b[0m     is_current_member \u001b[39m=\u001b[39m \u001b[39mTrue\u001b[39;00m\n\u001b[1;32m     <a href='vscode-notebook-cell:/Users/harshul/projects/kgwebsite/groupwebsite_generator/notebooks/people_page.ipynb#X55sZmlsZQ%3D%3D?line=64'>65</a>\u001b[0m \u001b[39melse\u001b[39;00m:\n\u001b[0;32m---> <a href='vscode-notebook-cell:/Users/harshul/projects/kgwebsite/groupwebsite_generator/notebooks/people_page.ipynb#X55sZmlsZQ%3D%3D?line=65'>66</a>\u001b[0m     \u001b[39mraise\u001b[39;00m \u001b[39mValueError\u001b[39;00m(\u001b[39m'\u001b[39m\u001b[39mNot sure what happened multiple positions at MSU\u001b[39m\u001b[39m'\u001b[39m)\n\u001b[1;32m     <a href='vscode-notebook-cell:/Users/harshul/projects/kgwebsite/groupwebsite_generator/notebooks/people_page.ipynb#X55sZmlsZQ%3D%3D?line=67'>68</a>\u001b[0m \u001b[39mreturn\u001b[39;00m current_academic_role, is_current_member\n",
      "\u001b[0;31mValueError\u001b[0m: Not sure what happened multiple positions at MSU"
     ]
    }
   ],
   "source": [
    "# creating dataframe for education and experiences\n",
    "def parse_education_experience_df(member_dir):\n",
    "    member_json_dir = member_dir / 'jsons'\n",
    "    education_experience_list = []\n",
    "\n",
    "    if (member_experiences_dir := (member_json_dir / 'experiences.json')).exists():\n",
    "        with open(member_experiences_dir, 'r') as f:\n",
    "            education_experience_list += json.load(f)\n",
    "    else:\n",
    "        print(member_experiences_dir)\n",
    "    \n",
    "    if (member_education_dir := (member_json_dir / 'education.json')).exists():\n",
    "        with open(member_education_dir, 'r') as f:\n",
    "            education_experience_list += json.load(f)\n",
    "    \n",
    "    return pd.DataFrame(education_experience_list)\n",
    "# To see if member is current member and their roles\n",
    "member_records = []\n",
    "\n",
    "def extract_member_academic_role(education_experience_df):\n",
    "    current_academic_role = \"\"  \n",
    "    is_current_member = False\n",
    "    valid_groups = ['tardis', 'kerzendorf', 'DTI', 'ICER']\n",
    "    valid_institutions= []\n",
    "    if 'group' not in education_experience_df.columns:\n",
    "        education_experience_df['group'] = None\n",
    "\n",
    "    if 'end_date' not in education_experience_df.columns:\n",
    "        education_experience_df['end_date'] = None\n",
    "    if 'institution' not in education_experience_df.columns:\n",
    "        education_experience_df['institution'] = None\n",
    "        print(\"No 'institution' column found in dataframe.\")\n",
    "        filtered_e_e_df = pd.DataFrame()\n",
    "\n",
    "    filtered_e_e_df = education_experience_df[(education_experience_df.end_date.isna()) & ( (education_experience_df['group'].isin(valid_groups)) | (education_experience_df['institution'] == 'Michigan State University')) ]\n",
    "\n",
    "\n",
    "\n",
    "    \n",
    "    \n",
    "\n",
    "    if len(filtered_e_e_df) == 0: \n",
    "       pass\n",
    "        \n",
    "    \n",
    "    elif len(filtered_e_e_df) == 1:\n",
    "        \n",
    "        role = filtered_e_e_df.iloc[0].get('role', None)  \n",
    "        degree = filtered_e_e_df.iloc[0].get('degree', None)  \n",
    "        if role in ['Assistant Professor', 'Professor']:\n",
    "            current_academic_role = 'Professor'\n",
    "\n",
    "        elif role in ['Visiting Researcher', 'Postdoctoral Researcher']:\n",
    "            current_academic_role = 'Postdoctoral Researcher'  \n",
    "  \n",
    "        elif degree in ['Masters', 'PhD']:\n",
    "            current_academic_role = 'Graduate Student' \n",
    "  \n",
    "        elif degree == 'Bachelors':\n",
    "\n",
    "            current_academic_role = 'Graduate Student' if filtered_e_e_df.iloc[0].get('end_date') is None else 'Undergraduate Student'\n",
    "\n",
    "        is_current_member = True\n",
    "\n",
    "    else:\n",
    "        raise ValueError('Not sure what happened multiple positions at MSU')\n",
    "        \n",
    "    return current_academic_role, is_current_member\n",
    "\n",
    "# for creating two lists\n",
    "\n",
    "current_people_page_list = []\n",
    "alumni_people_page_list = []\n",
    "\n",
    "\n",
    "for member_dir in MEMBERS_DIR_PATH.glob('*'):\n",
    "    if not (member_info_fname := member_dir / 'info.json').exists():\n",
    "        continue\n",
    "    else:\n",
    "        member_info = json.load(open(member_info_fname, 'r'))\n",
    "    education_experience_df = parse_education_experience_df(member_dir)\n",
    "    current_academic_role, is_current_member = extract_member_academic_role(education_experience_df)\n",
    "\n",
    "    \n",
    "    first_name = member_info['first_name']\n",
    "    last_name = member_info['last_name']\n",
    "    nickname = member_info.get('nick_name', None)\n",
    "    id = member_info['id']\n",
    "    image_path = member_info['image_path']  \n",
    "    cover_image_path = member_info['cover_image_path']   \n",
    "\n",
    "    name = f'{nickname if nickname else first_name} {last_name}'\n",
    "\n",
    "    if is_current_member:\n",
    "        current_people_page_list.append({\"Name\": name, \"academic_role\": current_academic_role, \"ID\": id})\n",
    "    else:\n",
    "        alumni_people_page_list.append({\"Name\": name, \"academic_role\": current_academic_role, \"ID\": id})\n",
    "\n",
    "\n"
   ]
  },
  {
   "cell_type": "code",
   "execution_count": null,
   "metadata": {},
   "outputs": [
    {
     "data": {
      "text/plain": [
       "[{'Name': 'Josh Shields',\n",
       "  'academic_role': 'Graduate Student',\n",
       "  'ID': 'josh_shields'},\n",
       " {'Name': 'Anirban  Dutta',\n",
       "  'academic_role': 'Postdoctoral Researcher',\n",
       "  'ID': 'anirban_dutta'},\n",
       " {'Name': 'Erin Visser',\n",
       "  'academic_role': 'Graduate Student',\n",
       "  'ID': 'erin_visser'},\n",
       " {'Name': 'Vicente  Amado Olivo',\n",
       "  'academic_role': 'Graduate Student',\n",
       "  'ID': 'vicente_amado'},\n",
       " {'Name': 'Yuki Matsumura',\n",
       "  'academic_role': 'Graduate Student',\n",
       "  'ID': 'yuki_matsumura'},\n",
       " {'Name': 'Andrew Fullard', 'academic_role': '', 'ID': 'andrew_fullard'},\n",
       " {'Name': 'Hayden Monk',\n",
       "  'academic_role': 'Graduate Student',\n",
       "  'ID': 'hayden_monk'},\n",
       " {'Name': 'Bea Lu', 'academic_role': '', 'ID': 'bea_lu'},\n",
       " {'Name': \"Jack O'Brien\",\n",
       "  'academic_role': 'Graduate Student',\n",
       "  'ID': 'jack_o_brien'},\n",
       " {'Name': 'Cecelia Powers',\n",
       "  'academic_role': 'Graduate Student',\n",
       "  'ID': 'cecelia_powers'},\n",
       " {'Name': 'Sofia Biriouk',\n",
       "  'academic_role': 'Undergraduate Student',\n",
       "  'ID': 'sofia_biriouk'},\n",
       " {'Name': 'Jing Lu',\n",
       "  'academic_role': 'Postdoctoral Researcher',\n",
       "  'ID': 'jing_lu'},\n",
       " {'Name': 'Harshul Gupta',\n",
       "  'academic_role': 'Undergraduate Student',\n",
       "  'ID': 'harshul_gupta'},\n",
       " {'Name': 'Wolfgang Kerzendorf',\n",
       "  'academic_role': 'Professor',\n",
       "  'ID': 'wolfgang_kerzendorf'}]"
      ]
     },
     "execution_count": 35,
     "metadata": {},
     "output_type": "execute_result"
    }
   ],
   "source": [
    "current_people_page_list"
   ]
  },
  {
   "cell_type": "code",
   "execution_count": null,
   "metadata": {},
   "outputs": [
    {
     "data": {
      "text/plain": [
       "[{'Name': 'Isaac Smith', 'academic_role': '', 'ID': 'isaac_smith'},\n",
       " {'Name': 'Atharva Arya', 'academic_role': '', 'ID': 'atharva_arya'},\n",
       " {'Name': 'Tripp Dow', 'academic_role': '', 'ID': 'richard_dow'},\n",
       " {'Name': 'Sona Chitchyan', 'academic_role': '', 'ID': 'sona_chitchyan'},\n",
       " {'Name': 'Iliomar Rodriguez-Ramos',\n",
       "  'academic_role': '',\n",
       "  'ID': 'iliomar_rodriguez_ramos'},\n",
       " {'Name': 'Jaladh Singhal', 'academic_role': '', 'ID': 'jaladh_singhal'},\n",
       " {'Name': 'Template Person', 'academic_role': '', 'ID': 'template_person'},\n",
       " {'Name': 'Kevin Cawley', 'academic_role': '', 'ID': 'kevin_cawley'},\n",
       " {'Name': 'Alexander Grunewald',\n",
       "  'academic_role': '',\n",
       "  'ID': 'alexander_grunewald'}]"
      ]
     },
     "execution_count": 36,
     "metadata": {},
     "output_type": "execute_result"
    }
   ],
   "source": [
    "alumni_people_page_list"
   ]
  },
  {
   "cell_type": "code",
   "execution_count": null,
   "metadata": {},
   "outputs": [
    {
     "data": {
      "text/plain": [
       "PosixPath('/Users/harshul/projects/kgwebsite/group-data/members/wolfgang_kerzendorf')"
      ]
     },
     "execution_count": 37,
     "metadata": {},
     "output_type": "execute_result"
    }
   ],
   "source": [
    "member_dir"
   ]
  },
  {
   "cell_type": "code",
   "execution_count": null,
   "metadata": {},
   "outputs": [
    {
     "ename": "NameError",
     "evalue": "name 'filtered_e_e_df' is not defined",
     "output_type": "error",
     "traceback": [
      "\u001b[0;31m---------------------------------------------------------------------------\u001b[0m",
      "\u001b[0;31mNameError\u001b[0m                                 Traceback (most recent call last)",
      "\u001b[1;32m/Users/harshul/projects/kgwebsite/groupwebsite_generator/notebooks/people_page.ipynb Cell 7\u001b[0m line \u001b[0;36m1\n\u001b[0;32m----> <a href='vscode-notebook-cell:/Users/harshul/projects/kgwebsite/groupwebsite_generator/notebooks/people_page.ipynb#X64sZmlsZQ%3D%3D?line=0'>1</a>\u001b[0m filtered_e_e_df \u001b[39m=\u001b[39m filtered_e_e_df[filtered_e_e_df[\u001b[39m'\u001b[39m\u001b[39minstitution\u001b[39m\u001b[39m'\u001b[39m] \u001b[39m==\u001b[39m \u001b[39m'\u001b[39m\u001b[39mMichigan State University\u001b[39m\u001b[39m'\u001b[39m]\n",
      "\u001b[0;31mNameError\u001b[0m: name 'filtered_e_e_df' is not defined"
     ]
    }
   ],
   "source": [
    "filtered_e_e_df = filtered_e_e_df[filtered_e_e_df['institution'] == 'Michigan State University']"
   ]
  },
  {
   "cell_type": "code",
   "execution_count": null,
   "metadata": {},
   "outputs": [],
   "source": [
    "filtered_e_e_df"
   ]
  },
  {
   "cell_type": "code",
   "execution_count": null,
   "metadata": {},
   "outputs": [],
   "source": [
    "parse_education_experience_df(member_dir)"
   ]
  },
  {
   "cell_type": "code",
   "execution_count": null,
   "metadata": {},
   "outputs": [],
   "source": []
  }
 ],
 "metadata": {
  "kernelspec": {
   "display_name": "Python 3",
   "language": "python",
   "name": "python3"
  },
  "language_info": {
   "codemirror_mode": {
    "name": "ipython",
    "version": 3
   },
   "file_extension": ".py",
   "mimetype": "text/x-python",
   "name": "python",
   "nbconvert_exporter": "python",
   "pygments_lexer": "ipython3",
   "version": "3.8.2"
  },
  "orig_nbformat": 4
 },
 "nbformat": 4,
 "nbformat_minor": 2
}
