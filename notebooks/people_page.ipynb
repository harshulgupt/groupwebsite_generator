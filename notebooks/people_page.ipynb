{
 "cells": [
  {
   "cell_type": "code",
   "execution_count": 24,
   "metadata": {},
   "outputs": [],
   "source": [
    "import json\n",
    "import pandas as pd\n",
    "from pathlib import Path\n"
   ]
  },
  {
   "cell_type": "code",
   "execution_count": 22,
   "metadata": {},
   "outputs": [],
   "source": [
    "# Defining paths\n",
    "GROUP_DATA_DIR = Path(\"/Users/harshul/website clone/harshul/test/group-data/\")\n",
    "\n",
    "MEMBERS_DIR_PATH = GROUP_DATA_DIR / 'members/'\n",
    "WEBSITE_DATA_PATH = GROUP_DATA_DIR / 'website_data/'\n",
    "CONTENT_DIR_PATH = WEBSITE_DATA_PATH / 'content'\n"
   ]
  },
  {
   "cell_type": "code",
   "execution_count": 27,
   "metadata": {},
   "outputs": [
    {
     "name": "stdout",
     "output_type": "stream",
     "text": [
      "[]\n"
     ]
    }
   ],
   "source": [
    "def determine_academic_role(top_experience_role, top_education_degree, top_education_end_date):\n",
    "    if any(substring in top_experience_role for substring in ['Assistant Professor', 'Professor']):\n",
    "        return 'Professor'\n",
    "    elif top_experience_role in ['Visiting Researcher', 'Postdoctoral Researcher']:\n",
    "        return 'Postdoctoral researcher'\n",
    "    \n",
    "    if top_education_degree == 'Bachelors':\n",
    "        return 'Graduate Student' if top_education_end_date is not None else 'Undergraduate Student'\n",
    "    elif top_education_degree in ['Masters', 'PhD']:\n",
    "        return 'Graduate Student'\n",
    "\n",
    "    return 'Other'\n",
    "\n",
    "def extract_member_data(member_dir):\n",
    "    if member_dir.name.startswith('.') or not (member_dir / 'info.json').exists():\n",
    "        return None, None, None, None\n",
    "\n",
    "    with open(member_dir / 'info.json', 'r') as f:\n",
    "        member_record = json.load(f)\n",
    "    member_json_dir = member_dir / 'jsons'\n",
    "\n",
    "    top_experience_role = \"\"\n",
    "    top_education_degree = \"\"\n",
    "    top_education_end_date = None\n",
    "  \n",
    "    if (member_experiences := (member_json_dir / 'experiences.json')).exists():\n",
    "        with open(member_experiences, 'r') as f:\n",
    "            experiences = json.load(f)\n",
    "            if experiences:\n",
    "                top_experience_role = experiences[0].get('role', \"\")\n",
    "    \n",
    "    if (member_education := (member_json_dir / 'education.json')).exists():\n",
    "        with open(member_education, 'r') as f:\n",
    "            education = json.load(f)\n",
    "            if education:\n",
    "                top_education_degree = education[0].get('degree', \"\")\n",
    "                top_education_end_date = education[0].get('end_date')\n",
    "\n",
    "    return member_record, top_experience_role, top_education_degree, top_education_end_date\n",
    "\n",
    "member_records = []"
   ]
  },
  {
   "cell_type": "code",
   "execution_count": null,
   "metadata": {},
   "outputs": [
    {
     "name": "stdout",
     "output_type": "stream",
     "text": [
      "[]\n"
     ]
    }
   ],
   "source": [
    "\n",
    "\n",
    "\n",
    "for member_dir in MEMBERS_DIR_PATH.glob('*'):\n",
    "    \n",
    "    member_record, top_experience_role, top_education_degree, top_education_end_date = extract_member_data(member_dir)\n",
    "    \n",
    "    if not member_record:\n",
    "        continue\n",
    "    \n",
    "    academic_role = determine_academic_role(top_experience_role, top_education_degree, top_education_end_date)\n",
    "\n",
    "    nick_name = member_record.get('nick_name', None)\n",
    "    second_name = member_record.get('last_name', \"\")\n",
    "    if not nick_name:\n",
    "        first_name = member_record.get('first_name', \"\")\n",
    "        last_name = member_record.get('last_name', \"\")\n",
    "        name = f\"{first_name} {last_name}\"\n",
    "    else:\n",
    "        name = f\"{nick_name} {second_name}\"\n",
    "\n",
    "    member_records.append({\"Name\": name, \"Academic Role\": academic_role})\n",
    "\n",
    "\n",
    "print(member_records)"
   ]
  },
  {
   "cell_type": "code",
   "execution_count": 25,
   "metadata": {},
   "outputs": [
    {
     "ename": "ValueError",
     "evalue": "too many values to unpack (expected 4)",
     "output_type": "error",
     "traceback": [
      "\u001b[0;31m---------------------------------------------------------------------------\u001b[0m",
      "\u001b[0;31mValueError\u001b[0m                                Traceback (most recent call last)",
      "\u001b[1;32m/Users/harshul/website clone/harshul/test/groupwebsite_generator/notebooks/people_page.ipynb Cell 5\u001b[0m line \u001b[0;36m4\n\u001b[1;32m     <a href='vscode-notebook-cell:/Users/harshul/website%20clone/harshul/test/groupwebsite_generator/notebooks/people_page.ipynb#X16sZmlsZQ%3D%3D?line=36'>37</a>\u001b[0m \u001b[39mif\u001b[39;00m member_dir\u001b[39m.\u001b[39mname\u001b[39m.\u001b[39mstartswith(\u001b[39m'\u001b[39m\u001b[39m.\u001b[39m\u001b[39m'\u001b[39m) \u001b[39mor\u001b[39;00m \u001b[39mnot\u001b[39;00m (member_dir \u001b[39m/\u001b[39m \u001b[39m'\u001b[39m\u001b[39minfo.json\u001b[39m\u001b[39m'\u001b[39m)\u001b[39m.\u001b[39mexists():\n\u001b[1;32m     <a href='vscode-notebook-cell:/Users/harshul/website%20clone/harshul/test/groupwebsite_generator/notebooks/people_page.ipynb#X16sZmlsZQ%3D%3D?line=37'>38</a>\u001b[0m     \u001b[39mcontinue\u001b[39;00m\n\u001b[0;32m---> <a href='vscode-notebook-cell:/Users/harshul/website%20clone/harshul/test/groupwebsite_generator/notebooks/people_page.ipynb#X16sZmlsZQ%3D%3D?line=40'>41</a>\u001b[0m member_record, top_experience_role, top_education_degree, top_education_end_date \u001b[39m=\u001b[39m extract_member_data(member_dir)\n\u001b[1;32m     <a href='vscode-notebook-cell:/Users/harshul/website%20clone/harshul/test/groupwebsite_generator/notebooks/people_page.ipynb#X16sZmlsZQ%3D%3D?line=42'>43</a>\u001b[0m \u001b[39mif\u001b[39;00m member_record \u001b[39mis\u001b[39;00m \u001b[39mNone\u001b[39;00m:\n\u001b[1;32m     <a href='vscode-notebook-cell:/Users/harshul/website%20clone/harshul/test/groupwebsite_generator/notebooks/people_page.ipynb#X16sZmlsZQ%3D%3D?line=43'>44</a>\u001b[0m     \u001b[39mcontinue\u001b[39;00m\n",
      "\u001b[0;31mValueError\u001b[0m: too many values to unpack (expected 4)"
     ]
    }
   ],
   "source": [
    "def determine_academic_role(top_experience_role, top_education_degree, top_education_end_date):\n",
    "    if any(substring in top_experience_role for substring in ['Assistant Professor', 'Professor']):\n",
    "        return 'Professor'\n",
    "    elif top_experience_role in ['Visiting Researcher', 'Postdoctoral Researcher']:\n",
    "        return 'Postdoctoral researcher'\n",
    "    \n",
    "    if top_education_degree == 'Bachelors':\n",
    "        return 'Graduate Student' if top_education_end_date is not None else 'Undergraduate Student'\n",
    "    elif top_education_degree in ['Masters', 'PhD']:\n",
    "        return 'Graduate Student'\n",
    "\n",
    "    return 'Other'\n",
    "\n",
    "def parse_education_experience_df(member_dir):\n",
    "    if member_dir.name.startswith('.') or not (member_dir / 'info.json').exists():\n",
    "        return None, None, None, None\n",
    "\n",
    "    with open(member_dir / 'info.json', 'r') as f:\n",
    "        member_record = json.load(f)\n",
    "    member_json_dir = member_dir / 'jsons'\n",
    "  \n",
    "    education_experience_list = []\n",
    "    if (member_experiences := (member_json_dir / 'experiences.json')).exists():\n",
    "        with open(member_experiences, 'r') as f:\n",
    "            education_experience_list += json.load(f)\n",
    "    \n",
    "    if (member_education := (member_json_dir / 'education.json')).exists():\n",
    "        with open(member_education, 'r') as f:\n",
    "            education_experience_list += json.load(f)\n",
    "\n",
    "    education_experience_df = pd.DataFrame(education+experiences)\n",
    "    return education_experience_df\n",
    "\n",
    "member_records = []\n",
    "\n",
    "for member_dir in MEMBERS_DIR_PATH.glob('*'):\n",
    "    if member_dir.name.startswith('.') or not (member_dir / 'info.json').exists():\n",
    "        continue\n",
    "    \n",
    "\n",
    "    member_record, top_experience_role, top_education_degree, top_education_end_date = extract_member_data(member_dir)\n",
    "    \n",
    "    if member_record is None:\n",
    "        continue\n",
    "    \n",
    "    academic_role = determine_academic_role(top_experience_role, top_education_degree, top_education_end_date)\n",
    "\n",
    "    nick_name = member_record.get('nick_name', None)\n",
    "    second_name = member_record.get('last_name', \"\")\n",
    "    if not nick_name:\n",
    "        first_name = member_record.get('first_name', \"\")\n",
    "        last_name = member_record.get('last_name', \"\")\n",
    "        name = f\"{first_name} {last_name}\"\n",
    "    else:\n",
    "        name = f\"{nick_name} {second_name}\"\n",
    "\n",
    "    member_records.append({\"Name\": name, \"Academic Role\": academic_role})\n",
    "\n",
    "education_experience_df = pd.DataFrame(member_records)\n",
    "education_experience_df"
   ]
  },
  {
   "cell_type": "code",
   "execution_count": null,
   "metadata": {},
   "outputs": [],
   "source": []
  }
 ],
 "metadata": {
  "kernelspec": {
   "display_name": "Python 3",
   "language": "python",
   "name": "python3"
  },
  "language_info": {
   "codemirror_mode": {
    "name": "ipython",
    "version": 3
   },
   "file_extension": ".py",
   "mimetype": "text/x-python",
   "name": "python",
   "nbconvert_exporter": "python",
   "pygments_lexer": "ipython3",
   "version": "3.8.2"
  },
  "orig_nbformat": 4
 },
 "nbformat": 4,
 "nbformat_minor": 2
}
