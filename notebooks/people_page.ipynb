{
 "cells": [
  {
   "cell_type": "code",
   "execution_count": 72,
   "metadata": {},
   "outputs": [],
   "source": [
    "import json\n",
    "import pandas as pd\n",
    "from pathlib import Path\n"
   ]
  },
  {
   "cell_type": "code",
   "execution_count": 73,
   "metadata": {},
   "outputs": [],
   "source": [
    "# Defining paths\n",
    "GROUP_DATA_DIR = Path(\"/Users/harshul/projects/kgwebsite/group-data\")\n",
    "\n",
    "MEMBERS_DIR_PATH = GROUP_DATA_DIR / 'members/'\n",
    "WEBSITE_DATA_PATH = GROUP_DATA_DIR / 'website_data/'\n",
    "CONTENT_DIR_PATH = WEBSITE_DATA_PATH / 'content'\n"
   ]
  },
  {
   "cell_type": "code",
   "execution_count": 74,
   "metadata": {},
   "outputs": [
    {
     "name": "stdout",
     "output_type": "stream",
     "text": [
      "/Users/harshul/projects/kgwebsite/group-data/members/bea_lu/jsons/experiences.json\n",
      "No 'institution' column found in dataframe.\n"
     ]
    }
   ],
   "source": [
    "# creating dataframe for education and experiences\n",
    "def parse_education_experience_df(member_dir):\n",
    "    member_json_dir = member_dir / 'jsons'\n",
    "    education_experience_list = []\n",
    "\n",
    "    if (member_experiences_dir := (member_json_dir / 'experiences.json')).exists():\n",
    "        with open(member_experiences_dir, 'r') as f:\n",
    "            education_experience_list += json.load(f)\n",
    "    else:\n",
    "        print(member_experiences_dir)\n",
    "    \n",
    "    if (member_education_dir := (member_json_dir / 'education.json')).exists():\n",
    "        with open(member_education_dir, 'r') as f:\n",
    "            education_experience_list += json.load(f)\n",
    "    \n",
    "    return pd.DataFrame(education_experience_list)\n",
    "# To see if member is current member and their roles\n",
    "member_records = []\n",
    "\n",
    "def extract_member_academic_role(education_experience_df):\n",
    "    current_academic_role = \"\"  \n",
    "    is_current_member = False\n",
    "    if 'end_date' not in education_experience_df.columns:\n",
    "        education_experience_df['end_date'] = None\n",
    "    filtered_e_e_df = education_experience_df[education_experience_df.end_date.isna()]\n",
    "    if 'institution' in filtered_e_e_df.columns:\n",
    "        filtered_e_e_df = filtered_e_e_df[filtered_e_e_df['institution'] == 'Michigan State University']\n",
    "    else:\n",
    "\n",
    "        print(\"No 'institution' column found in dataframe.\")\n",
    "        filtered_e_e_df = pd.DataFrame()\n",
    "\n",
    "    \n",
    "    \n",
    "\n",
    "    if len(filtered_e_e_df) == 0: \n",
    "       pass\n",
    "        \n",
    "    \n",
    "    elif len(filtered_e_e_df) == 1:\n",
    "        \n",
    "        role = filtered_e_e_df.iloc[0].get('role', None)  \n",
    "        degree = filtered_e_e_df.iloc[0].get('degree', None)  \n",
    "        if role in ['Assistant Professor', 'Professor']:\n",
    "            current_academic_role = 'Professor'\n",
    "\n",
    "        elif role in ['Visiting Researcher', 'Postdoctoral Researcher']:\n",
    "            current_academic_role = 'Postdoctoral Researcher'  \n",
    "  \n",
    "        elif degree in ['Masters', 'PhD']:\n",
    "            current_academic_role = 'Graduate Student' \n",
    "  \n",
    "        elif degree == 'Bachelors':\n",
    "\n",
    "            current_academic_role = 'Graduate Student' if filtered_e_e_df.iloc[0].get('degree') is None else 'Undergraduate Student'\n",
    "\n",
    "        is_current_member = True\n",
    "\n",
    "    else:\n",
    "        raise ValueError('Not sure what happened multiple positions at MSU')\n",
    "        \n",
    "    return current_academic_role, is_current_member\n",
    "\n",
    "# for creating two lists\n",
    "\n",
    "current_people_page_list = []\n",
    "alumni_people_page_list = []\n",
    "\n",
    "\n",
    "for member_dir in MEMBERS_DIR_PATH.glob('*'):\n",
    "    if not (member_info_fname := member_dir / 'info.json').exists():\n",
    "        continue\n",
    "    else:\n",
    "        member_info = json.load(open(member_info_fname, 'r'))\n",
    "    education_experience_df = parse_education_experience_df(member_dir)\n",
    "    current_academic_role, is_current_member = extract_member_academic_role(education_experience_df)\n",
    "\n",
    "    \n",
    "    first_name = member_info['first_name']\n",
    "    last_name = member_info['last_name']\n",
    "    nickname = member_info.get('nick_name', None)\n",
    "    id = member_info['id']\n",
    "    image_path = member_info['image_path']  \n",
    "    cover_image_path = member_info['cover_image_path']   \n",
    "\n",
    "    name = f'{nickname if nickname else first_name} {last_name}'\n",
    "\n",
    "    if is_current_member:\n",
    "        current_people_page_list.append({\"Name\": name, \"academic_role\": current_academic_role, \"ID\": id})\n",
    "    else:\n",
    "        alumni_people_page_list.append({\"Name\": name, \"academic_role\": current_academic_role, \"ID\": id})\n",
    "\n",
    "\n"
   ]
  },
  {
   "cell_type": "code",
   "execution_count": 75,
   "metadata": {},
   "outputs": [
    {
     "data": {
      "text/plain": [
       "[{'Name': 'Josh Shields',\n",
       "  'academic_role': 'Graduate Student',\n",
       "  'ID': 'media/images/cover.jpg'},\n",
       " {'Name': 'Anirban  Dutta',\n",
       "  'academic_role': 'Postdoctoral Researcher',\n",
       "  'ID': 'media/images/cover.jpg'},\n",
       " {'Name': 'Erin Visser',\n",
       "  'academic_role': 'Undergraduate Student',\n",
       "  'ID': 'media/images/cover.jpg'},\n",
       " {'Name': 'Vicente  Amado Olivo',\n",
       "  'academic_role': 'Graduate Student',\n",
       "  'ID': 'media/images/cover.jpg'},\n",
       " {'Name': 'Yuki Matsumura',\n",
       "  'academic_role': 'Graduate Student',\n",
       "  'ID': 'media/images/cover.jpg'},\n",
       " {'Name': 'Andrew Fullard',\n",
       "  'academic_role': '',\n",
       "  'ID': 'media/images/cover.jpg'},\n",
       " {'Name': 'Hayden Monk',\n",
       "  'academic_role': 'Undergraduate Student',\n",
       "  'ID': 'media/images/cover.jpg'},\n",
       " {'Name': 'Bea Lu',\n",
       "  'academic_role': 'Undergraduate Student',\n",
       "  'ID': 'media/images/cover.jpg'},\n",
       " {'Name': \"Jack O'Brien\",\n",
       "  'academic_role': 'Graduate Student',\n",
       "  'ID': 'media/images/cover.jpg'},\n",
       " {'Name': 'Cecelia Powers',\n",
       "  'academic_role': 'Undergraduate Student',\n",
       "  'ID': 'media/images/cover.jpg'},\n",
       " {'Name': 'Sofia Biriouk',\n",
       "  'academic_role': 'Undergraduate Student',\n",
       "  'ID': 'media/images/cover.jpg'},\n",
       " {'Name': 'Jing Lu',\n",
       "  'academic_role': 'Postdoctoral Researcher',\n",
       "  'ID': 'media/images/cover.jpg'},\n",
       " {'Name': 'Wolfgang Kerzendorf',\n",
       "  'academic_role': 'Professor',\n",
       "  'ID': 'media/images/cover.jpg'}]"
      ]
     },
     "execution_count": 75,
     "metadata": {},
     "output_type": "execute_result"
    }
   ],
   "source": [
    "current_people_page_list"
   ]
  },
  {
   "cell_type": "code",
   "execution_count": 76,
   "metadata": {},
   "outputs": [
    {
     "data": {
      "text/plain": [
       "[{'Name': 'Isaac Smith', 'academic_role': '', 'ID': 'media/images/cover.jpg'},\n",
       " {'Name': 'Atharva Arya', 'academic_role': '', 'ID': 'media/images/cover.jpg'},\n",
       " {'Name': 'Tripp Dow', 'academic_role': '', 'ID': 'media/images/cover.jpg'},\n",
       " {'Name': 'Sona Chitchyan',\n",
       "  'academic_role': '',\n",
       "  'ID': 'media/images/cover.jpg'},\n",
       " {'Name': 'Iliomar Rodriguez-Ramos',\n",
       "  'academic_role': '',\n",
       "  'ID': 'media/images/cover.jpg'},\n",
       " {'Name': 'Jaladh Singhal',\n",
       "  'academic_role': '',\n",
       "  'ID': 'media/images/cover.jpg'},\n",
       " {'Name': 'Template Person',\n",
       "  'academic_role': '',\n",
       "  'ID': 'media/images/cover.jpg'},\n",
       " {'Name': 'Kevin Cawley', 'academic_role': '', 'ID': 'media/images/cover.jpg'},\n",
       " {'Name': 'Alexander Grunewald',\n",
       "  'academic_role': '',\n",
       "  'ID': 'media/images/cover.jpg'},\n",
       " {'Name': 'Harshul Gupta',\n",
       "  'academic_role': '',\n",
       "  'ID': 'media/images/cover.jpg'}]"
      ]
     },
     "execution_count": 76,
     "metadata": {},
     "output_type": "execute_result"
    }
   ],
   "source": [
    "alumni_people_page_list"
   ]
  },
  {
   "cell_type": "code",
   "execution_count": 77,
   "metadata": {},
   "outputs": [
    {
     "data": {
      "text/plain": [
       "PosixPath('/Users/harshul/projects/kgwebsite/group-data/members/wolfgang_kerzendorf')"
      ]
     },
     "execution_count": 77,
     "metadata": {},
     "output_type": "execute_result"
    }
   ],
   "source": [
    "member_dir"
   ]
  },
  {
   "cell_type": "code",
   "execution_count": 78,
   "metadata": {},
   "outputs": [],
   "source": [
    "filtered_e_e_df = education_experience_df[education_experience_df.end_date.isna()]"
   ]
  },
  {
   "cell_type": "code",
   "execution_count": 79,
   "metadata": {},
   "outputs": [
    {
     "data": {
      "text/plain": [
       "institution    Michigan State University\n",
       "group                         kerzendorf\n",
       "city                        East Lansing\n",
       "state                           Michigan\n",
       "country                               US\n",
       "role                 Assistant Professor\n",
       "start_date                    2019-08-15\n",
       "end_date                             NaN\n",
       "degree                               NaN\n",
       "subject                              NaN\n",
       "Name: 0, dtype: object"
      ]
     },
     "execution_count": 79,
     "metadata": {},
     "output_type": "execute_result"
    }
   ],
   "source": [
    "filtered_e_e_df.iloc[0]"
   ]
  },
  {
   "cell_type": "code",
   "execution_count": 80,
   "metadata": {},
   "outputs": [
    {
     "data": {
      "text/html": [
       "<div>\n",
       "<style scoped>\n",
       "    .dataframe tbody tr th:only-of-type {\n",
       "        vertical-align: middle;\n",
       "    }\n",
       "\n",
       "    .dataframe tbody tr th {\n",
       "        vertical-align: top;\n",
       "    }\n",
       "\n",
       "    .dataframe thead th {\n",
       "        text-align: right;\n",
       "    }\n",
       "</style>\n",
       "<table border=\"1\" class=\"dataframe\">\n",
       "  <thead>\n",
       "    <tr style=\"text-align: right;\">\n",
       "      <th></th>\n",
       "      <th>institution</th>\n",
       "      <th>group</th>\n",
       "      <th>city</th>\n",
       "      <th>state</th>\n",
       "      <th>country</th>\n",
       "      <th>role</th>\n",
       "      <th>start_date</th>\n",
       "      <th>end_date</th>\n",
       "      <th>degree</th>\n",
       "      <th>subject</th>\n",
       "    </tr>\n",
       "  </thead>\n",
       "  <tbody>\n",
       "    <tr>\n",
       "      <th>0</th>\n",
       "      <td>Michigan State University</td>\n",
       "      <td>kerzendorf</td>\n",
       "      <td>East Lansing</td>\n",
       "      <td>Michigan</td>\n",
       "      <td>US</td>\n",
       "      <td>Assistant Professor</td>\n",
       "      <td>2019-08-15</td>\n",
       "      <td>NaN</td>\n",
       "      <td>NaN</td>\n",
       "      <td>NaN</td>\n",
       "    </tr>\n",
       "    <tr>\n",
       "      <th>1</th>\n",
       "      <td>New York University</td>\n",
       "      <td>NaN</td>\n",
       "      <td>New York</td>\n",
       "      <td>New York</td>\n",
       "      <td>US</td>\n",
       "      <td>Senior Research Associate</td>\n",
       "      <td>2019-01-01</td>\n",
       "      <td>2019-12-31</td>\n",
       "      <td>NaN</td>\n",
       "      <td>NaN</td>\n",
       "    </tr>\n",
       "    <tr>\n",
       "      <th>2</th>\n",
       "      <td>European Southern Observatory</td>\n",
       "      <td>NaN</td>\n",
       "      <td>Garching</td>\n",
       "      <td>Bavaria</td>\n",
       "      <td>DE</td>\n",
       "      <td>ESO Fellow</td>\n",
       "      <td>2014-10-01</td>\n",
       "      <td>2018-12-31</td>\n",
       "      <td>NaN</td>\n",
       "      <td>NaN</td>\n",
       "    </tr>\n",
       "    <tr>\n",
       "      <th>3</th>\n",
       "      <td>University of Toronto</td>\n",
       "      <td>NaN</td>\n",
       "      <td>Toronto</td>\n",
       "      <td>Ontario</td>\n",
       "      <td>Canada</td>\n",
       "      <td>NaN</td>\n",
       "      <td>2011-10-01</td>\n",
       "      <td>2014-09-30</td>\n",
       "      <td>Postdoctoral Fellow</td>\n",
       "      <td>NaN</td>\n",
       "    </tr>\n",
       "    <tr>\n",
       "      <th>4</th>\n",
       "      <td>Australian National University</td>\n",
       "      <td>NaN</td>\n",
       "      <td>Canberra</td>\n",
       "      <td></td>\n",
       "      <td>Australia</td>\n",
       "      <td>NaN</td>\n",
       "      <td>2007-02-01</td>\n",
       "      <td>2011-12-18</td>\n",
       "      <td>PhD</td>\n",
       "      <td>Physics and Astronomy</td>\n",
       "    </tr>\n",
       "  </tbody>\n",
       "</table>\n",
       "</div>"
      ],
      "text/plain": [
       "                      institution       group          city     state  \\\n",
       "0       Michigan State University  kerzendorf  East Lansing  Michigan   \n",
       "1             New York University         NaN      New York  New York   \n",
       "2   European Southern Observatory         NaN      Garching   Bavaria   \n",
       "3           University of Toronto         NaN       Toronto   Ontario   \n",
       "4  Australian National University         NaN      Canberra             \n",
       "\n",
       "     country                       role  start_date    end_date  \\\n",
       "0         US        Assistant Professor  2019-08-15         NaN   \n",
       "1         US  Senior Research Associate  2019-01-01  2019-12-31   \n",
       "2         DE                 ESO Fellow  2014-10-01  2018-12-31   \n",
       "3     Canada                        NaN  2011-10-01  2014-09-30   \n",
       "4  Australia                        NaN  2007-02-01  2011-12-18   \n",
       "\n",
       "                degree                subject  \n",
       "0                  NaN                    NaN  \n",
       "1                  NaN                    NaN  \n",
       "2                  NaN                    NaN  \n",
       "3  Postdoctoral Fellow                    NaN  \n",
       "4                  PhD  Physics and Astronomy  "
      ]
     },
     "execution_count": 80,
     "metadata": {},
     "output_type": "execute_result"
    }
   ],
   "source": [
    "parse_education_experience_df(member_dir)"
   ]
  },
  {
   "cell_type": "code",
   "execution_count": null,
   "metadata": {},
   "outputs": [],
   "source": []
  }
 ],
 "metadata": {
  "kernelspec": {
   "display_name": "Python 3",
   "language": "python",
   "name": "python3"
  },
  "language_info": {
   "codemirror_mode": {
    "name": "ipython",
    "version": 3
   },
   "file_extension": ".py",
   "mimetype": "text/x-python",
   "name": "python",
   "nbconvert_exporter": "python",
   "pygments_lexer": "ipython3",
   "version": "3.8.2"
  },
  "orig_nbformat": 4
 },
 "nbformat": 4,
 "nbformat_minor": 2
}
