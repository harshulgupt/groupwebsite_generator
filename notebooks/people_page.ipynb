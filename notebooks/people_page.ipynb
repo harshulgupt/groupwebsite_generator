{
 "cells": [
  {
   "cell_type": "code",
   "execution_count": 1,
   "metadata": {},
   "outputs": [],
   "source": [
    "import json\n",
    "import pandas as pd\n",
    "from pathlib import Path\n"
   ]
  },
  {
   "cell_type": "code",
   "execution_count": 2,
   "metadata": {},
   "outputs": [],
   "source": [
    "# Defining paths\n",
    "GROUP_DATA_DIR = Path(\"/Users/harshul/projects/kgwebsite/group-data\")\n",
    "\n",
    "MEMBERS_DIR_PATH = GROUP_DATA_DIR / 'members/'\n",
    "WEBSITE_DATA_PATH = GROUP_DATA_DIR / 'website_data/'\n",
    "CONTENT_DIR_PATH = WEBSITE_DATA_PATH / 'content'\n"
   ]
  },
  {
   "cell_type": "code",
   "execution_count": 3,
   "metadata": {},
   "outputs": [
    {
     "data": {
      "text/plain": [
       "\"\\ndef determine_academic_role(top_experience_role, top_education_degree, top_education_end_date):\\n    if any(substring in top_experience_role for substring in ['Assistant Professor', 'Professor']):\\n        return 'Professor'\\n    elif top_experience_role in ['Visiting Researcher', 'Postdoctoral Researcher']:\\n        return 'Postdoctoral researcher'\\n    \\n    if top_education_degree == 'Bachelors':\\n        return 'Graduate Student' if top_education_end_date is not None else 'Undergraduate Student'\\n    elif top_education_degree in ['Masters', 'PhD']:\\n        return 'Graduate Student'\\n\\n    return 'Other'\\n\""
      ]
     },
     "execution_count": 3,
     "metadata": {},
     "output_type": "execute_result"
    }
   ],
   "source": [
    "\"\"\"\n",
    "def determine_academic_role(top_experience_role, top_education_degree, top_education_end_date):\n",
    "    if any(substring in top_experience_role for substring in ['Assistant Professor', 'Professor']):\n",
    "        return 'Professor'\n",
    "    elif top_experience_role in ['Visiting Researcher', 'Postdoctoral Researcher']:\n",
    "        return 'Postdoctoral researcher'\n",
    "    \n",
    "    if top_education_degree == 'Bachelors':\n",
    "        return 'Graduate Student' if top_education_end_date is not None else 'Undergraduate Student'\n",
    "    elif top_education_degree in ['Masters', 'PhD']:\n",
    "        return 'Graduate Student'\n",
    "\n",
    "    return 'Other'\n",
    "\"\"\""
   ]
  },
  {
   "cell_type": "code",
   "execution_count": 4,
   "metadata": {},
   "outputs": [
    {
     "name": "stdout",
     "output_type": "stream",
     "text": [
      "/Users/harshul/projects/kgwebsite/group-data/members/erin_visser/jsons/experiences.json\n",
      "/Users/harshul/projects/kgwebsite/group-data/members/vicente_amado/jsons/experiences.json\n",
      "/Users/harshul/projects/kgwebsite/group-data/members/yuki_matsumura/jsons/experiences.json\n",
      "/Users/harshul/projects/kgwebsite/group-data/members/isaac_smith/jsons/experiences.json\n",
      "/Users/harshul/projects/kgwebsite/group-data/members/hayden_monk/jsons/experiences.json\n",
      "/Users/harshul/projects/kgwebsite/group-data/members/atharva_arya/jsons/experiences.json\n",
      "/Users/harshul/projects/kgwebsite/group-data/members/bea_lu/jsons/experiences.json\n",
      "/Users/harshul/projects/kgwebsite/group-data/members/sona_chitchyan/jsons/experiences.json\n",
      "No 'institution' column found in dataframe.\n",
      "/Users/harshul/projects/kgwebsite/group-data/members/iliomar_rodriguez_ramos/jsons/experiences.json\n",
      "/Users/harshul/projects/kgwebsite/group-data/members/jaladh_singhal/jsons/experiences.json\n",
      "/Users/harshul/projects/kgwebsite/group-data/members/jack_o_brien/jsons/experiences.json\n",
      "/Users/harshul/projects/kgwebsite/group-data/members/cecelia_powers/jsons/experiences.json\n",
      "/Users/harshul/projects/kgwebsite/group-data/members/alexander_grunewald/jsons/experiences.json\n"
     ]
    }
   ],
   "source": [
    "\n",
    "def parse_education_experience_df(member_dir):\n",
    "    member_json_dir = member_dir / 'jsons'\n",
    "    education_experience_list = []\n",
    "\n",
    "    if (member_experiences_dir := (member_json_dir / 'experiences.json')).exists():\n",
    "        with open(member_experiences_dir, 'r') as f:\n",
    "            education_experience_list += json.load(f)\n",
    "    else:\n",
    "        print(member_experiences_dir)\n",
    "    \n",
    "    if (member_education_dir := (member_json_dir / 'education.json')).exists():\n",
    "        with open(member_education_dir, 'r') as f:\n",
    "            education_experience_list += json.load(f)\n",
    "    \n",
    "    return pd.DataFrame(education_experience_list)\n",
    "\n",
    "member_records = []\n",
    "\n",
    "def extract_member_academic_role(education_experience_df):\n",
    "    current_academic_role = \"\"  \n",
    "    is_current_member = False\n",
    "    if 'end_date' not in education_experience_df.columns:\n",
    "        education_experience_df['end_date'] = None\n",
    "    filtered_e_e_df = education_experience_df[education_experience_df.end_date.isna()]\n",
    "    if 'institution' in filtered_e_e_df.columns:\n",
    "        filtered_e_e_df = filtered_e_e_df[filtered_e_e_df['institution'] == 'Michigan State University']\n",
    "    else:\n",
    "\n",
    "        print(\"No 'institution' column found in dataframe.\")\n",
    "        filtered_e_e_df = pd.DataFrame()\n",
    "\n",
    "    \n",
    "    \n",
    "\n",
    "    if len(filtered_e_e_df) == 0: \n",
    "       pass\n",
    "        \n",
    "    \n",
    "    elif len(filtered_e_e_df) == 1:\n",
    "        role = filtered_e_e_df.iloc[0].get('role', None)  \n",
    "        degree = filtered_e_e_df.iloc[0].get('degree', None)  \n",
    "        if role in ['Assistant Professor', 'Professor']:\n",
    "            current_academic_role = 'Professor'\n",
    "        elif role in ['Visiting Researcher', 'Postdoctoral Researcher']:\n",
    "                current_academic_role = 'Postdoctoral Researcher'  \n",
    "        elif degree in ['Masters', 'PhD']:\n",
    "                current_academic_role = 'Graduate Student'     \n",
    "        elif degree == 'Bachelors':\n",
    "\n",
    "                current_academic_role = 'Graduate Student' if filtered_e_e_df.iloc[0].get('degree')   is None else 'Undergraduate Student'\n",
    "        is_current_member = True\n",
    "         \n",
    "\n",
    "    else:\n",
    "        raise ValueError('Not sure what happened multiple positions at MSU')\n",
    "    \n",
    "    return current_academic_role, is_current_member\n",
    "\n",
    "\n",
    "\n",
    "current_people_page_list = []\n",
    "alumni_people_page_list = []\n",
    "\n",
    "\n",
    "for member_dir in MEMBERS_DIR_PATH.glob('*'):\n",
    "    if not (member_info_fname := member_dir / 'info.json').exists():\n",
    "        continue\n",
    "    else:\n",
    "        member_info = json.load(open(member_info_fname, 'r'))\n",
    "    education_experience_df = parse_education_experience_df(member_dir)\n",
    "    current_academic_role, is_current_member = extract_member_academic_role(education_experience_df)\n",
    "    if not is_current_member:\n",
    "        continue\n",
    "    \n",
    "    first_name = member_info['first_name']\n",
    "    last_name = member_info['last_name']\n",
    "    nickname = member_info.get('nick_name', None)\n",
    "\n",
    "    if nickname is not None:\n",
    "        name = f'{first_name} \"{nickname}\" {last_name}'\n",
    "    else:\n",
    "        name = f'{first_name} {last_name}'\n",
    "\n",
    "    if is_current_member:\n",
    "        current_people_page_list.append({\"Name\": name, \"academic_role\": current_academic_role})\n",
    "    else:\n",
    "        alumni_people_page_list.append({\"Name\": name, \"academic_role\": current_academic_role})\n",
    "\n",
    "\n"
   ]
  },
  {
   "cell_type": "code",
   "execution_count": 5,
   "metadata": {},
   "outputs": [
    {
     "data": {
      "text/plain": [
       "[{'Name': 'Joshua \"Josh\" Shields', 'academic_role': 'Graduate Student'},\n",
       " {'Name': 'Anirban  \"\" Dutta', 'academic_role': 'Postdoctoral Researcher'},\n",
       " {'Name': 'Erin \"\" Visser', 'academic_role': 'Undergraduate Student'},\n",
       " {'Name': 'Vicente \"\"  Amado Olivo', 'academic_role': 'Graduate Student'},\n",
       " {'Name': 'Yuki \"\" Matsumura', 'academic_role': 'Graduate Student'},\n",
       " {'Name': 'Andrew \"\" Fullard', 'academic_role': ''},\n",
       " {'Name': 'Hayden \"\" Monk', 'academic_role': 'Undergraduate Student'},\n",
       " {'Name': 'Bea \"\" Lu', 'academic_role': 'Undergraduate Student'},\n",
       " {'Name': 'Jack \"Jack\" O\\'Brien', 'academic_role': 'Graduate Student'},\n",
       " {'Name': 'Cecelia \"\" Powers', 'academic_role': 'Undergraduate Student'},\n",
       " {'Name': 'Sofia \"\" Biriouk', 'academic_role': 'Undergraduate Student'},\n",
       " {'Name': 'Jing \"\" Lu', 'academic_role': 'Postdoctoral Researcher'},\n",
       " {'Name': 'Wolfgang \"\" Kerzendorf', 'academic_role': 'Professor'}]"
      ]
     },
     "execution_count": 5,
     "metadata": {},
     "output_type": "execute_result"
    }
   ],
   "source": [
    "current_people_page_list"
   ]
  },
  {
   "cell_type": "code",
   "execution_count": 6,
   "metadata": {},
   "outputs": [
    {
     "data": {
      "text/plain": [
       "[]"
      ]
     },
     "execution_count": 6,
     "metadata": {},
     "output_type": "execute_result"
    }
   ],
   "source": [
    "alumni_people_page_list"
   ]
  },
  {
   "cell_type": "code",
   "execution_count": 7,
   "metadata": {},
   "outputs": [
    {
     "data": {
      "text/plain": [
       "PosixPath('/Users/harshul/projects/kgwebsite/group-data/members/wolfgang_kerzendorf')"
      ]
     },
     "execution_count": 7,
     "metadata": {},
     "output_type": "execute_result"
    }
   ],
   "source": [
    "member_dir"
   ]
  },
  {
   "cell_type": "code",
   "execution_count": 8,
   "metadata": {},
   "outputs": [],
   "source": [
    "filtered_e_e_df = education_experience_df[education_experience_df.end_date.isna()]"
   ]
  },
  {
   "cell_type": "code",
   "execution_count": 9,
   "metadata": {},
   "outputs": [
    {
     "data": {
      "text/plain": [
       "institution    Michigan State University\n",
       "city                        East Lansing\n",
       "state                           Michigan\n",
       "country                               US\n",
       "role                 Assistant Professor\n",
       "start_date                    2019-08-15\n",
       "end_date                             NaN\n",
       "degree                               NaN\n",
       "subject                              NaN\n",
       "Name: 0, dtype: object"
      ]
     },
     "execution_count": 9,
     "metadata": {},
     "output_type": "execute_result"
    }
   ],
   "source": [
    "filtered_e_e_df.iloc[0]"
   ]
  },
  {
   "cell_type": "code",
   "execution_count": 10,
   "metadata": {},
   "outputs": [
    {
     "data": {
      "text/html": [
       "<div>\n",
       "<style scoped>\n",
       "    .dataframe tbody tr th:only-of-type {\n",
       "        vertical-align: middle;\n",
       "    }\n",
       "\n",
       "    .dataframe tbody tr th {\n",
       "        vertical-align: top;\n",
       "    }\n",
       "\n",
       "    .dataframe thead th {\n",
       "        text-align: right;\n",
       "    }\n",
       "</style>\n",
       "<table border=\"1\" class=\"dataframe\">\n",
       "  <thead>\n",
       "    <tr style=\"text-align: right;\">\n",
       "      <th></th>\n",
       "      <th>institution</th>\n",
       "      <th>city</th>\n",
       "      <th>state</th>\n",
       "      <th>country</th>\n",
       "      <th>role</th>\n",
       "      <th>start_date</th>\n",
       "      <th>end_date</th>\n",
       "      <th>degree</th>\n",
       "      <th>subject</th>\n",
       "    </tr>\n",
       "  </thead>\n",
       "  <tbody>\n",
       "    <tr>\n",
       "      <th>0</th>\n",
       "      <td>Michigan State University</td>\n",
       "      <td>East Lansing</td>\n",
       "      <td>Michigan</td>\n",
       "      <td>US</td>\n",
       "      <td>Assistant Professor</td>\n",
       "      <td>2019-08-15</td>\n",
       "      <td>NaN</td>\n",
       "      <td>NaN</td>\n",
       "      <td>NaN</td>\n",
       "    </tr>\n",
       "    <tr>\n",
       "      <th>1</th>\n",
       "      <td>New York University</td>\n",
       "      <td>New York</td>\n",
       "      <td>New York</td>\n",
       "      <td>US</td>\n",
       "      <td>Senior Research Associate</td>\n",
       "      <td>2019-01-01</td>\n",
       "      <td>2019-12-31</td>\n",
       "      <td>NaN</td>\n",
       "      <td>NaN</td>\n",
       "    </tr>\n",
       "    <tr>\n",
       "      <th>2</th>\n",
       "      <td>European Southern Observatory</td>\n",
       "      <td>Garching</td>\n",
       "      <td>Bavaria</td>\n",
       "      <td>DE</td>\n",
       "      <td>ESO Fellow</td>\n",
       "      <td>2014-10-01</td>\n",
       "      <td>2018-12-31</td>\n",
       "      <td>NaN</td>\n",
       "      <td>NaN</td>\n",
       "    </tr>\n",
       "    <tr>\n",
       "      <th>3</th>\n",
       "      <td>University of Toronto</td>\n",
       "      <td>Toronto</td>\n",
       "      <td>Ontario</td>\n",
       "      <td>Canada</td>\n",
       "      <td>NaN</td>\n",
       "      <td>2011-10-01</td>\n",
       "      <td>2014-09-30</td>\n",
       "      <td>Postdoctoral Fellow</td>\n",
       "      <td>NaN</td>\n",
       "    </tr>\n",
       "    <tr>\n",
       "      <th>4</th>\n",
       "      <td>Australian National University</td>\n",
       "      <td>Canberra</td>\n",
       "      <td></td>\n",
       "      <td>Australia</td>\n",
       "      <td>NaN</td>\n",
       "      <td>2007-02-01</td>\n",
       "      <td>2011-12-18</td>\n",
       "      <td>PhD</td>\n",
       "      <td>Physics and Astronomy</td>\n",
       "    </tr>\n",
       "  </tbody>\n",
       "</table>\n",
       "</div>"
      ],
      "text/plain": [
       "                      institution          city     state    country  \\\n",
       "0       Michigan State University  East Lansing  Michigan         US   \n",
       "1             New York University      New York  New York         US   \n",
       "2   European Southern Observatory      Garching   Bavaria         DE   \n",
       "3           University of Toronto       Toronto   Ontario     Canada   \n",
       "4  Australian National University      Canberra            Australia   \n",
       "\n",
       "                        role  start_date    end_date               degree  \\\n",
       "0        Assistant Professor  2019-08-15         NaN                  NaN   \n",
       "1  Senior Research Associate  2019-01-01  2019-12-31                  NaN   \n",
       "2                 ESO Fellow  2014-10-01  2018-12-31                  NaN   \n",
       "3                        NaN  2011-10-01  2014-09-30  Postdoctoral Fellow   \n",
       "4                        NaN  2007-02-01  2011-12-18                  PhD   \n",
       "\n",
       "                 subject  \n",
       "0                    NaN  \n",
       "1                    NaN  \n",
       "2                    NaN  \n",
       "3                    NaN  \n",
       "4  Physics and Astronomy  "
      ]
     },
     "execution_count": 10,
     "metadata": {},
     "output_type": "execute_result"
    }
   ],
   "source": [
    "parse_education_experience_df(member_dir)"
   ]
  },
  {
   "cell_type": "code",
   "execution_count": null,
   "metadata": {},
   "outputs": [],
   "source": []
  }
 ],
 "metadata": {
  "kernelspec": {
   "display_name": "Python 3",
   "language": "python",
   "name": "python3"
  },
  "language_info": {
   "codemirror_mode": {
    "name": "ipython",
    "version": 3
   },
   "file_extension": ".py",
   "mimetype": "text/x-python",
   "name": "python",
   "nbconvert_exporter": "python",
   "pygments_lexer": "ipython3",
   "version": "3.8.2"
  },
  "orig_nbformat": 4
 },
 "nbformat": 4,
 "nbformat_minor": 2
}
