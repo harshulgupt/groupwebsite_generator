{
 "cells": [
  {
   "attachments": {},
   "cell_type": "markdown",
   "metadata": {},
   "source": [
    "### This notebook consist of code for creating the html files for the website each time data is updated."
   ]
  },
  {
   "attachments": {},
   "cell_type": "markdown",
   "metadata": {},
   "source": [
    "##### Set-up"
   ]
  },
  {
   "cell_type": "code",
   "execution_count": null,
   "metadata": {},
   "outputs": [],
   "source": [
    "#Importing classes from the Jinja2 library to load and render templates.\n",
    "import json\n",
    "import os\n",
    "import pandas as pd\n",
    "from jinja2 import Environment, FileSystemLoader\n",
    "from jinja2.exceptions import UndefinedError\n",
    "from pathlib import Path\n"
   ]
  },
  {
   "cell_type": "code",
   "execution_count": null,
   "metadata": {},
   "outputs": [],
   "source": [
    "os.getcwd()"
   ]
  },
  {
   "cell_type": "code",
   "execution_count": null,
   "metadata": {},
   "outputs": [],
   "source": [
    "current_dir = Path(os.getcwd())\n",
    "\n",
    "MEMBERS_DIR_PATH = current_dir / '../../group-data/members/'\n",
    "WEBSITE_DATA_PATH = current_dir / '../../group-data/website_data/'\n",
    "CONTENT_DIR_PATH = current_dir / '../../group-data/website_data/content/'\n"
   ]
  },
  {
   "cell_type": "code",
   "execution_count": null,
   "metadata": {},
   "outputs": [],
   "source": [
    "#Function for creating proper html file names\n",
    "def page_link(a):\n",
    "    if ' ' in a:\n",
    "        return a.replace(' ', '_')\n",
    "    else:\n",
    "        return a"
   ]
  },
  {
   "cell_type": "code",
   "execution_count": null,
   "metadata": {},
   "outputs": [],
   "source": [
    "# For people page\n",
    "def extract_member_data(member_dir):\n",
    "    if member_dir.name.startswith('.'):\n",
    "        return None\n",
    "\n",
    "    member_record = json.load(open(member_dir / 'info.json'))\n",
    "    member_json_dir = member_dir / 'jsons'\n",
    "    \n",
    "    top_experience_role = \"\"\n",
    "    top_education_degree = \"\"\n",
    "    top_education_end_date = None\n",
    "  \n",
    "    if (member_experiences := (member_json_dir / 'experiences.json')).exists():\n",
    "        experiences = json.load(open(member_experiences))\n",
    "        if experiences:\n",
    "            top_experience_role = experiences[0].get('role', \"\")\n",
    "    \n",
    "    if (member_education := (member_json_dir / 'education.json')).exists():\n",
    "        education = json.load(open(member_education))\n",
    "        if education:\n",
    "            top_education_degree = education[0].get('degree', \"\")\n",
    "            top_education_end_date = education[0].get('end_date')\n",
    "    \n",
    "    if (member_projects := (member_json_dir / 'projects.json')).exists():\n",
    "        current_position = json.load(open(member_projects))[0]\n",
    "        member_record.update(current_position)\n",
    "    \n",
    "    if (member_links := (member_json_dir / 'social_links.json')).exists():\n",
    "        social_links = json.load(open(member_links))\n",
    "        member_record.update(social_links)\n",
    "\n",
    "    return member_record, top_experience_role, top_education_degree, top_education_end_date\n",
    "\n",
    "\n",
    "def assign_academic_role(top_experience_role, top_education_degree, top_education_end_date):\n",
    "    if 'Assistant Professor' in top_experience_role or 'Professor' in top_experience_role:\n",
    "        return 'Professor'\n",
    "    elif top_experience_role in ['Visiting Researcher', 'Postdoctoral Researcher']:\n",
    "        return 'Postdoctoral researcher'\n",
    "    elif top_education_degree == 'Bachelors':\n",
    "        return 'Graduate Student' if top_education_end_date is not None else 'Undergraduate Student'\n",
    "    elif top_education_degree in ['Masters', 'PhD']:\n",
    "        return 'Graduate Student'\n",
    "    else:\n",
    "        return 'Other'\n",
    "\n",
    "member_records = []\n",
    "\n",
    "for member_dir in MEMBERS_DIR_PATH.glob('*'):\n",
    "    extracted_data = extract_member_data(member_dir)\n",
    "    if extracted_data:\n",
    "        member_record, top_experience_role, top_education_degree, top_education_end_date = extracted_data\n",
    "        academic_role = assign_academic_role(top_experience_role, top_education_degree, top_education_end_date)\n",
    "\n",
    "\n",
    "        nick_name = member_record.get('nick_name', None)\n",
    "        second_name = member_record.get('last_name', \"\")\n",
    "        if not nick_name:\n",
    "            first_name = member_record.get('first_name', \"\")\n",
    "            last_name = member_record.get('last_name', \"\")\n",
    "            name = f\"{first_name} {last_name}\"\n",
    "        else:\n",
    "            name = f\"{nick_name} {second_name}\"\n",
    "\n",
    "\n",
    "        member_records.append({\"name\": name, \"academic_role\": academic_role})\n",
    "\n",
    "\n",
    "people_page_df = pd.DataFrame(member_records)"
   ]
  },
  {
   "cell_type": "code",
   "execution_count": null,
   "metadata": {},
   "outputs": [],
   "source": [
    "# To view dict structure.\n",
    "people_page_df.to_dict(orient='records')"
   ]
  },
  {
   "cell_type": "code",
   "execution_count": null,
   "metadata": {},
   "outputs": [],
   "source": [
    "# To view dataframe\n",
    "people_page_df\n"
   ]
  },
  {
   "cell_type": "code",
   "execution_count": null,
   "metadata": {},
   "outputs": [],
   "source": [
    "\n",
    "\n",
    "\n",
    "website_data_files = {\n",
    "    'contact': 'contact.json',\n",
    "    'general': 'general.json',\n",
    "    'research': 'research.json',\n",
    "    'homepage': 'homepage.json',\n",
    "    'support': 'support.json'\n",
    "}\n",
    "\n",
    "\n",
    "contact, general, research, homepage, support = [{}] * 5\n",
    "\n",
    "\n",
    "for var_name, webpage_json in website_data_files.items():\n",
    "    file_path = WEBSITE_DATA_PATH / webpage_json\n",
    "    if file_path.exists():\n",
    "        with open(file_path, 'r') as f:\n",
    "            locals()[var_name] = json.load(f)\n"
   ]
  },
  {
   "cell_type": "code",
   "execution_count": null,
   "metadata": {},
   "outputs": [],
   "source": [
    "contact_df = pd.DataFrame.from_records([contact])\n",
    "general_df = pd.DataFrame.from_records([general])\n",
    "homepage_df = pd.DataFrame.from_records([homepage])\n",
    "research_df = pd.DataFrame.from_records([research])\n",
    "support_df = pd.DataFrame.from_records([support])\n"
   ]
  },
  {
   "cell_type": "code",
   "execution_count": null,
   "metadata": {},
   "outputs": [],
   "source": [
    "#Creating an instance of the Environment class that looks for templates. Page_link is set to the global variable so that it can be accessed by all templates\n",
    "environment = Environment(loader=FileSystemLoader('templates/'),extensions=['jinja2.ext.loopcontrols'])\n",
    "environment.globals['page_link'] = page_link\n"
   ]
  },
  {
   "cell_type": "code",
   "execution_count": null,
   "metadata": {},
   "outputs": [],
   "source": [
    "general_dict = general_df.iloc[0].to_dict()\n",
    "homepage_dict = homepage_df.iloc[0].to_dict()\n"
   ]
  },
  {
   "attachments": {},
   "cell_type": "markdown",
   "metadata": {},
   "source": [
    "##### People Page"
   ]
  },
  {
   "cell_type": "code",
   "execution_count": null,
   "metadata": {},
   "outputs": [],
   "source": [
    "templates_dir_path = current_dir / '../templates/'\n",
    "environment = Environment(loader=FileSystemLoader(str(templates_dir_path)))\n",
    "people_template = environment.get_template(\"people.html.j2\")\n"
   ]
  },
  {
   "cell_type": "code",
   "execution_count": null,
   "metadata": {},
   "outputs": [],
   "source": [
    "people_template = environment.get_template(\"people.html.j2\")"
   ]
  },
  {
   "cell_type": "code",
   "execution_count": null,
   "metadata": {},
   "outputs": [],
   "source": [
    "environment.globals['page_link'] = page_link\n",
    "people_content = people_template.render(general=general_dict, present_members=people_page_df, result=result)\n"
   ]
  },
  {
   "cell_type": "code",
   "execution_count": null,
   "metadata": {},
   "outputs": [],
   "source": [
    "with open(\"../../kerzendorf-group.github.io/People.html\", mode=\"w\", encoding=\"utf-8\") as people:\n",
    "    people.write(people_content)"
   ]
  }
 ],
 "metadata": {
  "kernelspec": {
   "display_name": "Python 3",
   "language": "python",
   "name": "python3"
  },
  "language_info": {
   "codemirror_mode": {
    "name": "ipython",
    "version": 3
   },
   "file_extension": ".py",
   "mimetype": "text/x-python",
   "name": "python",
   "nbconvert_exporter": "python",
   "pygments_lexer": "ipython3",
   "version": "3.8.2"
  },
  "orig_nbformat": 4
 },
 "nbformat": 4,
 "nbformat_minor": 2
}
