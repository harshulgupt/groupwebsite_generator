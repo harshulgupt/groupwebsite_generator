{
 "cells": [
  {
   "attachments": {},
   "cell_type": "markdown",
   "metadata": {},
   "source": [
    "### This notebook consist of code for creating the html files for the website each time data is updated."
   ]
  },
  {
   "attachments": {},
   "cell_type": "markdown",
   "metadata": {},
   "source": [
    "##### Set-up"
   ]
  },
  {
   "cell_type": "code",
   "execution_count": 1,
   "metadata": {},
   "outputs": [
    {
     "data": {
      "text/plain": [
       "'/Users/harshul/website clone/harshul/test/groupwebsite_generator'"
      ]
     },
     "execution_count": 1,
     "metadata": {},
     "output_type": "execute_result"
    }
   ],
   "source": [
    "# Change the working directory to the desired location\n",
    "# temporary, only for local\n",
    "import os\n",
    "#os.chdir(\"/home/bumblebealu/groupwebsite_generator/\")\n",
    "os.chdir(\"/Users/harshul/website clone/harshul/test/groupwebsite_generator\")\n",
    "os.getcwd()"
   ]
  },
  {
   "cell_type": "code",
   "execution_count": 2,
   "metadata": {},
   "outputs": [],
   "source": [
    "#Importing classes from the Jinja2 library to load and render templates.\n",
    "import json\n",
    "import os\n",
    "import pandas as pd\n",
    "from jinja2 import Environment, FileSystemLoader\n",
    "from jinja2.exceptions import UndefinedError\n",
    "from pathlib import Path\n"
   ]
  },
  {
   "cell_type": "code",
   "execution_count": 3,
   "metadata": {},
   "outputs": [],
   "source": [
    "#Function for creating proper html file names\n",
    "def page_link(a):\n",
    "    if ' ' in a:\n",
    "        return a.replace(' ', '_')\n",
    "    else:\n",
    "        return a"
   ]
  },
  {
   "cell_type": "code",
   "execution_count": 4,
   "metadata": {},
   "outputs": [],
   "source": [
    "from pathlib import Path\n",
    "import json\n",
    "\n",
    "MEMBERS_DIR_PATH = Path('../group-data/members/')\n",
    "member_records = []\n",
    "\n",
    "file_names = [\n",
    "    'experiences.json',\n",
    "    'education.json',\n",
    "    'awards.json',\n",
    "    'roles.json',\n",
    "    'projects.json',\n",
    "    'website_media.json',\n",
    "    'posters.json',\n",
    "    'publications.json',\n",
    "    'outreach.json'\n",
    "]\n",
    "\n",
    "for member_dir in MEMBERS_DIR_PATH.glob('*'):\n",
    "    member_record = json.load(open(member_dir / 'info.json'))\n",
    "    member_json_dir = member_dir / 'jsons'\n",
    "    \n",
    "    current_position = {}\n",
    "    for file_name in file_names:\n",
    "        file_path = member_json_dir / file_name\n",
    "        if file_path.exists():\n",
    "            current_position = json.load(open(file_path))[-1]\n",
    "            break\n",
    "\n",
    "\n",
    "\n",
    "    member_record.update(current_position)\n",
    "    member_records.append(member_record)\n"
   ]
  },
  {
   "cell_type": "code",
   "execution_count": 5,
   "metadata": {},
   "outputs": [],
   "source": [
    "members_df=pd.DataFrame.from_records(member_records)"
   ]
  },
  {
   "cell_type": "code",
   "execution_count": 6,
   "metadata": {},
   "outputs": [],
   "source": [
    "class ContentData:\n",
    "    def __init__(self, article_id):\n",
    "        self.article_id = article_id\n",
    "        self.json_path = self._find_jsons_path(article_id)\n",
    "\n",
    "    def _find_jsons_path(self, article_id):\n",
    "        content_dir = \"../group-data/website_data/content/\"\n",
    "        for file_name in os.listdir(content_dir):\n",
    "            file_path = os.path.join(content_dir, file_name)\n",
    "            if os.path.isfile(file_path):\n",
    "                with open(file_path, \"r\") as f:\n",
    "                    content_data = json.load(f)\n",
    "                if content_data.get(\"article_id\") == article_id:\n",
    "                    return file_path\n",
    "\n",
    "        raise ValueError(f\"Article ID '{article_id}' not found.\")\n",
    "\n",
    "    def load_json(self):\n",
    "        with open(self.json_path, \"r\") as f:\n",
    "            data = json.load(f)\n",
    "        return data\n"
   ]
  },
  {
   "cell_type": "code",
   "execution_count": 7,
   "metadata": {},
   "outputs": [],
   "source": [
    "#Creating an instance of the Environment class that looks for templates. Page_link is set to the global variable so that it can be accessed by all templates\n",
    "environment = Environment(loader=FileSystemLoader('templates/'),extensions=['jinja2.ext.loopcontrols'])\n",
    "environment.globals['page_link'] = page_link\n",
    "environment.globals['ContentData'] = ContentData"
   ]
  },
  {
   "cell_type": "code",
   "execution_count": 8,
   "metadata": {},
   "outputs": [],
   "source": [
    "content_id_data = {\"article_id\": [], \"category\": [], \"date\": [], \"tags\": []}\n",
    "content_directory = '../group-data/website_data/content'\n",
    "\n",
    "for json_file in os.listdir(content_directory):\n",
    "    if json_file.endswith('.json'):\n",
    "        json_path = os.path.join(content_directory, json_file)\n",
    "        with open(json_path, 'r') as file:\n",
    "            info = json.load(file)\n",
    "            if info.get('display'):\n",
    "                content_id_data['article_id'].append(info.get('article_id'))\n",
    "                content_id_data['category'].append(info.get('category'))\n",
    "                content_id_data['date'].append(info.get('article_date'))\n",
    "                content_id_data['tags'].append(info.get('tags'))\n",
    "\n",
    "content_df = pd.DataFrame(content_id_data)\n",
    "content_df['date'] = pd.to_datetime(content_df['date'], format='%m-%d-%Y')\n",
    "content_df = content_df.groupby('category').apply(lambda x: x.sort_values('date', ascending=False)).reset_index(drop=True)"
   ]
  },
  {
   "cell_type": "code",
   "execution_count": 9,
   "metadata": {},
   "outputs": [
    {
     "name": "stderr",
     "output_type": "stream",
     "text": [
      "<ipython-input-9-317efb93bc43>:2: FutureWarning: Not prepending group keys to the result index of transform-like apply. In the future, the group keys will be included in the index, regardless of whether the applied function returns a like-indexed object.\n",
      "To preserve the previous behavior, use\n",
      "\n",
      "\t>>> .groupby(..., group_keys=False)\n",
      "\n",
      "To adopt the future behavior and silence this warning, use \n",
      "\n",
      "\t>>> .groupby(..., group_keys=True)\n",
      "  research_content = research_content_unsorted.groupby('category').apply(lambda x: x.sort_values('date', ascending=False)).reset_index(drop=True)\n"
     ]
    }
   ],
   "source": [
    "research_content_unsorted = content_df[content_df['tags'].apply(lambda x: any('research' in tag for tag in x))]\n",
    "research_content = research_content_unsorted.groupby('category').apply(lambda x: x.sort_values('date', ascending=False)).reset_index(drop=True)"
   ]
  },
  {
   "cell_type": "code",
   "execution_count": 10,
   "metadata": {},
   "outputs": [],
   "source": [
    "news_content_unsorted = content_df[content_df['tags'].apply(lambda x: any('news' in tag for tag in x))]\n",
    "news_content = news_content_unsorted.sort_values(by=\"date\", ascending=False)"
   ]
  },
  {
   "cell_type": "code",
   "execution_count": 11,
   "metadata": {},
   "outputs": [],
   "source": [
    "latest_content_df = pd.DataFrame()\n",
    "\n",
    "for category in content_df.category.unique():\n",
    "    latest_data = pd.Series(content_df[content_df.category == category].iloc[0])\n",
    "    latest_content_df = latest_content_df._append(latest_data, ignore_index=True)\n",
    "\n",
    "latest_content_df['date'] = pd.to_datetime(latest_content_df['date'], format='%m-%d-%Y')\n",
    "latest_content_df = latest_content_df.sort_values(by='date', ascending=False)"
   ]
  },
  {
   "cell_type": "code",
   "execution_count": 12,
   "metadata": {},
   "outputs": [],
   "source": [
    "json_files = ['general', 'homepage', 'research', 'support', 'contact']\n",
    "data = {}\n",
    "\n",
    "for json_file in json_files:\n",
    "    try:\n",
    "        with open(f\"../group-data/website_data/{json_file}.json\") as json_var:\n",
    "            data[json_file] = json.load(json_var)\n",
    "    except (FileNotFoundError, json.JSONDecodeError):\n",
    "        pass"
   ]
  },
  {
   "attachments": {},
   "cell_type": "markdown",
   "metadata": {},
   "source": [
    "##### Homepage"
   ]
  },
  {
   "cell_type": "code",
   "execution_count": 13,
   "metadata": {},
   "outputs": [],
   "source": [
    "homepage_template = environment.get_template('homepage.html.j2')"
   ]
  },
  {
   "cell_type": "code",
   "execution_count": 14,
   "metadata": {},
   "outputs": [],
   "source": [
    "homepage_content = \\\n",
    "    homepage_template.render(general=data['general'],\n",
    "                             homepage=data['homepage'],\n",
    "                             recent_content=latest_content_df.to_dict(orient='records'))"
   ]
  },
  {
   "cell_type": "code",
   "execution_count": 15,
   "metadata": {},
   "outputs": [],
   "source": [
    "with open('../kerzendorf-group.github.io/index.html', mode='w', encoding='utf-8') as Homepage:\n",
    "    Homepage.write(homepage_content)"
   ]
  },
  {
   "cell_type": "code",
   "execution_count": 16,
   "metadata": {},
   "outputs": [
    {
     "name": "stdout",
     "output_type": "stream",
     "text": [
      "<class 'pandas.core.frame.DataFrame'>\n",
      "RangeIndex: 23 entries, 0 to 22\n",
      "Data columns (total 19 columns):\n",
      " #   Column            Non-Null Count  Dtype \n",
      "---  ------            --------------  ----- \n",
      " 0   first_name        23 non-null     object\n",
      " 1   last_name         23 non-null     object\n",
      " 2   nick_name         23 non-null     object\n",
      " 3   image_path        23 non-null     object\n",
      " 4   cover_image_path  23 non-null     object\n",
      " 5   introduction      23 non-null     object\n",
      " 6   id                23 non-null     object\n",
      " 7   institution       22 non-null     object\n",
      " 8   city              22 non-null     object\n",
      " 9   state             21 non-null     object\n",
      " 10  country           22 non-null     object\n",
      " 11  role              9 non-null      object\n",
      " 12  start_date        20 non-null     object\n",
      " 13  end_date          15 non-null     object\n",
      " 14  degree            13 non-null     object\n",
      " 15  subject           12 non-null     object\n",
      " 16  start-date        1 non-null      object\n",
      " 17  entry2            1 non-null      object\n",
      " 18  stare             1 non-null      object\n",
      "dtypes: object(19)\n",
      "memory usage: 3.5+ KB\n",
      "None\n"
     ]
    }
   ],
   "source": [
    "members_df = pd.DataFrame.from_records(member_records)\n",
    "print(members_df.info())\n",
    "\n",
    "\n",
    "\n"
   ]
  },
  {
   "attachments": {},
   "cell_type": "markdown",
   "metadata": {},
   "source": [
    "##### People Page"
   ]
  },
  {
   "cell_type": "code",
   "execution_count": 17,
   "metadata": {},
   "outputs": [],
   "source": [
    "members_df = pd.DataFrame.from_records(member_records)\n",
    "people_template = environment.get_template(\"people.html.j2\")\n",
    "people_content = people_template.render(general=data[\"general\"], members=members_df)\n"
   ]
  },
  {
   "cell_type": "code",
   "execution_count": 18,
   "metadata": {},
   "outputs": [],
   "source": [
    "people_content = people_template.render(general=data[\"general\"], members=members_df)\n"
   ]
  },
  {
   "cell_type": "code",
   "execution_count": 19,
   "metadata": {},
   "outputs": [],
   "source": [
    "with open(\"../kerzendorf-group.github.io/People.html\", mode=\"w\", encoding=\"utf-8\") as people:\n",
    "    people.write(people_content)"
   ]
  },
  {
   "attachments": {},
   "cell_type": "markdown",
   "metadata": {},
   "source": [
    "##### Individual People Page"
   ]
  },
  {
   "cell_type": "code",
   "execution_count": 20,
   "metadata": {},
   "outputs": [],
   "source": [
    "ind_person_template = environment.get_template(\"individual_person.html.j2\")"
   ]
  },
  {
   "cell_type": "code",
   "execution_count": 21,
   "metadata": {},
   "outputs": [
    {
     "ename": "NameError",
     "evalue": "name 'people_df' is not defined",
     "output_type": "error",
     "traceback": [
      "\u001b[0;31m---------------------------------------------------------------------------\u001b[0m",
      "\u001b[0;31mNameError\u001b[0m                                 Traceback (most recent call last)",
      "\u001b[0;32m<ipython-input-21-7977fa9f3640>\u001b[0m in \u001b[0;36m<module>\u001b[0;34m\u001b[0m\n\u001b[0;32m----> 1\u001b[0;31m \u001b[0;32mfor\u001b[0m \u001b[0mperson\u001b[0m \u001b[0;32min\u001b[0m \u001b[0mpeople_df\u001b[0m\u001b[0;34m[\u001b[0m\u001b[0;34m'id'\u001b[0m\u001b[0;34m]\u001b[0m\u001b[0;34m:\u001b[0m\u001b[0;34m\u001b[0m\u001b[0;34m\u001b[0m\u001b[0m\n\u001b[0m\u001b[1;32m      2\u001b[0m             \u001b[0mfilename\u001b[0m \u001b[0;34m=\u001b[0m \u001b[0;34mf\"../kerzendorf-group.github.io/members/{ person }/{ person }.html\"\u001b[0m\u001b[0;34m\u001b[0m\u001b[0;34m\u001b[0m\u001b[0m\n\u001b[1;32m      3\u001b[0m             ind_person_content = ind_person_template.render(general=data[\"general\"], \n\u001b[1;32m      4\u001b[0m                                                             \u001b[0mmember_id\u001b[0m\u001b[0;34m=\u001b[0m\u001b[0mperson\u001b[0m\u001b[0;34m,\u001b[0m\u001b[0;34m\u001b[0m\u001b[0;34m\u001b[0m\u001b[0m\n\u001b[1;32m      5\u001b[0m                                                             content=content_df.to_dict(orient='records'))\n",
      "\u001b[0;31mNameError\u001b[0m: name 'people_df' is not defined"
     ]
    }
   ],
   "source": [
    "for person in people_df['id']:\n",
    "            filename = f\"../kerzendorf-group.github.io/members/{ person }/{ person }.html\"\n",
    "            ind_person_content = ind_person_template.render(general=data[\"general\"], \n",
    "                                                            member_id=person, \n",
    "                                                            content=content_df.to_dict(orient='records'))\n",
    "            with open(filename, mode=\"w\", encoding=\"utf-8\") as page:\n",
    "                page.write(ind_person_content)"
   ]
  },
  {
   "attachments": {},
   "cell_type": "markdown",
   "metadata": {},
   "source": [
    "##### Research Page"
   ]
  },
  {
   "cell_type": "code",
   "execution_count": null,
   "metadata": {},
   "outputs": [],
   "source": [
    "research_template = environment.get_template(\"research.html.j2\")"
   ]
  },
  {
   "cell_type": "code",
   "execution_count": null,
   "metadata": {},
   "outputs": [],
   "source": [
    "main_page_research_content = research_template.render(general=data[\"general\"],\n",
    "                                            content=research_content)"
   ]
  },
  {
   "cell_type": "code",
   "execution_count": null,
   "metadata": {},
   "outputs": [],
   "source": [
    "with open(\"../kerzendorf-group.github.io/Research.html\", mode=\"w\", encoding=\"utf-8\") as research:\n",
    "        research.write(main_page_research_content)"
   ]
  },
  {
   "cell_type": "code",
   "execution_count": null,
   "metadata": {},
   "outputs": [],
   "source": [
    "sub_research_template = environment.get_template(\"sub_research_frontpage.html.j2\")"
   ]
  },
  {
   "cell_type": "code",
   "execution_count": null,
   "metadata": {},
   "outputs": [],
   "source": [
    "for category in content_df.loc[content_df.category != \"News\", \"category\"].unique():\n",
    "        sub_research_content = sub_research_template.render(general=data[\"general\"], \n",
    "                                                            research_general=data[\"research\"], \n",
    "                                                            content = research_content,\n",
    "                                                            category = category\n",
    "                                                            )\n",
    "        folder_path = f\"../kerzendorf-group.github.io/sub_research/{page_link(category.lower())}\"\n",
    "        os.makedirs(folder_path, exist_ok=True)\n",
    "        with open(f\"../kerzendorf-group.github.io/sub_research/{page_link(category.lower())}.html\", mode=\"w\", encoding=\"utf-8\") as sub_research:\n",
    "            sub_research.write(sub_research_content)"
   ]
  },
  {
   "attachments": {},
   "cell_type": "markdown",
   "metadata": {},
   "source": [
    "##### Individual Research Page"
   ]
  },
  {
   "cell_type": "code",
   "execution_count": null,
   "metadata": {},
   "outputs": [],
   "source": [
    "template_no_twitter = environment.get_template(\"research_page_no_twitter.html.j2\")"
   ]
  },
  {
   "cell_type": "code",
   "execution_count": null,
   "metadata": {},
   "outputs": [],
   "source": [
    "for ind_research_keys, ind_research_values in research_content.iterrows():\n",
    "    if \"news\" not in ind_research_values.category.lower():\n",
    "        ind_research_content = template_no_twitter.render(general=data[\"general\"], \n",
    "                                                          member_ids = people_df['id'],\n",
    "                                                          nonmem_ids = non_mem_df['id'],\n",
    "                                                          content = ind_research_values\n",
    "                                                          \n",
    "                                                            )\n",
    "        folder_path = f\"../kerzendorf-group.github.io/sub_research/{page_link(ind_research_values.category.lower())}\"\n",
    "        os.makedirs(folder_path, exist_ok=True)\n",
    "        with open(f\"{ folder_path }/{page_link(ind_research_values.article_id.lower())}.html\", mode=\"w\", encoding=\"utf-8\") as ind_research_page:\n",
    "            ind_research_page.write(ind_research_content)"
   ]
  },
  {
   "attachments": {},
   "cell_type": "markdown",
   "metadata": {},
   "source": [
    "##### News Page"
   ]
  },
  {
   "cell_type": "code",
   "execution_count": null,
   "metadata": {},
   "outputs": [],
   "source": [
    "news_content"
   ]
  },
  {
   "cell_type": "code",
   "execution_count": null,
   "metadata": {},
   "outputs": [],
   "source": [
    "news_template = environment.get_template(\"news.html.j2\")"
   ]
  },
  {
   "cell_type": "code",
   "execution_count": null,
   "metadata": {},
   "outputs": [],
   "source": [
    "news_page_content = news_template.render(general=data[\"general\"],\n",
    "                                         content=news_content,\n",
    "                                         member_ids=people_df['id'],\n",
    "                                         nonmem_ids = non_mem_df['id'],\n",
    "                                         category=\"News\")"
   ]
  },
  {
   "cell_type": "code",
   "execution_count": null,
   "metadata": {},
   "outputs": [],
   "source": [
    "with open(\"../kerzendorf-group.github.io/News.html\", mode=\"w\", encoding=\"utf-8\") as news:\n",
    "        news.write(news_page_content)"
   ]
  },
  {
   "attachments": {},
   "cell_type": "markdown",
   "metadata": {},
   "source": [
    "##### Individual News Pages"
   ]
  },
  {
   "cell_type": "code",
   "execution_count": null,
   "metadata": {},
   "outputs": [],
   "source": [
    "news_template_no_twitter = environment.get_template(\"news_page_no_twitter.html.j2\")\n",
    "#news_template_twitter = environment.get_template(\"news_page_twitter.html.j2\")"
   ]
  },
  {
   "cell_type": "code",
   "execution_count": null,
   "metadata": {},
   "outputs": [],
   "source": [
    "for ind_news_keys, ind_news_values in news_content.iterrows():\n",
    "        ind_news_content = news_template_no_twitter.render(general=data[\"general\"], \n",
    "                                                          member_ids = people_df['id'],\n",
    "                                                          nonmem_ids = non_mem_df['id'],\n",
    "                                                          content = ind_news_values\n",
    "                                                            )\n",
    "        folder_path = f\"../kerzendorf-group.github.io/news/\"\n",
    "        os.makedirs(folder_path, exist_ok=True)\n",
    "        with open(f\"{ folder_path }/{page_link(ind_news_values.article_id.lower())}.html\", mode=\"w\", encoding=\"utf-8\") as ind_news_page:\n",
    "            ind_news_page.write(ind_news_content)"
   ]
  },
  {
   "attachments": {},
   "cell_type": "markdown",
   "metadata": {},
   "source": [
    "##### Support Page"
   ]
  },
  {
   "cell_type": "code",
   "execution_count": null,
   "metadata": {},
   "outputs": [],
   "source": [
    "support_template = environment.get_template('support.html.j2')"
   ]
  },
  {
   "cell_type": "code",
   "execution_count": null,
   "metadata": {},
   "outputs": [],
   "source": [
    "support_content = support_template.render(general=data[\"general\"], support=data[\"support\"])"
   ]
  },
  {
   "cell_type": "code",
   "execution_count": null,
   "metadata": {},
   "outputs": [],
   "source": [
    "with open('../kerzendorf-group.github.io/Support.html', mode='w', encoding='utf-8') as support:\n",
    "    support.write(support_content)"
   ]
  },
  {
   "attachments": {},
   "cell_type": "markdown",
   "metadata": {},
   "source": [
    "##### Contact"
   ]
  },
  {
   "cell_type": "code",
   "execution_count": null,
   "metadata": {},
   "outputs": [],
   "source": [
    "contact_template = environment.get_template('contact.html.j2')"
   ]
  },
  {
   "cell_type": "code",
   "execution_count": null,
   "metadata": {},
   "outputs": [],
   "source": [
    "contact_content = contact_template.render(general=data[\"general\"], contact=data[\"contact\"])"
   ]
  },
  {
   "cell_type": "code",
   "execution_count": null,
   "metadata": {},
   "outputs": [],
   "source": [
    "with open('../kerzendorf-group.github.io/Contact.html', mode='w', encoding='utf-8') as contact:\n",
    "    contact.write(contact_content)"
   ]
  }
 ],
 "metadata": {
  "kernelspec": {
   "display_name": "Python 3",
   "language": "python",
   "name": "python3"
  },
  "language_info": {
   "codemirror_mode": {
    "name": "ipython",
    "version": 3
   },
   "file_extension": ".py",
   "mimetype": "text/x-python",
   "name": "python",
   "nbconvert_exporter": "python",
   "pygments_lexer": "ipython3",
   "version": "3.8.2"
  },
  "orig_nbformat": 4
 },
 "nbformat": 4,
 "nbformat_minor": 2
}
