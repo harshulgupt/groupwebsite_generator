{
 "cells": [
  {
   "attachments": {},
   "cell_type": "markdown",
   "metadata": {},
   "source": [
    "### This notebook consist of code for creating the html files for the website each time data is updated."
   ]
  },
  {
   "attachments": {},
   "cell_type": "markdown",
   "metadata": {},
   "source": [
    "##### Set-up"
   ]
  },
  {
   "cell_type": "code",
   "execution_count": 231,
   "metadata": {},
   "outputs": [],
   "source": [
    "#Importing classes from the Jinja2 library to load and render templates.\n",
    "import json\n",
    "import os\n",
    "import pandas as pd\n",
    "from jinja2 import Environment, FileSystemLoader\n",
    "from jinja2.exceptions import UndefinedError\n",
    "from pathlib import Path\n"
   ]
  },
  {
   "cell_type": "code",
   "execution_count": 232,
   "metadata": {},
   "outputs": [],
   "source": [
    "os.chdir(\"/Users/harshul/website clone/harshul/test/groupwebsite_generator\")"
   ]
  },
  {
   "cell_type": "code",
   "execution_count": 233,
   "metadata": {},
   "outputs": [],
   "source": [
    "MEMBERS_DIR_PATH = Path('../group-data/members/')\n",
    "WEBSITE_DATA_PATH = Path('../group-data/website_data/')\n",
    "CONTENT_DIR_PATH = Path('../group-data/website_data/content/')"
   ]
  },
  {
   "cell_type": "code",
   "execution_count": 234,
   "metadata": {},
   "outputs": [],
   "source": [
    "#Function for creating proper html file names\n",
    "def page_link(a):\n",
    "    if ' ' in a:\n",
    "        return a.replace(' ', '_')\n",
    "    else:\n",
    "        return a"
   ]
  },
  {
   "cell_type": "code",
   "execution_count": 235,
   "metadata": {},
   "outputs": [],
   "source": [
    "#Loading members\n",
    "member_records = []\n",
    "\n",
    "for member_dir in MEMBERS_DIR_PATH.glob('*'):\n",
    "   \n",
    "    if member_dir.name.startswith('.'):\n",
    "        continue\n",
    "    \n",
    "    member_record = json.load(open(member_dir / 'info.json'))\n",
    "    member_json_dir = member_dir / 'jsons'\n",
    "    experiences_education_df = []\n",
    "    if (member_experiences := (member_json_dir / 'experiences.json')).exists():\n",
    "        experiences = json.load(open(member_experiences))\n",
    "        #current_position = {f\"exp_{key}\": value for key, value in experiences[0].items()}\n",
    "        experiences_education_df += experiences\n",
    "\n",
    "        \n",
    "    if (member_education := (member_json_dir / 'education.json')).exists():\n",
    "        education = json.load(open(member_education))\n",
    "        experiences_education_df += education\n",
    "        #current_position = {f\"edu_{key}\": value for key, value in education[0].items()}\n",
    "\n",
    "\n",
    "    if (member_projects := (member_json_dir / 'projects.json')).exists():\n",
    "        current_position = json.load(open(member_projects))[0]\n",
    "        member_record.update(current_position)\n",
    "    \n",
    "    if (member_links := (member_json_dir / 'social_links.json')).exists():\n",
    "        social_links = json.load(open(member_links))\n",
    "        member_record.update(social_links)\n",
    "    \n",
    "    member_records.append(member_record)\n",
    "    break\n",
    "\n",
    "people_page_df = pd.DataFrame.from_records(member_records)\n",
    "experiences_education_df = pd.DataFrame.from_records(experiences_education_df)\n"
   ]
  },
  {
   "cell_type": "code",
   "execution_count": 236,
   "metadata": {},
   "outputs": [
    {
     "data": {
      "text/html": [
       "<div>\n",
       "<style scoped>\n",
       "    .dataframe tbody tr th:only-of-type {\n",
       "        vertical-align: middle;\n",
       "    }\n",
       "\n",
       "    .dataframe tbody tr th {\n",
       "        vertical-align: top;\n",
       "    }\n",
       "\n",
       "    .dataframe thead th {\n",
       "        text-align: right;\n",
       "    }\n",
       "</style>\n",
       "<table border=\"1\" class=\"dataframe\">\n",
       "  <thead>\n",
       "    <tr style=\"text-align: right;\">\n",
       "      <th></th>\n",
       "      <th>institution</th>\n",
       "      <th>city</th>\n",
       "      <th>state</th>\n",
       "      <th>country</th>\n",
       "      <th>role</th>\n",
       "      <th>start_date</th>\n",
       "      <th>end_date</th>\n",
       "      <th>degree</th>\n",
       "      <th>subject</th>\n",
       "    </tr>\n",
       "  </thead>\n",
       "  <tbody>\n",
       "    <tr>\n",
       "      <th>0</th>\n",
       "      <td>Ohio state University</td>\n",
       "      <td></td>\n",
       "      <td>Ohio</td>\n",
       "      <td>USA</td>\n",
       "      <td>Research assistant (astronomy)</td>\n",
       "      <td>2016-01-01</td>\n",
       "      <td>2019-12-31</td>\n",
       "      <td>NaN</td>\n",
       "      <td>NaN</td>\n",
       "    </tr>\n",
       "    <tr>\n",
       "      <th>1</th>\n",
       "      <td>Michigan State University</td>\n",
       "      <td>East Lansing</td>\n",
       "      <td>Michigan</td>\n",
       "      <td>USA</td>\n",
       "      <td>NaN</td>\n",
       "      <td>2019-01-01</td>\n",
       "      <td>NaN</td>\n",
       "      <td>PhD</td>\n",
       "      <td>Physics and Astronomy.</td>\n",
       "    </tr>\n",
       "    <tr>\n",
       "      <th>2</th>\n",
       "      <td>Vassar College</td>\n",
       "      <td>Poughkeepsie</td>\n",
       "      <td>New York</td>\n",
       "      <td>USA</td>\n",
       "      <td>NaN</td>\n",
       "      <td>2012-01-01</td>\n",
       "      <td>2016-12-31</td>\n",
       "      <td>Bachelors</td>\n",
       "      <td>Physics, Astronomy, and Russian Studies</td>\n",
       "    </tr>\n",
       "  </tbody>\n",
       "</table>\n",
       "</div>"
      ],
      "text/plain": [
       "                 institution          city     state country  \\\n",
       "0      Ohio state University                    Ohio     USA   \n",
       "1  Michigan State University  East Lansing  Michigan     USA   \n",
       "2             Vassar College  Poughkeepsie  New York     USA   \n",
       "\n",
       "                             role  start_date    end_date     degree  \\\n",
       "0  Research assistant (astronomy)  2016-01-01  2019-12-31        NaN   \n",
       "1                             NaN  2019-01-01         NaN        PhD   \n",
       "2                             NaN  2012-01-01  2016-12-31  Bachelors   \n",
       "\n",
       "                                   subject  \n",
       "0                                      NaN  \n",
       "1                   Physics and Astronomy.  \n",
       "2  Physics, Astronomy, and Russian Studies  "
      ]
     },
     "execution_count": 236,
     "metadata": {},
     "output_type": "execute_result"
    }
   ],
   "source": [
    "experiences_education_df"
   ]
  },
  {
   "cell_type": "code",
   "execution_count": 237,
   "metadata": {},
   "outputs": [
    {
     "data": {
      "text/html": [
       "<div>\n",
       "<style scoped>\n",
       "    .dataframe tbody tr th:only-of-type {\n",
       "        vertical-align: middle;\n",
       "    }\n",
       "\n",
       "    .dataframe tbody tr th {\n",
       "        vertical-align: top;\n",
       "    }\n",
       "\n",
       "    .dataframe thead th {\n",
       "        text-align: right;\n",
       "    }\n",
       "</style>\n",
       "<table border=\"1\" class=\"dataframe\">\n",
       "  <thead>\n",
       "    <tr style=\"text-align: right;\">\n",
       "      <th></th>\n",
       "      <th>institution</th>\n",
       "      <th>city</th>\n",
       "      <th>state</th>\n",
       "      <th>country</th>\n",
       "      <th>role</th>\n",
       "      <th>start_date</th>\n",
       "      <th>end_date</th>\n",
       "      <th>degree</th>\n",
       "      <th>subject</th>\n",
       "    </tr>\n",
       "  </thead>\n",
       "  <tbody>\n",
       "    <tr>\n",
       "      <th>2</th>\n",
       "      <td>Vassar College</td>\n",
       "      <td>Poughkeepsie</td>\n",
       "      <td>New York</td>\n",
       "      <td>USA</td>\n",
       "      <td>NaN</td>\n",
       "      <td>2012-01-01</td>\n",
       "      <td>2016-12-31</td>\n",
       "      <td>Bachelors</td>\n",
       "      <td>Physics, Astronomy, and Russian Studies</td>\n",
       "    </tr>\n",
       "    <tr>\n",
       "      <th>0</th>\n",
       "      <td>Ohio state University</td>\n",
       "      <td></td>\n",
       "      <td>Ohio</td>\n",
       "      <td>USA</td>\n",
       "      <td>Research assistant (astronomy)</td>\n",
       "      <td>2016-01-01</td>\n",
       "      <td>2019-12-31</td>\n",
       "      <td>NaN</td>\n",
       "      <td>NaN</td>\n",
       "    </tr>\n",
       "    <tr>\n",
       "      <th>1</th>\n",
       "      <td>Michigan State University</td>\n",
       "      <td>East Lansing</td>\n",
       "      <td>Michigan</td>\n",
       "      <td>USA</td>\n",
       "      <td>NaN</td>\n",
       "      <td>2019-01-01</td>\n",
       "      <td>NaN</td>\n",
       "      <td>PhD</td>\n",
       "      <td>Physics and Astronomy.</td>\n",
       "    </tr>\n",
       "  </tbody>\n",
       "</table>\n",
       "</div>"
      ],
      "text/plain": [
       "                 institution          city     state country  \\\n",
       "2             Vassar College  Poughkeepsie  New York     USA   \n",
       "0      Ohio state University                    Ohio     USA   \n",
       "1  Michigan State University  East Lansing  Michigan     USA   \n",
       "\n",
       "                             role  start_date    end_date     degree  \\\n",
       "2                             NaN  2012-01-01  2016-12-31  Bachelors   \n",
       "0  Research assistant (astronomy)  2016-01-01  2019-12-31        NaN   \n",
       "1                             NaN  2019-01-01         NaN        PhD   \n",
       "\n",
       "                                   subject  \n",
       "2  Physics, Astronomy, and Russian Studies  \n",
       "0                                      NaN  \n",
       "1                   Physics and Astronomy.  "
      ]
     },
     "execution_count": 237,
     "metadata": {},
     "output_type": "execute_result"
    }
   ],
   "source": [
    "experiences_education_df.sort_values('end_date')"
   ]
  },
  {
   "cell_type": "code",
   "execution_count": 238,
   "metadata": {},
   "outputs": [
    {
     "data": {
      "text/html": [
       "<div>\n",
       "<style scoped>\n",
       "    .dataframe tbody tr th:only-of-type {\n",
       "        vertical-align: middle;\n",
       "    }\n",
       "\n",
       "    .dataframe tbody tr th {\n",
       "        vertical-align: top;\n",
       "    }\n",
       "\n",
       "    .dataframe thead th {\n",
       "        text-align: right;\n",
       "    }\n",
       "</style>\n",
       "<table border=\"1\" class=\"dataframe\">\n",
       "  <thead>\n",
       "    <tr style=\"text-align: right;\">\n",
       "      <th></th>\n",
       "      <th>first_name</th>\n",
       "      <th>last_name</th>\n",
       "      <th>nick_name</th>\n",
       "      <th>image_path</th>\n",
       "      <th>cover_image_path</th>\n",
       "      <th>introduction</th>\n",
       "      <th>id</th>\n",
       "      <th>project_title</th>\n",
       "      <th>start_date</th>\n",
       "      <th>description</th>\n",
       "      <th>website</th>\n",
       "      <th>github_handle</th>\n",
       "      <th>twitter_handle</th>\n",
       "      <th>linkedin_handle</th>\n",
       "      <th>email</th>\n",
       "      <th>orcid</th>\n",
       "    </tr>\n",
       "  </thead>\n",
       "  <tbody>\n",
       "    <tr>\n",
       "      <th>0</th>\n",
       "      <td>Joshua</td>\n",
       "      <td>Shields</td>\n",
       "      <td>Josh</td>\n",
       "      <td>media/images/josh_photo.jpg</td>\n",
       "      <td>media/images/cover.jpg</td>\n",
       "      <td>Josh is a senior graduate student in astrophys...</td>\n",
       "      <td>josh_shields</td>\n",
       "      <td>Surviving Companions Of Supernovae And Stellar...</td>\n",
       "      <td></td>\n",
       "      <td></td>\n",
       "      <td>https://jvshields.github.io/</td>\n",
       "      <td>jvshields</td>\n",
       "      <td></td>\n",
       "      <td></td>\n",
       "      <td>shield90@msu.edu</td>\n",
       "      <td>0000-0002-1560-5286</td>\n",
       "    </tr>\n",
       "  </tbody>\n",
       "</table>\n",
       "</div>"
      ],
      "text/plain": [
       "  first_name last_name nick_name                   image_path  \\\n",
       "0     Joshua   Shields      Josh  media/images/josh_photo.jpg   \n",
       "\n",
       "         cover_image_path                                       introduction  \\\n",
       "0  media/images/cover.jpg  Josh is a senior graduate student in astrophys...   \n",
       "\n",
       "             id                                      project_title start_date  \\\n",
       "0  josh_shields  Surviving Companions Of Supernovae And Stellar...              \n",
       "\n",
       "  description                       website github_handle twitter_handle  \\\n",
       "0              https://jvshields.github.io/     jvshields                  \n",
       "\n",
       "  linkedin_handle             email                orcid  \n",
       "0                  shield90@msu.edu  0000-0002-1560-5286  "
      ]
     },
     "execution_count": 238,
     "metadata": {},
     "output_type": "execute_result"
    }
   ],
   "source": [
    "people_page_df.sort_values('id')"
   ]
  },
  {
   "cell_type": "code",
   "execution_count": 239,
   "metadata": {},
   "outputs": [
    {
     "data": {
      "text/html": [
       "<div>\n",
       "<style scoped>\n",
       "    .dataframe tbody tr th:only-of-type {\n",
       "        vertical-align: middle;\n",
       "    }\n",
       "\n",
       "    .dataframe tbody tr th {\n",
       "        vertical-align: top;\n",
       "    }\n",
       "\n",
       "    .dataframe thead th {\n",
       "        text-align: right;\n",
       "    }\n",
       "</style>\n",
       "<table border=\"1\" class=\"dataframe\">\n",
       "  <thead>\n",
       "    <tr style=\"text-align: right;\">\n",
       "      <th></th>\n",
       "      <th>institution</th>\n",
       "      <th>city</th>\n",
       "      <th>state</th>\n",
       "      <th>country</th>\n",
       "      <th>role</th>\n",
       "      <th>start_date</th>\n",
       "      <th>end_date</th>\n",
       "      <th>degree</th>\n",
       "      <th>subject</th>\n",
       "    </tr>\n",
       "  </thead>\n",
       "  <tbody>\n",
       "    <tr>\n",
       "      <th>0</th>\n",
       "      <td>Ohio state University</td>\n",
       "      <td></td>\n",
       "      <td>Ohio</td>\n",
       "      <td>USA</td>\n",
       "      <td>Research assistant (astronomy)</td>\n",
       "      <td>2016-01-01</td>\n",
       "      <td>2019-12-31</td>\n",
       "      <td>NaN</td>\n",
       "      <td>NaN</td>\n",
       "    </tr>\n",
       "    <tr>\n",
       "      <th>1</th>\n",
       "      <td>Michigan State University</td>\n",
       "      <td>East Lansing</td>\n",
       "      <td>Michigan</td>\n",
       "      <td>USA</td>\n",
       "      <td>NaN</td>\n",
       "      <td>2019-01-01</td>\n",
       "      <td>NaN</td>\n",
       "      <td>PhD</td>\n",
       "      <td>Physics and Astronomy.</td>\n",
       "    </tr>\n",
       "    <tr>\n",
       "      <th>2</th>\n",
       "      <td>Vassar College</td>\n",
       "      <td>Poughkeepsie</td>\n",
       "      <td>New York</td>\n",
       "      <td>USA</td>\n",
       "      <td>NaN</td>\n",
       "      <td>2012-01-01</td>\n",
       "      <td>2016-12-31</td>\n",
       "      <td>Bachelors</td>\n",
       "      <td>Physics, Astronomy, and Russian Studies</td>\n",
       "    </tr>\n",
       "  </tbody>\n",
       "</table>\n",
       "</div>"
      ],
      "text/plain": [
       "                 institution          city     state country  \\\n",
       "0      Ohio state University                    Ohio     USA   \n",
       "1  Michigan State University  East Lansing  Michigan     USA   \n",
       "2             Vassar College  Poughkeepsie  New York     USA   \n",
       "\n",
       "                             role  start_date    end_date     degree  \\\n",
       "0  Research assistant (astronomy)  2016-01-01  2019-12-31        NaN   \n",
       "1                             NaN  2019-01-01         NaN        PhD   \n",
       "2                             NaN  2012-01-01  2016-12-31  Bachelors   \n",
       "\n",
       "                                   subject  \n",
       "0                                      NaN  \n",
       "1                   Physics and Astronomy.  \n",
       "2  Physics, Astronomy, and Russian Studies  "
      ]
     },
     "execution_count": 239,
     "metadata": {},
     "output_type": "execute_result"
    }
   ],
   "source": [
    "experiences_education_df"
   ]
  },
  {
   "cell_type": "code",
   "execution_count": 240,
   "metadata": {},
   "outputs": [
    {
     "ename": "KeyError",
     "evalue": "'edu_degree'",
     "output_type": "error",
     "traceback": [
      "\u001b[0;31m---------------------------------------------------------------------------\u001b[0m",
      "\u001b[0;31mKeyError\u001b[0m                                  Traceback (most recent call last)",
      "File \u001b[0;32m~/Library/Python/3.8/lib/python/site-packages/pandas/core/indexes/base.py:3802\u001b[0m, in \u001b[0;36mIndex.get_loc\u001b[0;34m(self, key, method, tolerance)\u001b[0m\n\u001b[1;32m   3801\u001b[0m \u001b[39mtry\u001b[39;00m:\n\u001b[0;32m-> 3802\u001b[0m     \u001b[39mreturn\u001b[39;00m \u001b[39mself\u001b[39;49m\u001b[39m.\u001b[39;49m_engine\u001b[39m.\u001b[39;49mget_loc(casted_key)\n\u001b[1;32m   3803\u001b[0m \u001b[39mexcept\u001b[39;00m \u001b[39mKeyError\u001b[39;00m \u001b[39mas\u001b[39;00m err:\n",
      "File \u001b[0;32m~/Library/Python/3.8/lib/python/site-packages/pandas/_libs/index.pyx:138\u001b[0m, in \u001b[0;36mpandas._libs.index.IndexEngine.get_loc\u001b[0;34m()\u001b[0m\n",
      "File \u001b[0;32m~/Library/Python/3.8/lib/python/site-packages/pandas/_libs/index.pyx:165\u001b[0m, in \u001b[0;36mpandas._libs.index.IndexEngine.get_loc\u001b[0;34m()\u001b[0m\n",
      "File \u001b[0;32mpandas/_libs/hashtable_class_helper.pxi:5745\u001b[0m, in \u001b[0;36mpandas._libs.hashtable.PyObjectHashTable.get_item\u001b[0;34m()\u001b[0m\n",
      "File \u001b[0;32mpandas/_libs/hashtable_class_helper.pxi:5753\u001b[0m, in \u001b[0;36mpandas._libs.hashtable.PyObjectHashTable.get_item\u001b[0;34m()\u001b[0m\n",
      "\u001b[0;31mKeyError\u001b[0m: 'edu_degree'",
      "\nThe above exception was the direct cause of the following exception:\n",
      "\u001b[0;31mKeyError\u001b[0m                                  Traceback (most recent call last)",
      "\u001b[1;32m/Users/harshul/website clone/harshul/test/groupwebsite_generator/notebooks/mix.ipynb Cell 12\u001b[0m line \u001b[0;36m4\n\u001b[1;32m      <a href='vscode-notebook-cell:/Users/harshul/website%20clone/harshul/test/groupwebsite_generator/notebooks/mix.ipynb#Y110sZmlsZQ%3D%3D?line=0'>1</a>\u001b[0m \u001b[39m# Creating pandas dataframes for Present Members and Alumni\u001b[39;00m\n\u001b[0;32m----> <a href='vscode-notebook-cell:/Users/harshul/website%20clone/harshul/test/groupwebsite_generator/notebooks/mix.ipynb#Y110sZmlsZQ%3D%3D?line=3'>4</a>\u001b[0m degree_condition \u001b[39m=\u001b[39m people_page_df[\u001b[39m'\u001b[39;49m\u001b[39medu_degree\u001b[39;49m\u001b[39m'\u001b[39;49m]\u001b[39m.\u001b[39mstr\u001b[39m.\u001b[39mstrip()\u001b[39m.\u001b[39mstr\u001b[39m.\u001b[39mlower()\u001b[39m.\u001b[39misin([\u001b[39m'\u001b[39m\u001b[39mbachelors\u001b[39m\u001b[39m'\u001b[39m, \u001b[39m'\u001b[39m\u001b[39mmasters\u001b[39m\u001b[39m'\u001b[39m, \u001b[39m'\u001b[39m\u001b[39mphd\u001b[39m\u001b[39m'\u001b[39m, \u001b[39m'\u001b[39m\u001b[39mpostdoc\u001b[39m\u001b[39m'\u001b[39m])\n\u001b[1;32m      <a href='vscode-notebook-cell:/Users/harshul/website%20clone/harshul/test/groupwebsite_generator/notebooks/mix.ipynb#Y110sZmlsZQ%3D%3D?line=5'>6</a>\u001b[0m end_date_condition \u001b[39m=\u001b[39m (people_page_df[\u001b[39m'\u001b[39m\u001b[39medu_end_date\u001b[39m\u001b[39m'\u001b[39m]\u001b[39m.\u001b[39misna()) \u001b[39m|\u001b[39m (people_page_df[\u001b[39m'\u001b[39m\u001b[39mexp_end_date\u001b[39m\u001b[39m'\u001b[39m]\u001b[39m.\u001b[39misna())\n\u001b[1;32m      <a href='vscode-notebook-cell:/Users/harshul/website%20clone/harshul/test/groupwebsite_generator/notebooks/mix.ipynb#Y110sZmlsZQ%3D%3D?line=8'>9</a>\u001b[0m people_page_df[\u001b[39m'\u001b[39m\u001b[39medu_institution\u001b[39m\u001b[39m'\u001b[39m] \u001b[39m=\u001b[39m people_page_df[\u001b[39m'\u001b[39m\u001b[39medu_institution\u001b[39m\u001b[39m'\u001b[39m]\u001b[39m.\u001b[39mstr\u001b[39m.\u001b[39mstrip()\n",
      "File \u001b[0;32m~/Library/Python/3.8/lib/python/site-packages/pandas/core/frame.py:3807\u001b[0m, in \u001b[0;36mDataFrame.__getitem__\u001b[0;34m(self, key)\u001b[0m\n\u001b[1;32m   3805\u001b[0m \u001b[39mif\u001b[39;00m \u001b[39mself\u001b[39m\u001b[39m.\u001b[39mcolumns\u001b[39m.\u001b[39mnlevels \u001b[39m>\u001b[39m \u001b[39m1\u001b[39m:\n\u001b[1;32m   3806\u001b[0m     \u001b[39mreturn\u001b[39;00m \u001b[39mself\u001b[39m\u001b[39m.\u001b[39m_getitem_multilevel(key)\n\u001b[0;32m-> 3807\u001b[0m indexer \u001b[39m=\u001b[39m \u001b[39mself\u001b[39;49m\u001b[39m.\u001b[39;49mcolumns\u001b[39m.\u001b[39;49mget_loc(key)\n\u001b[1;32m   3808\u001b[0m \u001b[39mif\u001b[39;00m is_integer(indexer):\n\u001b[1;32m   3809\u001b[0m     indexer \u001b[39m=\u001b[39m [indexer]\n",
      "File \u001b[0;32m~/Library/Python/3.8/lib/python/site-packages/pandas/core/indexes/base.py:3804\u001b[0m, in \u001b[0;36mIndex.get_loc\u001b[0;34m(self, key, method, tolerance)\u001b[0m\n\u001b[1;32m   3802\u001b[0m     \u001b[39mreturn\u001b[39;00m \u001b[39mself\u001b[39m\u001b[39m.\u001b[39m_engine\u001b[39m.\u001b[39mget_loc(casted_key)\n\u001b[1;32m   3803\u001b[0m \u001b[39mexcept\u001b[39;00m \u001b[39mKeyError\u001b[39;00m \u001b[39mas\u001b[39;00m err:\n\u001b[0;32m-> 3804\u001b[0m     \u001b[39mraise\u001b[39;00m \u001b[39mKeyError\u001b[39;00m(key) \u001b[39mfrom\u001b[39;00m \u001b[39merr\u001b[39;00m\n\u001b[1;32m   3805\u001b[0m \u001b[39mexcept\u001b[39;00m \u001b[39mTypeError\u001b[39;00m:\n\u001b[1;32m   3806\u001b[0m     \u001b[39m# If we have a listlike key, _check_indexing_error will raise\u001b[39;00m\n\u001b[1;32m   3807\u001b[0m     \u001b[39m#  InvalidIndexError. Otherwise we fall through and re-raise\u001b[39;00m\n\u001b[1;32m   3808\u001b[0m     \u001b[39m#  the TypeError.\u001b[39;00m\n\u001b[1;32m   3809\u001b[0m     \u001b[39mself\u001b[39m\u001b[39m.\u001b[39m_check_indexing_error(key)\n",
      "\u001b[0;31mKeyError\u001b[0m: 'edu_degree'"
     ]
    }
   ],
   "source": [
    "# Creating pandas dataframes for Present Members and Alumni\n",
    "\n",
    "\n",
    "degree_condition = people_page_df['edu_degree'].str.strip().str.lower().isin(['bachelors', 'masters', 'phd', 'postdoc'])\n",
    "\n",
    "end_date_condition = (people_page_df['edu_end_date'].isna()) | (people_page_df['exp_end_date'].isna())\n",
    "\n",
    "\n",
    "people_page_df['edu_institution'] = people_page_df['edu_institution'].str.strip()\n",
    "people_page_df['exp_institution'] = people_page_df['exp_institution'].str.strip()\n",
    "\n",
    "institution_condition = (\n",
    "    (people_page_df['edu_institution'].str.lower() == 'michigan state university') |\n",
    "     (people_page_df['edu_institution'].str.lower() == 'msu')|\n",
    "    (people_page_df['exp_institution'].str.lower() == 'michigan state university') |\n",
    "        (people_page_df['exp_institution'].str.lower() == 'msu') \n",
    ")\n",
    "\n",
    "final_filter = degree_condition & end_date_condition & institution_condition\n",
    "\n",
    "\n",
    "people_present_df = people_page_df[final_filter]\n",
    "people_alumni_df = people_page_df[~final_filter]\n"
   ]
  },
  {
   "cell_type": "code",
   "execution_count": null,
   "metadata": {},
   "outputs": [],
   "source": [
    "#people_alumni_df[['first_name','edu_degree','edu_institution', 'edu_end_date' , 'exp_institution','exp_end_date']]\n",
    "#people_alumni_df[['first_name','edu_degree','edu_institution', 'edu_end_date' , 'exp_institution','exp_end_date']]\n"
   ]
  },
  {
   "cell_type": "code",
   "execution_count": null,
   "metadata": {},
   "outputs": [],
   "source": [
    "\n",
    "\n",
    "\n",
    "website_data_files = {\n",
    "    'contact': 'contact.json',\n",
    "    'general': 'general.json',\n",
    "    'research': 'research.json',\n",
    "    'homepage': 'homepage.json',\n",
    "    'support': 'support.json'\n",
    "}\n",
    "\n",
    "\n",
    "contact, general, research, homepage, support = [{}] * 5\n",
    "\n",
    "\n",
    "for var_name, webpage_json in website_data_files.items():\n",
    "    file_path = WEBSITE_DATA_PATH / webpage_json\n",
    "    if file_path.exists():\n",
    "        with open(file_path, 'r') as f:\n",
    "            locals()[var_name] = json.load(f)\n"
   ]
  },
  {
   "cell_type": "code",
   "execution_count": null,
   "metadata": {},
   "outputs": [],
   "source": [
    "contact_df = pd.DataFrame.from_records([contact])\n",
    "general_df = pd.DataFrame.from_records([general])\n",
    "homepage_df = pd.DataFrame.from_records([homepage])\n",
    "research_df = pd.DataFrame.from_records([research])\n",
    "support_df = pd.DataFrame.from_records([support])\n"
   ]
  },
  {
   "cell_type": "code",
   "execution_count": null,
   "metadata": {},
   "outputs": [],
   "source": [
    "\n",
    "content_dfs = []  \n",
    "for json_file in CONTENT_DIR_PATH.glob('*.json'):\n",
    "    with open(json_file, 'r') as file:\n",
    "        data = json.load(file)\n",
    "        \n",
    "       \n",
    "        df = pd.json_normalize(data)\n",
    "        \n",
    "        content_dfs.append(df)\n",
    "\n",
    "\n",
    "content_df = pd.concat(content_dfs, ignore_index=True, sort=False)\n",
    "\n",
    "\n"
   ]
  },
  {
   "cell_type": "code",
   "execution_count": null,
   "metadata": {},
   "outputs": [],
   "source": [
    "#Creating an instance of the Environment class that looks for templates. Page_link is set to the global variable so that it can be accessed by all templates\n",
    "environment = Environment(loader=FileSystemLoader('templates/'),extensions=['jinja2.ext.loopcontrols'])\n",
    "environment.globals['page_link'] = page_link\n",
    "environment.globals['ContentData'] = content_df"
   ]
  },
  {
   "cell_type": "code",
   "execution_count": null,
   "metadata": {},
   "outputs": [],
   "source": [
    "research_content_unsorted = content_df[content_df['tags'].apply(lambda x: any('research' in tag for tag in x))]\n",
    "research_content = research_content_unsorted.groupby('category').apply(lambda x: x.sort_values('article_date', ascending=False)).reset_index(drop=True)"
   ]
  },
  {
   "cell_type": "code",
   "execution_count": null,
   "metadata": {},
   "outputs": [],
   "source": [
    "news_content_unsorted = content_df[content_df['tags'].apply(lambda x: any('news' in tag for tag in x))]\n",
    "news_content = news_content_unsorted.sort_values(by=\"article_date\", ascending=False)"
   ]
  },
  {
   "cell_type": "code",
   "execution_count": null,
   "metadata": {},
   "outputs": [],
   "source": [
    "latest_content_df = pd.DataFrame()\n",
    "\n",
    "for category in content_df.category.unique():\n",
    "    latest_data = pd.Series(content_df[content_df.category == category].iloc[0])\n",
    "    latest_content_df = latest_content_df._append(latest_data, ignore_index=True)\n",
    "\n",
    "latest_content_df['article_date'] = pd.to_datetime(latest_content_df['article_date'], format='%m-%d-%Y')\n",
    "latest_content_df = latest_content_df.sort_values(by='article_date', ascending=False)"
   ]
  },
  {
   "attachments": {},
   "cell_type": "markdown",
   "metadata": {},
   "source": [
    "##### Homepage"
   ]
  },
  {
   "cell_type": "code",
   "execution_count": null,
   "metadata": {},
   "outputs": [],
   "source": [
    "homepage_template = environment.get_template('homepage.html.j2')"
   ]
  },
  {
   "cell_type": "code",
   "execution_count": null,
   "metadata": {},
   "outputs": [],
   "source": [
    "general_dict = general_df.iloc[0].to_dict()\n",
    "homepage_dict = homepage_df.iloc[0].to_dict()\n"
   ]
  },
  {
   "cell_type": "code",
   "execution_count": null,
   "metadata": {},
   "outputs": [
    {
     "ename": "TypeError",
     "evalue": "'DataFrame' object is not callable",
     "output_type": "error",
     "traceback": [
      "\u001b[0;31m---------------------------------------------------------------------------\u001b[0m",
      "\u001b[0;31mTypeError\u001b[0m                                 Traceback (most recent call last)",
      "\u001b[1;32m/Users/harshul/website clone/harshul/test/groupwebsite_generator/notebooks/mix.ipynb Cell 21\u001b[0m line \u001b[0;36m1\n\u001b[0;32m----> <a href='vscode-notebook-cell:/Users/harshul/website%20clone/harshul/test/groupwebsite_generator/notebooks/mix.ipynb#X25sZmlsZQ%3D%3D?line=0'>1</a>\u001b[0m homepage_content \u001b[39m=\u001b[39m homepage_template\u001b[39m.\u001b[39;49mrender(general\u001b[39m=\u001b[39;49mgeneral_dict,\n\u001b[1;32m      <a href='vscode-notebook-cell:/Users/harshul/website%20clone/harshul/test/groupwebsite_generator/notebooks/mix.ipynb#X25sZmlsZQ%3D%3D?line=1'>2</a>\u001b[0m                                             homepage\u001b[39m=\u001b[39;49mhomepage_dict,\n\u001b[1;32m      <a href='vscode-notebook-cell:/Users/harshul/website%20clone/harshul/test/groupwebsite_generator/notebooks/mix.ipynb#X25sZmlsZQ%3D%3D?line=2'>3</a>\u001b[0m                                             recent_content\u001b[39m=\u001b[39;49mlatest_content_df\u001b[39m.\u001b[39;49mto_dict(orient\u001b[39m=\u001b[39;49m\u001b[39m'\u001b[39;49m\u001b[39mrecords\u001b[39;49m\u001b[39m'\u001b[39;49m))\n",
      "File \u001b[0;32m~/Library/Python/3.8/lib/python/site-packages/jinja2/environment.py:1301\u001b[0m, in \u001b[0;36mTemplate.render\u001b[0;34m(self, *args, **kwargs)\u001b[0m\n\u001b[1;32m   1299\u001b[0m     \u001b[39mreturn\u001b[39;00m \u001b[39mself\u001b[39m\u001b[39m.\u001b[39menvironment\u001b[39m.\u001b[39mconcat(\u001b[39mself\u001b[39m\u001b[39m.\u001b[39mroot_render_func(ctx))  \u001b[39m# type: ignore\u001b[39;00m\n\u001b[1;32m   1300\u001b[0m \u001b[39mexcept\u001b[39;00m \u001b[39mException\u001b[39;00m:\n\u001b[0;32m-> 1301\u001b[0m     \u001b[39mself\u001b[39;49m\u001b[39m.\u001b[39;49menvironment\u001b[39m.\u001b[39;49mhandle_exception()\n",
      "File \u001b[0;32m~/Library/Python/3.8/lib/python/site-packages/jinja2/environment.py:936\u001b[0m, in \u001b[0;36mEnvironment.handle_exception\u001b[0;34m(self, source)\u001b[0m\n\u001b[1;32m    931\u001b[0m \u001b[39m\u001b[39m\u001b[39m\"\"\"Exception handling helper.  This is used internally to either raise\u001b[39;00m\n\u001b[1;32m    932\u001b[0m \u001b[39mrewritten exceptions or return a rendered traceback for the template.\u001b[39;00m\n\u001b[1;32m    933\u001b[0m \u001b[39m\"\"\"\u001b[39;00m\n\u001b[1;32m    934\u001b[0m \u001b[39mfrom\u001b[39;00m \u001b[39m.\u001b[39;00m\u001b[39mdebug\u001b[39;00m \u001b[39mimport\u001b[39;00m rewrite_traceback_stack\n\u001b[0;32m--> 936\u001b[0m \u001b[39mraise\u001b[39;00m rewrite_traceback_stack(source\u001b[39m=\u001b[39msource)\n",
      "File \u001b[0;32m~/website clone/harshul/test/groupwebsite_generator/templates/homepage.html.j2:189\u001b[0m, in \u001b[0;36mtop-level template code\u001b[0;34m()\u001b[0m\n\u001b[1;32m    187\u001b[0m <div class=\"row justify-content-center\">\n\u001b[1;32m    188\u001b[0m     {% for content in recent_content[:3] %}\n\u001b[0;32m--> 189\u001b[0m     {% set content_data = ContentData(content['article_id']) %}\n\u001b[1;32m    190\u001b[0m     <div class=\"col-lg-4 col-md-6\">\n\u001b[1;32m    191\u001b[0m         <div class=\"about-single\" style=\"width: 374px; height: 512px;\">\n",
      "\u001b[0;31mTypeError\u001b[0m: 'DataFrame' object is not callable"
     ]
    }
   ],
   "source": [
    "homepage_content = homepage_template.render(general=general_dict,\n",
    "                                            homepage=homepage_dict,\n",
    "                                            recent_content=latest_content_df.to_dict(orient='records'))\n"
   ]
  },
  {
   "cell_type": "code",
   "execution_count": null,
   "metadata": {},
   "outputs": [],
   "source": [
    "with open('../kerzendorf-group.github.io/index.html', mode='w', encoding='utf-8') as Homepage:\n",
    "    Homepage.write(homepage_content)"
   ]
  },
  {
   "attachments": {},
   "cell_type": "markdown",
   "metadata": {},
   "source": [
    "##### People Page"
   ]
  },
  {
   "cell_type": "code",
   "execution_count": null,
   "metadata": {},
   "outputs": [],
   "source": [
    "people_template = environment.get_template(\"people.html.j2\")"
   ]
  },
  {
   "cell_type": "code",
   "execution_count": null,
   "metadata": {},
   "outputs": [],
   "source": [
    "people_content = people_template.render(general=general_dict, present_members=people_present_df, alumni_members=people_alumni_df)"
   ]
  },
  {
   "cell_type": "code",
   "execution_count": null,
   "metadata": {},
   "outputs": [],
   "source": [
    "with open(\"../kerzendorf-group.github.io/People.html\", mode=\"w\", encoding=\"utf-8\") as people:\n",
    "    people.write(people_content)"
   ]
  },
  {
   "attachments": {},
   "cell_type": "markdown",
   "metadata": {},
   "source": [
    "##### Individual People Page"
   ]
  },
  {
   "cell_type": "code",
   "execution_count": null,
   "metadata": {},
   "outputs": [],
   "source": [
    "ind_person_template = environment.get_template(\"individual_person.html.j2\")"
   ]
  },
  {
   "cell_type": "code",
   "execution_count": null,
   "metadata": {},
   "outputs": [],
   "source": [
    "for person in people_df['id']:\n",
    "            filename = f\"../kerzendorf-group.github.io/members/{ person }/{ person }.html\"\n",
    "            ind_person_content = ind_person_template.render(general=data[\"general\"], \n",
    "                                                            member_id=person, \n",
    "                                                            content=content_df.to_dict(orient='records'))\n",
    "            with open(filename, mode=\"w\", encoding=\"utf-8\") as page:\n",
    "                page.write(ind_person_content)"
   ]
  },
  {
   "attachments": {},
   "cell_type": "markdown",
   "metadata": {},
   "source": [
    "##### Research Page"
   ]
  },
  {
   "cell_type": "code",
   "execution_count": null,
   "metadata": {},
   "outputs": [],
   "source": [
    "research_template = environment.get_template(\"research.html.j2\")"
   ]
  },
  {
   "cell_type": "code",
   "execution_count": null,
   "metadata": {},
   "outputs": [],
   "source": [
    "main_page_research_content = research_template.render(general=data[\"general\"],\n",
    "                                            content=research_content)"
   ]
  },
  {
   "cell_type": "code",
   "execution_count": null,
   "metadata": {},
   "outputs": [],
   "source": [
    "with open(\"../kerzendorf-group.github.io/Research.html\", mode=\"w\", encoding=\"utf-8\") as research:\n",
    "        research.write(main_page_research_content)"
   ]
  },
  {
   "cell_type": "code",
   "execution_count": null,
   "metadata": {},
   "outputs": [],
   "source": [
    "sub_research_template = environment.get_template(\"sub_research_frontpage.html.j2\")"
   ]
  },
  {
   "cell_type": "code",
   "execution_count": null,
   "metadata": {},
   "outputs": [],
   "source": [
    "for category in content_df.loc[content_df.category != \"News\", \"category\"].unique():\n",
    "        sub_research_content = sub_research_template.render(general=data[\"general\"], \n",
    "                                                            research_general=data[\"research\"], \n",
    "                                                            content = research_content,\n",
    "                                                            category = category\n",
    "                                                            )\n",
    "        folder_path = f\"../kerzendorf-group.github.io/sub_research/{page_link(category.lower())}\"\n",
    "        os.makedirs(folder_path, exist_ok=True)\n",
    "        with open(f\"../kerzendorf-group.github.io/sub_research/{page_link(category.lower())}.html\", mode=\"w\", encoding=\"utf-8\") as sub_research:\n",
    "            sub_research.write(sub_research_content)"
   ]
  },
  {
   "attachments": {},
   "cell_type": "markdown",
   "metadata": {},
   "source": [
    "##### Individual Research Page"
   ]
  },
  {
   "cell_type": "code",
   "execution_count": null,
   "metadata": {},
   "outputs": [],
   "source": [
    "template_no_twitter = environment.get_template(\"research_page_no_twitter.html.j2\")"
   ]
  },
  {
   "cell_type": "code",
   "execution_count": null,
   "metadata": {},
   "outputs": [],
   "source": [
    "for ind_research_keys, ind_research_values in research_content.iterrows():\n",
    "    if \"news\" not in ind_research_values.category.lower():\n",
    "        ind_research_content = template_no_twitter.render(general=data[\"general\"], \n",
    "                                                          member_ids = people_df['id'],\n",
    "                                                          nonmem_ids = non_mem_df['id'],\n",
    "                                                          content = ind_research_values\n",
    "                                                          \n",
    "                                                            )\n",
    "        folder_path = f\"../kerzendorf-group.github.io/sub_research/{page_link(ind_research_values.category.lower())}\"\n",
    "        os.makedirs(folder_path, exist_ok=True)\n",
    "        with open(f\"{ folder_path }/{page_link(ind_research_values.article_id.lower())}.html\", mode=\"w\", encoding=\"utf-8\") as ind_research_page:\n",
    "            ind_research_page.write(ind_research_content)"
   ]
  },
  {
   "attachments": {},
   "cell_type": "markdown",
   "metadata": {},
   "source": [
    "##### News Page"
   ]
  },
  {
   "cell_type": "code",
   "execution_count": null,
   "metadata": {},
   "outputs": [],
   "source": [
    "news_content"
   ]
  },
  {
   "cell_type": "code",
   "execution_count": null,
   "metadata": {},
   "outputs": [],
   "source": [
    "news_template = environment.get_template(\"news.html.j2\")"
   ]
  },
  {
   "cell_type": "code",
   "execution_count": null,
   "metadata": {},
   "outputs": [],
   "source": [
    "news_page_content = news_template.render(general=data[\"general\"],\n",
    "                                         content=news_content,\n",
    "                                         member_ids=people_df['id'],\n",
    "                                         nonmem_ids = non_mem_df['id'],\n",
    "                                         category=\"News\")"
   ]
  },
  {
   "cell_type": "code",
   "execution_count": null,
   "metadata": {},
   "outputs": [],
   "source": [
    "with open(\"../kerzendorf-group.github.io/News.html\", mode=\"w\", encoding=\"utf-8\") as news:\n",
    "        news.write(news_page_content)"
   ]
  },
  {
   "attachments": {},
   "cell_type": "markdown",
   "metadata": {},
   "source": [
    "##### Individual News Pages"
   ]
  },
  {
   "cell_type": "code",
   "execution_count": null,
   "metadata": {},
   "outputs": [],
   "source": [
    "news_template_no_twitter = environment.get_template(\"news_page_no_twitter.html.j2\")\n",
    "#news_template_twitter = environment.get_template(\"news_page_twitter.html.j2\")"
   ]
  },
  {
   "cell_type": "code",
   "execution_count": null,
   "metadata": {},
   "outputs": [],
   "source": [
    "for ind_news_keys, ind_news_values in news_content.iterrows():\n",
    "        ind_news_content = news_template_no_twitter.render(general=data[\"general\"], \n",
    "                                                          member_ids = people_df['id'],\n",
    "                                                          nonmem_ids = non_mem_df['id'],\n",
    "                                                          content = ind_news_values\n",
    "                                                            )\n",
    "        folder_path = f\"../kerzendorf-group.github.io/news/\"\n",
    "        os.makedirs(folder_path, exist_ok=True)\n",
    "        with open(f\"{ folder_path }/{page_link(ind_news_values.article_id.lower())}.html\", mode=\"w\", encoding=\"utf-8\") as ind_news_page:\n",
    "            ind_news_page.write(ind_news_content)"
   ]
  },
  {
   "attachments": {},
   "cell_type": "markdown",
   "metadata": {},
   "source": [
    "##### Support Page"
   ]
  },
  {
   "cell_type": "code",
   "execution_count": null,
   "metadata": {},
   "outputs": [],
   "source": [
    "support_template = environment.get_template('support.html.j2')"
   ]
  },
  {
   "cell_type": "code",
   "execution_count": null,
   "metadata": {},
   "outputs": [],
   "source": [
    "support_content = support_template.render(general=data[\"general\"], support=data[\"support\"])"
   ]
  },
  {
   "cell_type": "code",
   "execution_count": null,
   "metadata": {},
   "outputs": [],
   "source": [
    "with open('../kerzendorf-group.github.io/Support.html', mode='w', encoding='utf-8') as support:\n",
    "    support.write(support_content)"
   ]
  },
  {
   "attachments": {},
   "cell_type": "markdown",
   "metadata": {},
   "source": [
    "##### Contact"
   ]
  },
  {
   "cell_type": "code",
   "execution_count": null,
   "metadata": {},
   "outputs": [],
   "source": [
    "contact_template = environment.get_template('contact.html.j2')"
   ]
  },
  {
   "cell_type": "code",
   "execution_count": null,
   "metadata": {},
   "outputs": [],
   "source": [
    "contact_content = contact_template.render(general=data[\"general\"], contact=data[\"contact\"])"
   ]
  },
  {
   "cell_type": "code",
   "execution_count": null,
   "metadata": {},
   "outputs": [],
   "source": [
    "with open('../kerzendorf-group.github.io/Contact.html', mode='w', encoding='utf-8') as contact:\n",
    "    contact.write(contact_content)"
   ]
  }
 ],
 "metadata": {
  "kernelspec": {
   "display_name": "Python 3",
   "language": "python",
   "name": "python3"
  },
  "language_info": {
   "codemirror_mode": {
    "name": "ipython",
    "version": 3
   },
   "file_extension": ".py",
   "mimetype": "text/x-python",
   "name": "python",
   "nbconvert_exporter": "python",
   "pygments_lexer": "ipython3",
   "version": "3.8.2"
  },
  "orig_nbformat": 4
 },
 "nbformat": 4,
 "nbformat_minor": 2
}
