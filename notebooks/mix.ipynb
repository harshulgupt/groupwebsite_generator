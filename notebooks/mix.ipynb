{
 "cells": [
  {
   "attachments": {},
   "cell_type": "markdown",
   "metadata": {},
   "source": [
    "### This notebook consist of code for creating the html files for the website each time data is updated."
   ]
  },
  {
   "attachments": {},
   "cell_type": "markdown",
   "metadata": {},
   "source": [
    "##### Set-up"
   ]
  },
  {
   "cell_type": "code",
   "execution_count": 46,
   "metadata": {},
   "outputs": [],
   "source": [
    "#Importing classes from the Jinja2 library to load and render templates.\n",
    "import json\n",
    "import os\n",
    "import pandas as pd\n",
    "from jinja2 import Environment, FileSystemLoader\n",
    "from jinja2.exceptions import UndefinedError\n",
    "from pathlib import Path\n"
   ]
  },
  {
   "cell_type": "code",
   "execution_count": 47,
   "metadata": {},
   "outputs": [
    {
     "data": {
      "text/plain": [
       "'/Users/harshul/website clone/harshul/test/groupwebsite_generator/notebooks'"
      ]
     },
     "execution_count": 47,
     "metadata": {},
     "output_type": "execute_result"
    }
   ],
   "source": [
    "os.getcwd()"
   ]
  },
  {
   "cell_type": "code",
   "execution_count": 48,
   "metadata": {},
   "outputs": [],
   "source": [
    "current_dir = Path(os.getcwd())\n",
    "\n",
    "MEMBERS_DIR_PATH = current_dir / '../../group-data/members/'\n",
    "WEBSITE_DATA_PATH = current_dir / '../../group-data/website_data/'\n",
    "CONTENT_DIR_PATH = current_dir / '../../group-data/website_data/content/'\n"
   ]
  },
  {
   "cell_type": "code",
   "execution_count": 49,
   "metadata": {},
   "outputs": [],
   "source": [
    "#Function for creating proper html file names\n",
    "def page_link(a):\n",
    "    if ' ' in a:\n",
    "        return a.replace(' ', '_')\n",
    "    else:\n",
    "        return a"
   ]
  },
  {
   "cell_type": "code",
   "execution_count": 50,
   "metadata": {},
   "outputs": [],
   "source": [
    "# For people page\n",
    "def extract_member_data(member_dir):\n",
    "    if member_dir.name.startswith('.'):\n",
    "        return None\n",
    "\n",
    "    member_record = json.load(open(member_dir / 'info.json'))\n",
    "    member_json_dir = member_dir / 'jsons'\n",
    "    \n",
    "    top_experience_role = \"\"\n",
    "    top_education_degree = \"\"\n",
    "    top_education_end_date = None\n",
    "  \n",
    "    if (member_experiences := (member_json_dir / 'experiences.json')).exists():\n",
    "        experiences = json.load(open(member_experiences))\n",
    "        if experiences:\n",
    "            top_experience_role = experiences[0].get('role', \"\")\n",
    "    \n",
    "    if (member_education := (member_json_dir / 'education.json')).exists():\n",
    "        education = json.load(open(member_education))\n",
    "        if education:\n",
    "            top_education_degree = education[0].get('degree', \"\")\n",
    "            top_education_end_date = education[0].get('end_date')\n",
    "    \n",
    "    if (member_projects := (member_json_dir / 'projects.json')).exists():\n",
    "        current_position = json.load(open(member_projects))[0]\n",
    "        member_record.update(current_position)\n",
    "    \n",
    "    if (member_links := (member_json_dir / 'social_links.json')).exists():\n",
    "        social_links = json.load(open(member_links))\n",
    "        member_record.update(social_links)\n",
    "\n",
    "    return member_record, top_experience_role, top_education_degree, top_education_end_date\n",
    "\n",
    "\n",
    "def assign_academic_role(top_experience_role, top_education_degree, top_education_end_date):\n",
    "    if 'Assistant Professor' in top_experience_role or 'Professor' in top_experience_role:\n",
    "        return 'Professor'\n",
    "    elif top_experience_role in ['Visiting Researcher', 'Postdoctoral Researcher']:\n",
    "        return 'Postdoctoral researcher'\n",
    "    elif top_education_degree == 'Bachelors':\n",
    "        return 'Graduate Student' if top_education_end_date is not None else 'Undergraduate Student'\n",
    "    elif top_education_degree in ['Masters', 'PhD']:\n",
    "        return 'Graduate Student'\n",
    "    else:\n",
    "        return 'Other'\n",
    "\n",
    "member_records = []\n",
    "\n",
    "for member_dir in MEMBERS_DIR_PATH.glob('*'):\n",
    "    extracted_data = extract_member_data(member_dir)\n",
    "    if extracted_data:\n",
    "        member_record, top_experience_role, top_education_degree, top_education_end_date = extracted_data\n",
    "        academic_role = assign_academic_role(top_experience_role, top_education_degree, top_education_end_date)\n",
    "\n",
    "\n",
    "        nick_name = member_record.get('nick_name', None)\n",
    "        second_name = member_record.get('last_name', \"\")\n",
    "        if not nick_name:\n",
    "            first_name = member_record.get('first_name', \"\")\n",
    "            last_name = member_record.get('last_name', \"\")\n",
    "            name = f\"{first_name} {last_name}\"\n",
    "        else:\n",
    "            name = f\"{nick_name} {second_name}\"\n",
    "\n",
    "\n",
    "        member_records.append({\"name\": name, \"academic_role\": academic_role})\n",
    "\n",
    "\n",
    "people_page_df = pd.DataFrame(member_records)"
   ]
  },
  {
   "cell_type": "code",
   "execution_count": 51,
   "metadata": {},
   "outputs": [
    {
     "data": {
      "text/plain": [
       "[{'name': 'Josh Shields', 'academic_role': 'Graduate Student'},\n",
       " {'name': 'Anirban  Dutta', 'academic_role': 'Postdoctoral researcher'},\n",
       " {'name': 'Erin Visser', 'academic_role': 'Undergraduate Student'},\n",
       " {'name': 'Vicente  Amado Olivo', 'academic_role': 'Graduate Student'},\n",
       " {'name': 'Yuki Matsumura', 'academic_role': 'Graduate Student'},\n",
       " {'name': 'Andrew Fullard', 'academic_role': 'Graduate Student'},\n",
       " {'name': 'Isaac Smith', 'academic_role': 'Graduate Student'},\n",
       " {'name': 'Hayden Monk', 'academic_role': 'Undergraduate Student'},\n",
       " {'name': 'Atharva Arya', 'academic_role': 'Graduate Student'},\n",
       " {'name': 'Tripp Dow', 'academic_role': 'Undergraduate Student'},\n",
       " {'name': 'Bea Lu', 'academic_role': 'Undergraduate Student'},\n",
       " {'name': 'Sona Chitchyan', 'academic_role': 'Other'},\n",
       " {'name': 'Iliomar Rodriguez-Ramos', 'academic_role': 'Undergraduate Student'},\n",
       " {'name': 'Jaladh Singhal', 'academic_role': 'Graduate Student'},\n",
       " {'name': \"Jack O'Brien\", 'academic_role': 'Graduate Student'},\n",
       " {'name': 'Template Person', 'academic_role': 'Other'},\n",
       " {'name': 'Cecelia Powers', 'academic_role': 'Undergraduate Student'},\n",
       " {'name': 'Kevin Cawley', 'academic_role': 'Graduate Student'},\n",
       " {'name': 'Sofia Biriouk', 'academic_role': 'Undergraduate Student'},\n",
       " {'name': 'Jing Lu', 'academic_role': 'Postdoctoral researcher'},\n",
       " {'name': 'Alexander Grunewald', 'academic_role': 'Graduate Student'},\n",
       " {'name': 'Harshul Gupta', 'academic_role': 'Graduate Student'},\n",
       " {'name': 'Wolfgang Kerzendorf', 'academic_role': 'Professor'}]"
      ]
     },
     "execution_count": 51,
     "metadata": {},
     "output_type": "execute_result"
    }
   ],
   "source": [
    "# To view dict structure.\n",
    "people_page_df.to_dict(orient='records')"
   ]
  },
  {
   "cell_type": "code",
   "execution_count": 52,
   "metadata": {},
   "outputs": [
    {
     "data": {
      "text/html": [
       "<div>\n",
       "<style scoped>\n",
       "    .dataframe tbody tr th:only-of-type {\n",
       "        vertical-align: middle;\n",
       "    }\n",
       "\n",
       "    .dataframe tbody tr th {\n",
       "        vertical-align: top;\n",
       "    }\n",
       "\n",
       "    .dataframe thead th {\n",
       "        text-align: right;\n",
       "    }\n",
       "</style>\n",
       "<table border=\"1\" class=\"dataframe\">\n",
       "  <thead>\n",
       "    <tr style=\"text-align: right;\">\n",
       "      <th></th>\n",
       "      <th>name</th>\n",
       "      <th>academic_role</th>\n",
       "    </tr>\n",
       "  </thead>\n",
       "  <tbody>\n",
       "    <tr>\n",
       "      <th>0</th>\n",
       "      <td>Josh Shields</td>\n",
       "      <td>Graduate Student</td>\n",
       "    </tr>\n",
       "    <tr>\n",
       "      <th>1</th>\n",
       "      <td>Anirban  Dutta</td>\n",
       "      <td>Postdoctoral researcher</td>\n",
       "    </tr>\n",
       "    <tr>\n",
       "      <th>2</th>\n",
       "      <td>Erin Visser</td>\n",
       "      <td>Undergraduate Student</td>\n",
       "    </tr>\n",
       "    <tr>\n",
       "      <th>3</th>\n",
       "      <td>Vicente  Amado Olivo</td>\n",
       "      <td>Graduate Student</td>\n",
       "    </tr>\n",
       "    <tr>\n",
       "      <th>4</th>\n",
       "      <td>Yuki Matsumura</td>\n",
       "      <td>Graduate Student</td>\n",
       "    </tr>\n",
       "    <tr>\n",
       "      <th>5</th>\n",
       "      <td>Andrew Fullard</td>\n",
       "      <td>Graduate Student</td>\n",
       "    </tr>\n",
       "    <tr>\n",
       "      <th>6</th>\n",
       "      <td>Isaac Smith</td>\n",
       "      <td>Graduate Student</td>\n",
       "    </tr>\n",
       "    <tr>\n",
       "      <th>7</th>\n",
       "      <td>Hayden Monk</td>\n",
       "      <td>Undergraduate Student</td>\n",
       "    </tr>\n",
       "    <tr>\n",
       "      <th>8</th>\n",
       "      <td>Atharva Arya</td>\n",
       "      <td>Graduate Student</td>\n",
       "    </tr>\n",
       "    <tr>\n",
       "      <th>9</th>\n",
       "      <td>Tripp Dow</td>\n",
       "      <td>Undergraduate Student</td>\n",
       "    </tr>\n",
       "    <tr>\n",
       "      <th>10</th>\n",
       "      <td>Bea Lu</td>\n",
       "      <td>Undergraduate Student</td>\n",
       "    </tr>\n",
       "    <tr>\n",
       "      <th>11</th>\n",
       "      <td>Sona Chitchyan</td>\n",
       "      <td>Other</td>\n",
       "    </tr>\n",
       "    <tr>\n",
       "      <th>12</th>\n",
       "      <td>Iliomar Rodriguez-Ramos</td>\n",
       "      <td>Undergraduate Student</td>\n",
       "    </tr>\n",
       "    <tr>\n",
       "      <th>13</th>\n",
       "      <td>Jaladh Singhal</td>\n",
       "      <td>Graduate Student</td>\n",
       "    </tr>\n",
       "    <tr>\n",
       "      <th>14</th>\n",
       "      <td>Jack O'Brien</td>\n",
       "      <td>Graduate Student</td>\n",
       "    </tr>\n",
       "    <tr>\n",
       "      <th>15</th>\n",
       "      <td>Template Person</td>\n",
       "      <td>Other</td>\n",
       "    </tr>\n",
       "    <tr>\n",
       "      <th>16</th>\n",
       "      <td>Cecelia Powers</td>\n",
       "      <td>Undergraduate Student</td>\n",
       "    </tr>\n",
       "    <tr>\n",
       "      <th>17</th>\n",
       "      <td>Kevin Cawley</td>\n",
       "      <td>Graduate Student</td>\n",
       "    </tr>\n",
       "    <tr>\n",
       "      <th>18</th>\n",
       "      <td>Sofia Biriouk</td>\n",
       "      <td>Undergraduate Student</td>\n",
       "    </tr>\n",
       "    <tr>\n",
       "      <th>19</th>\n",
       "      <td>Jing Lu</td>\n",
       "      <td>Postdoctoral researcher</td>\n",
       "    </tr>\n",
       "    <tr>\n",
       "      <th>20</th>\n",
       "      <td>Alexander Grunewald</td>\n",
       "      <td>Graduate Student</td>\n",
       "    </tr>\n",
       "    <tr>\n",
       "      <th>21</th>\n",
       "      <td>Harshul Gupta</td>\n",
       "      <td>Graduate Student</td>\n",
       "    </tr>\n",
       "    <tr>\n",
       "      <th>22</th>\n",
       "      <td>Wolfgang Kerzendorf</td>\n",
       "      <td>Professor</td>\n",
       "    </tr>\n",
       "  </tbody>\n",
       "</table>\n",
       "</div>"
      ],
      "text/plain": [
       "                       name            academic_role\n",
       "0              Josh Shields         Graduate Student\n",
       "1            Anirban  Dutta  Postdoctoral researcher\n",
       "2               Erin Visser    Undergraduate Student\n",
       "3      Vicente  Amado Olivo         Graduate Student\n",
       "4            Yuki Matsumura         Graduate Student\n",
       "5            Andrew Fullard         Graduate Student\n",
       "6               Isaac Smith         Graduate Student\n",
       "7               Hayden Monk    Undergraduate Student\n",
       "8              Atharva Arya         Graduate Student\n",
       "9                 Tripp Dow    Undergraduate Student\n",
       "10                   Bea Lu    Undergraduate Student\n",
       "11           Sona Chitchyan                    Other\n",
       "12  Iliomar Rodriguez-Ramos    Undergraduate Student\n",
       "13           Jaladh Singhal         Graduate Student\n",
       "14             Jack O'Brien         Graduate Student\n",
       "15          Template Person                    Other\n",
       "16           Cecelia Powers    Undergraduate Student\n",
       "17             Kevin Cawley         Graduate Student\n",
       "18            Sofia Biriouk    Undergraduate Student\n",
       "19                  Jing Lu  Postdoctoral researcher\n",
       "20      Alexander Grunewald         Graduate Student\n",
       "21            Harshul Gupta         Graduate Student\n",
       "22      Wolfgang Kerzendorf                Professor"
      ]
     },
     "execution_count": 52,
     "metadata": {},
     "output_type": "execute_result"
    }
   ],
   "source": [
    "# To view dataframe\n",
    "people_page_df\n"
   ]
  },
  {
   "cell_type": "code",
   "execution_count": 53,
   "metadata": {},
   "outputs": [],
   "source": [
    "\n",
    "\n",
    "\n",
    "website_data_files = {\n",
    "    'contact': 'contact.json',\n",
    "    'general': 'general.json',\n",
    "    'research': 'research.json',\n",
    "    'homepage': 'homepage.json',\n",
    "    'support': 'support.json'\n",
    "}\n",
    "\n",
    "\n",
    "contact, general, research, homepage, support = [{}] * 5\n",
    "\n",
    "\n",
    "for var_name, webpage_json in website_data_files.items():\n",
    "    file_path = WEBSITE_DATA_PATH / webpage_json\n",
    "    if file_path.exists():\n",
    "        with open(file_path, 'r') as f:\n",
    "            locals()[var_name] = json.load(f)\n"
   ]
  },
  {
   "cell_type": "code",
   "execution_count": 54,
   "metadata": {},
   "outputs": [],
   "source": [
    "contact_df = pd.DataFrame.from_records([contact])\n",
    "general_df = pd.DataFrame.from_records([general])\n",
    "homepage_df = pd.DataFrame.from_records([homepage])\n",
    "research_df = pd.DataFrame.from_records([research])\n",
    "support_df = pd.DataFrame.from_records([support])\n"
   ]
  },
  {
   "cell_type": "code",
   "execution_count": 55,
   "metadata": {},
   "outputs": [],
   "source": [
    "#Creating an instance of the Environment class that looks for templates. Page_link is set to the global variable so that it can be accessed by all templates\n",
    "environment = Environment(loader=FileSystemLoader('templates/'),extensions=['jinja2.ext.loopcontrols'])\n",
    "environment.globals['page_link'] = page_link\n"
   ]
  },
  {
   "cell_type": "code",
   "execution_count": 56,
   "metadata": {},
   "outputs": [],
   "source": [
    "general_dict = general_df.iloc[0].to_dict()\n",
    "homepage_dict = homepage_df.iloc[0].to_dict()\n"
   ]
  },
  {
   "attachments": {},
   "cell_type": "markdown",
   "metadata": {},
   "source": [
    "##### People Page"
   ]
  },
  {
   "cell_type": "code",
   "execution_count": 57,
   "metadata": {},
   "outputs": [],
   "source": [
    "templates_dir_path = current_dir / '../templates/'\n",
    "environment = Environment(loader=FileSystemLoader(str(templates_dir_path)))\n",
    "people_template = environment.get_template(\"people.html.j2\")\n"
   ]
  },
  {
   "cell_type": "code",
   "execution_count": 58,
   "metadata": {},
   "outputs": [],
   "source": [
    "people_template = environment.get_template(\"people.html.j2\")"
   ]
  },
  {
   "cell_type": "code",
   "execution_count": 59,
   "metadata": {},
   "outputs": [
    {
     "ename": "NameError",
     "evalue": "name 'result' is not defined",
     "output_type": "error",
     "traceback": [
      "\u001b[0;31m---------------------------------------------------------------------------\u001b[0m",
      "\u001b[0;31mNameError\u001b[0m                                 Traceback (most recent call last)",
      "\u001b[1;32m/Users/harshul/website clone/harshul/test/groupwebsite_generator/notebooks/mix.ipynb Cell 17\u001b[0m line \u001b[0;36m2\n\u001b[1;32m      <a href='vscode-notebook-cell:/Users/harshul/website%20clone/harshul/test/groupwebsite_generator/notebooks/mix.ipynb#Y240sZmlsZQ%3D%3D?line=0'>1</a>\u001b[0m environment\u001b[39m.\u001b[39mglobals[\u001b[39m'\u001b[39m\u001b[39mpage_link\u001b[39m\u001b[39m'\u001b[39m] \u001b[39m=\u001b[39m page_link\n\u001b[0;32m----> <a href='vscode-notebook-cell:/Users/harshul/website%20clone/harshul/test/groupwebsite_generator/notebooks/mix.ipynb#Y240sZmlsZQ%3D%3D?line=1'>2</a>\u001b[0m people_content \u001b[39m=\u001b[39m people_template\u001b[39m.\u001b[39mrender(general\u001b[39m=\u001b[39mgeneral_dict, present_members\u001b[39m=\u001b[39mpeople_page_df, result\u001b[39m=\u001b[39mresult)\n",
      "\u001b[0;31mNameError\u001b[0m: name 'result' is not defined"
     ]
    }
   ],
   "source": [
    "environment.globals['page_link'] = page_link\n",
    "people_content = people_template.render(general=general_dict, present_members=people_page_df, result=result)\n"
   ]
  },
  {
   "cell_type": "code",
   "execution_count": null,
   "metadata": {},
   "outputs": [],
   "source": [
    "with open(\"../../kerzendorf-group.github.io/People.html\", mode=\"w\", encoding=\"utf-8\") as people:\n",
    "    people.write(people_content)"
   ]
  }
 ],
 "metadata": {
  "kernelspec": {
   "display_name": "Python 3",
   "language": "python",
   "name": "python3"
  },
  "language_info": {
   "codemirror_mode": {
    "name": "ipython",
    "version": 3
   },
   "file_extension": ".py",
   "mimetype": "text/x-python",
   "name": "python",
   "nbconvert_exporter": "python",
   "pygments_lexer": "ipython3",
   "version": "3.8.2"
  },
  "orig_nbformat": 4
 },
 "nbformat": 4,
 "nbformat_minor": 2
}
