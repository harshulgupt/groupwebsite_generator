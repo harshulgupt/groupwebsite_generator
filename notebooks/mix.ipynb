{
 "cells": [
  {
   "attachments": {},
   "cell_type": "markdown",
   "metadata": {},
   "source": [
    "### This notebook consist of code for creating the html files for the website each time data is updated."
   ]
  },
  {
   "attachments": {},
   "cell_type": "markdown",
   "metadata": {},
   "source": [
    "##### Set-up"
   ]
  },
  {
   "cell_type": "code",
   "execution_count": null,
   "metadata": {},
   "outputs": [],
   "source": [
    "#Importing classes from the Jinja2 library to load and render templates.\n",
    "import json\n",
    "import os\n",
    "import pandas as pd\n",
    "from jinja2 import Environment, FileSystemLoader\n",
    "from jinja2.exceptions import UndefinedError\n",
    "from pathlib import Path\n"
   ]
  },
  {
   "cell_type": "code",
   "execution_count": null,
   "metadata": {},
   "outputs": [],
   "source": [
    "os.getcwd()"
   ]
  },
  {
   "cell_type": "code",
   "execution_count": null,
   "metadata": {},
   "outputs": [],
   "source": [
    "current_dir = Path(os.getcwd())\n",
    "\n",
    "MEMBERS_DIR_PATH = current_dir / '../../group-data/members/'\n",
    "WEBSITE_DATA_PATH = current_dir / '../../group-data/website_data/'\n",
    "CONTENT_DIR_PATH = current_dir / '../../group-data/website_data/content/'\n"
   ]
  },
  {
   "cell_type": "code",
   "execution_count": null,
   "metadata": {},
   "outputs": [],
   "source": [
    "#Function for creating proper html file names\n",
    "def page_link(a):\n",
    "    if ' ' in a:\n",
    "        return a.replace(' ', '_')\n",
    "    else:\n",
    "        return a"
   ]
  },
  {
   "cell_type": "code",
   "execution_count": null,
   "metadata": {},
   "outputs": [],
   "source": [
    "#Loading members\n",
    "member_records = []\n",
    "\n",
    "for member_dir in MEMBERS_DIR_PATH.glob('*'):\n",
    "   \n",
    "    if member_dir.name.startswith('.'):\n",
    "        continue\n",
    "    \n",
    "    member_record = json.load(open(member_dir / 'info.json'))\n",
    "    member_json_dir = member_dir / 'jsons'\n",
    "    experiences_education_df = []\n",
    "    if (member_experiences := (member_json_dir / 'experiences.json')).exists():\n",
    "        experiences = json.load(open(member_experiences))\n",
    "        #current_position = {f\"exp_{key}\": value for key, value in experiences[0].items()}\n",
    "        experiences_education_df += experiences\n",
    " \n",
    "        \n",
    "    if (member_education := (member_json_dir / 'education.json')).exists():\n",
    "        education = json.load(open(member_education))\n",
    "        experiences_education_df += education\n",
    "        #current_position = {f\"edu_{key}\": value for key, value in education[0].items()}\n",
    "       \n",
    "\n",
    "    if (member_projects := (member_json_dir / 'projects.json')).exists():\n",
    "        current_position = json.load(open(member_projects))[0]\n",
    "        member_record.update(current_position)\n",
    "    \n",
    "    if (member_links := (member_json_dir / 'social_links.json')).exists():\n",
    "        social_links = json.load(open(member_links))\n",
    "        member_record.update(social_links)\n",
    "    \n",
    "    member_records.append(member_record)\n",
    "    break\n",
    "\n",
    "people_page_df = pd.DataFrame.from_records(member_records)\n",
    "experiences_education_df = pd.DataFrame.from_records(experiences_education_df)\n"
   ]
  },
  {
   "cell_type": "code",
   "execution_count": null,
   "metadata": {},
   "outputs": [],
   "source": [
    "experiences_education_df.sort_values('start_date')"
   ]
  },
  {
   "cell_type": "code",
   "execution_count": null,
   "metadata": {},
   "outputs": [],
   "source": [
    "\"\"\"\n",
    "def process_education_and_experiences(df):\n",
    "    results = []\n",
    "\n",
    "    for index, row in df.iterrows():\n",
    "        degree_key = None\n",
    "        end_date_present = False\n",
    "        role = None\n",
    "\n",
    "\n",
    "        if 'degree' in row:\n",
    "            degree_key = row['degree']\n",
    "\n",
    "\n",
    "        if 'end_date' in row and pd.notna(row['end_date']):\n",
    "            end_date_present = True\n",
    "\n",
    " \n",
    "        if 'role' in row:\n",
    "            role = row['role']\n",
    "\n",
    "\n",
    "        if degree_key == 'PhD' or degree_key == 'Masters':\n",
    "            degree_type = 'Graduate'\n",
    "        elif degree_key == 'Bachelors':\n",
    "            degree_type = 'Undergraduate'\n",
    "        else:\n",
    "            degree_type = 'Unknown'\n",
    "\n",
    "\n",
    "        if end_date_present:\n",
    "            status = 'Alumni'\n",
    "        else:\n",
    "            status = 'Current Member'\n",
    "\n",
    "        result = {\n",
    "            'Degree Type': degree_type,\n",
    "            'Member Status': status,\n",
    "            'Role': role\n",
    "        }\n",
    "\n",
    "        results.append(result)\n",
    "\n",
    "    return pd.DataFrame(results)\n",
    "\n",
    "\n",
    "result_df = process_education_and_experiences(experiences_education_df)\n",
    "\n",
    "\n",
    "print(result_df)\n",
    "\"\"\""
   ]
  },
  {
   "cell_type": "code",
   "execution_count": null,
   "metadata": {},
   "outputs": [],
   "source": [
    "#Func to display current role\n",
    "\"\"\"\n",
    "def func_edu_ex_df(data_df):\n",
    "\n",
    "\n",
    "    experiences_df = data_df\n",
    "    is_member = experiences_df['end_date'].isna().any()\n",
    "    top_experience_role = experiences_df.iloc[0]['role']\n",
    "    \n",
    "    if is_member:\n",
    "        print(f\"{top_experience_role}: Current member\")\n",
    "    else:\n",
    "        print(f\"{top_experience_role} Alumni\")\n",
    "\n",
    "func_edu_ex_df(experiences_education_df)\n",
    "\"\"\""
   ]
  },
  {
   "cell_type": "code",
   "execution_count": null,
   "metadata": {},
   "outputs": [],
   "source": [
    "#Func to return category.\n",
    "def func_edu_ex_df(data_df):\n",
    "\n",
    "\n",
    "    top_education_degree = data_df.iloc[0]['degree']\n",
    "    \n",
    "\n",
    "    top_experience_role = data_df.iloc[0]['role']\n",
    "\n",
    "\n",
    "    if top_education_degree == 'Bachelors':\n",
    "        return 'Undergraduate'\n",
    "    elif top_education_degree in ['Masters', 'PhD']:\n",
    "        return 'Graduate Student'\n",
    "    \n",
    "\n",
    "    if top_experience_role in ['Visiting Researcher', 'Postdoctoral Researcher']:\n",
    "        return 'Postdoctoral researcher'\n",
    "    elif 'Assistant Professor' in top_experience_role or 'Professor' in top_experience_role:\n",
    "        return 'Professor'\n",
    "    \n",
    "\n",
    "    return 'somethin else' # for \n",
    "\n",
    "\n",
    "result = func_edu_ex_df(experiences_education_df)\n",
    "print(result)\n"
   ]
  },
  {
   "cell_type": "code",
   "execution_count": null,
   "metadata": {},
   "outputs": [],
   "source": [
    "people_page_df"
   ]
  },
  {
   "cell_type": "code",
   "execution_count": null,
   "metadata": {},
   "outputs": [],
   "source": [
    "# Creating pandas dataframes for Present Members and Alumni\n",
    "\"\"\"\n",
    "\n",
    "degree_condition = people_page_df['edu_degree'].str.strip().str.lower().isin(['bachelors', 'masters', 'phd', 'postdoc'])\n",
    "\n",
    "end_date_condition = (people_page_df['edu_end_date'].isna()) | (people_page_df['exp_end_date'].isna())\n",
    "\n",
    "\n",
    "people_page_df['edu_institution'] = people_page_df['edu_institution'].str.strip()\n",
    "people_page_df['exp_institution'] = people_page_df['exp_institution'].str.strip()\n",
    "\n",
    "institution_condition = (\n",
    "    (people_page_df['edu_institution'].str.lower() == 'michigan state university') |\n",
    "     (people_page_df['edu_institution'].str.lower() == 'msu')|\n",
    "    (people_page_df['exp_institution'].str.lower() == 'michigan state university') |\n",
    "        (people_page_df['exp_institution'].str.lower() == 'msu') \n",
    ")\n",
    "\n",
    "final_filter = degree_condition & end_date_condition & institution_condition\n",
    "\n",
    "\n",
    "people_present_df = people_page_df[final_filter]\n",
    "people_alumni_df = people_page_df[~final_filter]\n",
    "\"\"\""
   ]
  },
  {
   "cell_type": "code",
   "execution_count": null,
   "metadata": {},
   "outputs": [],
   "source": [
    "#people_alumni_df[['first_name','edu_degree','edu_institution', 'edu_end_date' , 'exp_institution','exp_end_date']]\n",
    "#people_alumni_df[['first_name','edu_degree','edu_institution', 'edu_end_date' , 'exp_institution','exp_end_date']]\n"
   ]
  },
  {
   "cell_type": "code",
   "execution_count": null,
   "metadata": {},
   "outputs": [],
   "source": [
    "\n",
    "\n",
    "\n",
    "website_data_files = {\n",
    "    'contact': 'contact.json',\n",
    "    'general': 'general.json',\n",
    "    'research': 'research.json',\n",
    "    'homepage': 'homepage.json',\n",
    "    'support': 'support.json'\n",
    "}\n",
    "\n",
    "\n",
    "contact, general, research, homepage, support = [{}] * 5\n",
    "\n",
    "\n",
    "for var_name, webpage_json in website_data_files.items():\n",
    "    file_path = WEBSITE_DATA_PATH / webpage_json\n",
    "    if file_path.exists():\n",
    "        with open(file_path, 'r') as f:\n",
    "            locals()[var_name] = json.load(f)\n"
   ]
  },
  {
   "cell_type": "code",
   "execution_count": null,
   "metadata": {},
   "outputs": [],
   "source": [
    "contact_df = pd.DataFrame.from_records([contact])\n",
    "general_df = pd.DataFrame.from_records([general])\n",
    "homepage_df = pd.DataFrame.from_records([homepage])\n",
    "research_df = pd.DataFrame.from_records([research])\n",
    "support_df = pd.DataFrame.from_records([support])\n"
   ]
  },
  {
   "cell_type": "code",
   "execution_count": null,
   "metadata": {},
   "outputs": [],
   "source": [
    "\n",
    "content_dfs = []  \n",
    "for json_file in CONTENT_DIR_PATH.glob('*.json'):\n",
    "    with open(json_file, 'r') as file:\n",
    "        data = json.load(file)\n",
    "        \n",
    "       \n",
    "        df = pd.json_normalize(data)\n",
    "        \n",
    "        content_dfs.append(df)\n",
    "\n",
    "\n",
    "content_df = pd.concat(content_dfs, ignore_index=True, sort=False)\n",
    "\n",
    "\n"
   ]
  },
  {
   "cell_type": "code",
   "execution_count": null,
   "metadata": {},
   "outputs": [],
   "source": [
    "#Creating an instance of the Environment class that looks for templates. Page_link is set to the global variable so that it can be accessed by all templates\n",
    "environment = Environment(loader=FileSystemLoader('templates/'),extensions=['jinja2.ext.loopcontrols'])\n",
    "environment.globals['page_link'] = page_link\n",
    "environment.globals['ContentData'] = content_df"
   ]
  },
  {
   "cell_type": "code",
   "execution_count": null,
   "metadata": {},
   "outputs": [],
   "source": [
    "research_content_unsorted = content_df[content_df['tags'].apply(lambda x: any('research' in tag for tag in x))]\n",
    "research_content = research_content_unsorted.groupby('category').apply(lambda x: x.sort_values('article_date', ascending=False)).reset_index(drop=True)"
   ]
  },
  {
   "cell_type": "code",
   "execution_count": null,
   "metadata": {},
   "outputs": [],
   "source": [
    "news_content_unsorted = content_df[content_df['tags'].apply(lambda x: any('news' in tag for tag in x))]\n",
    "news_content = news_content_unsorted.sort_values(by=\"article_date\", ascending=False)"
   ]
  },
  {
   "cell_type": "code",
   "execution_count": null,
   "metadata": {},
   "outputs": [],
   "source": [
    "latest_content_df = pd.DataFrame()\n",
    "\n",
    "for category in content_df.category.unique():\n",
    "    latest_data = pd.Series(content_df[content_df.category == category].iloc[0])\n",
    "    latest_content_df = latest_content_df._append(latest_data, ignore_index=True)\n",
    "\n",
    "latest_content_df['article_date'] = pd.to_datetime(latest_content_df['article_date'], format='%m-%d-%Y')\n",
    "latest_content_df = latest_content_df.sort_values(by='article_date', ascending=False)"
   ]
  },
  {
   "attachments": {},
   "cell_type": "markdown",
   "metadata": {},
   "source": [
    "##### Homepage"
   ]
  },
  {
   "cell_type": "code",
   "execution_count": null,
   "metadata": {},
   "outputs": [],
   "source": [
    "homepage_template = environment.get_template('homepage.html.j2')"
   ]
  },
  {
   "cell_type": "code",
   "execution_count": null,
   "metadata": {},
   "outputs": [],
   "source": [
    "general_dict = general_df.iloc[0].to_dict()\n",
    "homepage_dict = homepage_df.iloc[0].to_dict()\n"
   ]
  },
  {
   "cell_type": "code",
   "execution_count": null,
   "metadata": {},
   "outputs": [],
   "source": [
    "homepage_content = homepage_template.render(general=general_dict,\n",
    "                                            homepage=homepage_dict,\n",
    "                                            recent_content=latest_content_df.to_dict(orient='records'))\n"
   ]
  },
  {
   "cell_type": "code",
   "execution_count": null,
   "metadata": {},
   "outputs": [],
   "source": [
    "with open('../kerzendorf-group.github.io/index.html', mode='w', encoding='utf-8') as Homepage:\n",
    "    Homepage.write(homepage_content)"
   ]
  },
  {
   "attachments": {},
   "cell_type": "markdown",
   "metadata": {},
   "source": [
    "##### People Page"
   ]
  },
  {
   "cell_type": "code",
   "execution_count": null,
   "metadata": {},
   "outputs": [],
   "source": [
    "templates_dir_path = current_dir / '../templates/'\n",
    "environment = Environment(loader=FileSystemLoader(str(templates_dir_path)))\n",
    "people_template = environment.get_template(\"people.html.j2\")\n"
   ]
  },
  {
   "cell_type": "code",
   "execution_count": null,
   "metadata": {},
   "outputs": [],
   "source": [
    "people_template = environment.get_template(\"people.html.j2\")"
   ]
  },
  {
   "cell_type": "code",
   "execution_count": null,
   "metadata": {},
   "outputs": [],
   "source": [
    "environment.globals['page_link'] = page_link\n",
    "people_content = people_template.render(general=general_dict, present_members=people_page_df, result=result)\n"
   ]
  },
  {
   "cell_type": "code",
   "execution_count": null,
   "metadata": {},
   "outputs": [],
   "source": [
    "with open(\"../../kerzendorf-group.github.io/People.html\", mode=\"w\", encoding=\"utf-8\") as people:\n",
    "    people.write(people_content)"
   ]
  },
  {
   "attachments": {},
   "cell_type": "markdown",
   "metadata": {},
   "source": [
    "##### Individual People Page"
   ]
  },
  {
   "cell_type": "code",
   "execution_count": null,
   "metadata": {},
   "outputs": [],
   "source": [
    "ind_person_template = environment.get_template(\"individual_person.html.j2\")"
   ]
  },
  {
   "cell_type": "code",
   "execution_count": null,
   "metadata": {},
   "outputs": [],
   "source": [
    "for person in people_df['id']:\n",
    "            filename = f\"../kerzendorf-group.github.io/members/{ person }/{ person }.html\"\n",
    "            ind_person_content = ind_person_template.render(general=data[\"general\"], \n",
    "                                                            member_id=person, \n",
    "                                                            content=content_df.to_dict(orient='records'))\n",
    "            with open(filename, mode=\"w\", encoding=\"utf-8\") as page:\n",
    "                page.write(ind_person_content)"
   ]
  },
  {
   "attachments": {},
   "cell_type": "markdown",
   "metadata": {},
   "source": [
    "##### Research Page"
   ]
  },
  {
   "cell_type": "code",
   "execution_count": null,
   "metadata": {},
   "outputs": [],
   "source": [
    "research_template = environment.get_template(\"research.html.j2\")"
   ]
  },
  {
   "cell_type": "code",
   "execution_count": null,
   "metadata": {},
   "outputs": [],
   "source": [
    "main_page_research_content = research_template.render(general=data[\"general\"],\n",
    "                                            content=research_content)"
   ]
  },
  {
   "cell_type": "code",
   "execution_count": null,
   "metadata": {},
   "outputs": [],
   "source": [
    "with open(\"../kerzendorf-group.github.io/Research.html\", mode=\"w\", encoding=\"utf-8\") as research:\n",
    "        research.write(main_page_research_content)"
   ]
  },
  {
   "cell_type": "code",
   "execution_count": null,
   "metadata": {},
   "outputs": [],
   "source": [
    "sub_research_template = environment.get_template(\"sub_research_frontpage.html.j2\")"
   ]
  },
  {
   "cell_type": "code",
   "execution_count": null,
   "metadata": {},
   "outputs": [],
   "source": [
    "for category in content_df.loc[content_df.category != \"News\", \"category\"].unique():\n",
    "        sub_research_content = sub_research_template.render(general=data[\"general\"], \n",
    "                                                            research_general=data[\"research\"], \n",
    "                                                            content = research_content,\n",
    "                                                            category = category\n",
    "                                                            )\n",
    "        folder_path = f\"../kerzendorf-group.github.io/sub_research/{page_link(category.lower())}\"\n",
    "        os.makedirs(folder_path, exist_ok=True)\n",
    "        with open(f\"../kerzendorf-group.github.io/sub_research/{page_link(category.lower())}.html\", mode=\"w\", encoding=\"utf-8\") as sub_research:\n",
    "            sub_research.write(sub_research_content)"
   ]
  },
  {
   "attachments": {},
   "cell_type": "markdown",
   "metadata": {},
   "source": [
    "##### Individual Research Page"
   ]
  },
  {
   "cell_type": "code",
   "execution_count": null,
   "metadata": {},
   "outputs": [],
   "source": [
    "template_no_twitter = environment.get_template(\"research_page_no_twitter.html.j2\")"
   ]
  },
  {
   "cell_type": "code",
   "execution_count": null,
   "metadata": {},
   "outputs": [],
   "source": [
    "for ind_research_keys, ind_research_values in research_content.iterrows():\n",
    "    if \"news\" not in ind_research_values.category.lower():\n",
    "        ind_research_content = template_no_twitter.render(general=data[\"general\"], \n",
    "                                                          member_ids = people_df['id'],\n",
    "                                                          nonmem_ids = non_mem_df['id'],\n",
    "                                                          content = ind_research_values\n",
    "                                                          \n",
    "                                                            )\n",
    "        folder_path = f\"../kerzendorf-group.github.io/sub_research/{page_link(ind_research_values.category.lower())}\"\n",
    "        os.makedirs(folder_path, exist_ok=True)\n",
    "        with open(f\"{ folder_path }/{page_link(ind_research_values.article_id.lower())}.html\", mode=\"w\", encoding=\"utf-8\") as ind_research_page:\n",
    "            ind_research_page.write(ind_research_content)"
   ]
  },
  {
   "attachments": {},
   "cell_type": "markdown",
   "metadata": {},
   "source": [
    "##### News Page"
   ]
  },
  {
   "cell_type": "code",
   "execution_count": null,
   "metadata": {},
   "outputs": [],
   "source": [
    "news_content"
   ]
  },
  {
   "cell_type": "code",
   "execution_count": null,
   "metadata": {},
   "outputs": [],
   "source": [
    "news_template = environment.get_template(\"news.html.j2\")"
   ]
  },
  {
   "cell_type": "code",
   "execution_count": null,
   "metadata": {},
   "outputs": [],
   "source": [
    "news_page_content = news_template.render(general=data[\"general\"],\n",
    "                                         content=news_content,\n",
    "                                         member_ids=people_df['id'],\n",
    "                                         nonmem_ids = non_mem_df['id'],\n",
    "                                         category=\"News\")"
   ]
  },
  {
   "cell_type": "code",
   "execution_count": null,
   "metadata": {},
   "outputs": [],
   "source": [
    "with open(\"../kerzendorf-group.github.io/News.html\", mode=\"w\", encoding=\"utf-8\") as news:\n",
    "        news.write(news_page_content)"
   ]
  },
  {
   "attachments": {},
   "cell_type": "markdown",
   "metadata": {},
   "source": [
    "##### Individual News Pages"
   ]
  },
  {
   "cell_type": "code",
   "execution_count": null,
   "metadata": {},
   "outputs": [],
   "source": [
    "news_template_no_twitter = environment.get_template(\"news_page_no_twitter.html.j2\")\n",
    "#news_template_twitter = environment.get_template(\"news_page_twitter.html.j2\")"
   ]
  },
  {
   "cell_type": "code",
   "execution_count": null,
   "metadata": {},
   "outputs": [],
   "source": [
    "for ind_news_keys, ind_news_values in news_content.iterrows():\n",
    "        ind_news_content = news_template_no_twitter.render(general=data[\"general\"], \n",
    "                                                          member_ids = people_df['id'],\n",
    "                                                          nonmem_ids = non_mem_df['id'],\n",
    "                                                          content = ind_news_values\n",
    "                                                            )\n",
    "        folder_path = f\"../kerzendorf-group.github.io/news/\"\n",
    "        os.makedirs(folder_path, exist_ok=True)\n",
    "        with open(f\"{ folder_path }/{page_link(ind_news_values.article_id.lower())}.html\", mode=\"w\", encoding=\"utf-8\") as ind_news_page:\n",
    "            ind_news_page.write(ind_news_content)"
   ]
  },
  {
   "attachments": {},
   "cell_type": "markdown",
   "metadata": {},
   "source": [
    "##### Support Page"
   ]
  },
  {
   "cell_type": "code",
   "execution_count": null,
   "metadata": {},
   "outputs": [],
   "source": [
    "support_template = environment.get_template('support.html.j2')"
   ]
  },
  {
   "cell_type": "code",
   "execution_count": null,
   "metadata": {},
   "outputs": [],
   "source": [
    "support_content = support_template.render(general=data[\"general\"], support=data[\"support\"])"
   ]
  },
  {
   "cell_type": "code",
   "execution_count": null,
   "metadata": {},
   "outputs": [],
   "source": [
    "with open('../kerzendorf-group.github.io/Support.html', mode='w', encoding='utf-8') as support:\n",
    "    support.write(support_content)"
   ]
  },
  {
   "attachments": {},
   "cell_type": "markdown",
   "metadata": {},
   "source": [
    "##### Contact"
   ]
  },
  {
   "cell_type": "code",
   "execution_count": null,
   "metadata": {},
   "outputs": [],
   "source": [
    "contact_template = environment.get_template('contact.html.j2')"
   ]
  },
  {
   "cell_type": "code",
   "execution_count": null,
   "metadata": {},
   "outputs": [],
   "source": [
    "contact_content = contact_template.render(general=data[\"general\"], contact=data[\"contact\"])"
   ]
  },
  {
   "cell_type": "code",
   "execution_count": null,
   "metadata": {},
   "outputs": [],
   "source": [
    "with open('../kerzendorf-group.github.io/Contact.html', mode='w', encoding='utf-8') as contact:\n",
    "    contact.write(contact_content)"
   ]
  }
 ],
 "metadata": {
  "kernelspec": {
   "display_name": "Python 3",
   "language": "python",
   "name": "python3"
  },
  "language_info": {
   "codemirror_mode": {
    "name": "ipython",
    "version": 3
   },
   "file_extension": ".py",
   "mimetype": "text/x-python",
   "name": "python",
   "nbconvert_exporter": "python",
   "pygments_lexer": "ipython3",
   "version": "3.8.2"
  },
  "orig_nbformat": 4
 },
 "nbformat": 4,
 "nbformat_minor": 2
}
