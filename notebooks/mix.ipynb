{
 "cells": [
  {
   "attachments": {},
   "cell_type": "markdown",
   "metadata": {},
   "source": [
    "### This notebook consist of code for creating the html files for the website each time data is updated."
   ]
  },
  {
   "attachments": {},
   "cell_type": "markdown",
   "metadata": {},
   "source": [
    "##### Set-up"
   ]
  },
  {
   "cell_type": "code",
   "execution_count": 294,
   "metadata": {},
   "outputs": [],
   "source": [
    "#Importing classes from the Jinja2 library to load and render templates.\n",
    "import json\n",
    "import os\n",
    "import pandas as pd\n",
    "from jinja2 import Environment, FileSystemLoader\n",
    "from jinja2.exceptions import UndefinedError\n",
    "from pathlib import Path\n"
   ]
  },
  {
   "cell_type": "code",
   "execution_count": 295,
   "metadata": {},
   "outputs": [
    {
     "data": {
      "text/plain": [
       "'/Users/harshul/website clone/harshul/test/groupwebsite_generator/notebooks'"
      ]
     },
     "execution_count": 295,
     "metadata": {},
     "output_type": "execute_result"
    }
   ],
   "source": [
    "os.getcwd()"
   ]
  },
  {
   "cell_type": "code",
   "execution_count": 296,
   "metadata": {},
   "outputs": [],
   "source": [
    "current_dir = Path(os.getcwd())\n",
    "\n",
    "MEMBERS_DIR_PATH = current_dir / '../../group-data/members/'\n",
    "WEBSITE_DATA_PATH = current_dir / '../../group-data/website_data/'\n",
    "CONTENT_DIR_PATH = current_dir / '../../group-data/website_data/content/'\n"
   ]
  },
  {
   "cell_type": "code",
   "execution_count": 297,
   "metadata": {},
   "outputs": [],
   "source": [
    "#Function for creating proper html file names\n",
    "def page_link(a):\n",
    "    if ' ' in a:\n",
    "        return a.replace(' ', '_')\n",
    "    else:\n",
    "        return a"
   ]
  },
  {
   "cell_type": "code",
   "execution_count": 298,
   "metadata": {},
   "outputs": [],
   "source": [
    "#Loading members\n",
    "member_records = []\n",
    "experiences_education_df = []\n",
    "for member_dir in MEMBERS_DIR_PATH.glob('*'):\n",
    "   \n",
    "    if member_dir.name.startswith('.'):\n",
    "        continue\n",
    "    \n",
    "    member_record = json.load(open(member_dir / 'info.json'))\n",
    "    member_json_dir = member_dir / 'jsons'\n",
    "  \n",
    "    if (member_experiences := (member_json_dir / 'experiences.json')).exists():\n",
    "        experiences = json.load(open(member_experiences))\n",
    "        #current_position = {f\"exp_{key}\": value for key, value in experiences[0].items()}\n",
    "        experiences_education_df += experiences\n",
    " \n",
    "        \n",
    "    if (member_education := (member_json_dir / 'education.json')).exists():\n",
    "        education = json.load(open(member_education))\n",
    "        experiences_education_df += education\n",
    "        #current_position = {f\"edu_{key}\": value for key, value in education[0].items()}\n",
    "       \n",
    "\n",
    "    if (member_projects := (member_json_dir / 'projects.json')).exists():\n",
    "        current_position = json.load(open(member_projects))[0]\n",
    "        member_record.update(current_position)\n",
    "    \n",
    "    if (member_links := (member_json_dir / 'social_links.json')).exists():\n",
    "        social_links = json.load(open(member_links))\n",
    "        member_record.update(social_links)\n",
    "    \n",
    "    member_records.append(member_record)\n",
    "\n",
    "\n",
    "people_page_df = pd.DataFrame.from_records(member_records)\n",
    "experiences_education_df = pd.DataFrame.from_records(experiences_education_df)\n"
   ]
  },
  {
   "cell_type": "code",
   "execution_count": 299,
   "metadata": {},
   "outputs": [
    {
     "data": {
      "text/html": [
       "<div>\n",
       "<style scoped>\n",
       "    .dataframe tbody tr th:only-of-type {\n",
       "        vertical-align: middle;\n",
       "    }\n",
       "\n",
       "    .dataframe tbody tr th {\n",
       "        vertical-align: top;\n",
       "    }\n",
       "\n",
       "    .dataframe thead th {\n",
       "        text-align: right;\n",
       "    }\n",
       "</style>\n",
       "<table border=\"1\" class=\"dataframe\">\n",
       "  <thead>\n",
       "    <tr style=\"text-align: right;\">\n",
       "      <th></th>\n",
       "      <th>first_name</th>\n",
       "      <th>last_name</th>\n",
       "      <th>nick_name</th>\n",
       "      <th>image_path</th>\n",
       "      <th>cover_image_path</th>\n",
       "      <th>project_title</th>\n",
       "      <th>website</th>\n",
       "      <th>github_handle</th>\n",
       "      <th>twitter_handle</th>\n",
       "      <th>linkedin_handle</th>\n",
       "      <th>email</th>\n",
       "      <th>orcid</th>\n",
       "      <th>academic_role</th>\n",
       "    </tr>\n",
       "  </thead>\n",
       "  <tbody>\n",
       "    <tr>\n",
       "      <th>0</th>\n",
       "      <td>Joshua</td>\n",
       "      <td>Shields</td>\n",
       "      <td>Josh</td>\n",
       "      <td>media/images/josh_photo.jpg</td>\n",
       "      <td>media/images/cover.jpg</td>\n",
       "      <td>Surviving Companions Of Supernovae And Stellar...</td>\n",
       "      <td>https://jvshields.github.io/</td>\n",
       "      <td>jvshields</td>\n",
       "      <td></td>\n",
       "      <td></td>\n",
       "      <td>shield90@msu.edu</td>\n",
       "      <td>0000-0002-1560-5286</td>\n",
       "      <td>Other</td>\n",
       "    </tr>\n",
       "    <tr>\n",
       "      <th>1</th>\n",
       "      <td>Anirban</td>\n",
       "      <td>Dutta</td>\n",
       "      <td></td>\n",
       "      <td>media/images/anirban_dutta.jpg</td>\n",
       "      <td>media/images/cover.jpg</td>\n",
       "      <td>Non-LTE modeling of supernova spectra</td>\n",
       "      <td>https://sites.google.com/view/anirbaniamdutta</td>\n",
       "      <td>Knights-Templars</td>\n",
       "      <td>Anirban29Dutta</td>\n",
       "      <td>anirban-dutta-6a0377238</td>\n",
       "      <td>anirbaniamdutta@gmail.com</td>\n",
       "      <td>0000-0002-7708-3831</td>\n",
       "      <td>Graduate Student</td>\n",
       "    </tr>\n",
       "    <tr>\n",
       "      <th>2</th>\n",
       "      <td>Erin</td>\n",
       "      <td>Visser</td>\n",
       "      <td></td>\n",
       "      <td>media/images/erin_visser_website_pic.jpg</td>\n",
       "      <td>media/images/cover.jpg</td>\n",
       "      <td>NaN</td>\n",
       "      <td></td>\n",
       "      <td>erinvisser</td>\n",
       "      <td></td>\n",
       "      <td></td>\n",
       "      <td>visserer@msu.edu</td>\n",
       "      <td>0009-0001-8470-275X</td>\n",
       "      <td>Undergraduate</td>\n",
       "    </tr>\n",
       "    <tr>\n",
       "      <th>3</th>\n",
       "      <td>Vicente</td>\n",
       "      <td>Amado Olivo</td>\n",
       "      <td></td>\n",
       "      <td>media/images/ESD_headshot.jpg</td>\n",
       "      <td>media/images/cover.jpg</td>\n",
       "      <td>Development Of A Global Registry For Peer Revi...</td>\n",
       "      <td></td>\n",
       "      <td></td>\n",
       "      <td>vamadolivo</td>\n",
       "      <td></td>\n",
       "      <td>amadovic@msu.edu</td>\n",
       "      <td>0000-0003-2248-0941</td>\n",
       "      <td>Postdoctoral researcher</td>\n",
       "    </tr>\n",
       "    <tr>\n",
       "      <th>4</th>\n",
       "      <td>Yuki</td>\n",
       "      <td>Matsumura</td>\n",
       "      <td></td>\n",
       "      <td>media/images/yuki_face.png</td>\n",
       "      <td>media/images/cover.jpg</td>\n",
       "      <td>Type IIP Supernovae As Cosmological Distance P...</td>\n",
       "      <td></td>\n",
       "      <td>ymatsumu</td>\n",
       "      <td></td>\n",
       "      <td></td>\n",
       "      <td>matsumurayuki725@gmail.com</td>\n",
       "      <td></td>\n",
       "      <td>Graduate Student</td>\n",
       "    </tr>\n",
       "    <tr>\n",
       "      <th>5</th>\n",
       "      <td>Andrew</td>\n",
       "      <td>Fullard</td>\n",
       "      <td></td>\n",
       "      <td>media/images/me.jpg</td>\n",
       "      <td>media/images/cover.jpg</td>\n",
       "      <td>Inferring explosion conditions from late-time ...</td>\n",
       "      <td>NaN</td>\n",
       "      <td>andrewfullard</td>\n",
       "      <td>astrofullard</td>\n",
       "      <td>andrew-fullard-a9a487168/</td>\n",
       "      <td>fullarda@msu.edu</td>\n",
       "      <td>0000-0001-7343-1678</td>\n",
       "      <td>Graduate Student</td>\n",
       "    </tr>\n",
       "    <tr>\n",
       "      <th>6</th>\n",
       "      <td>Isaac</td>\n",
       "      <td>Smith</td>\n",
       "      <td></td>\n",
       "      <td>media/images/isaac_image.jpg</td>\n",
       "      <td>media/images/cover.jpg</td>\n",
       "      <td>NaN</td>\n",
       "      <td></td>\n",
       "      <td>smithis7</td>\n",
       "      <td></td>\n",
       "      <td></td>\n",
       "      <td>smithis7@msu.edu</td>\n",
       "      <td>0000-0003-0440-3918</td>\n",
       "      <td>Undergraduate</td>\n",
       "    </tr>\n",
       "    <tr>\n",
       "      <th>7</th>\n",
       "      <td>Hayden</td>\n",
       "      <td>Monk</td>\n",
       "      <td></td>\n",
       "      <td>media/images/hayden.jpg</td>\n",
       "      <td>media/images/cover.jpg</td>\n",
       "      <td>Surviving Companion Search In SNR-0509</td>\n",
       "      <td>NaN</td>\n",
       "      <td>NaN</td>\n",
       "      <td>NaN</td>\n",
       "      <td>NaN</td>\n",
       "      <td>NaN</td>\n",
       "      <td>NaN</td>\n",
       "      <td>Graduate Student</td>\n",
       "    </tr>\n",
       "    <tr>\n",
       "      <th>8</th>\n",
       "      <td>Atharva</td>\n",
       "      <td>Arya</td>\n",
       "      <td></td>\n",
       "      <td>media/images/atharva.jpg</td>\n",
       "      <td>media/images/cover.jpg</td>\n",
       "      <td>Mitigating open science sustainability issues</td>\n",
       "      <td>https://www.atharvaarya.tech/</td>\n",
       "      <td>atharva-2001</td>\n",
       "      <td>2001_atharva</td>\n",
       "      <td>atharva-arya</td>\n",
       "      <td>aryaatharva18@gmail.com</td>\n",
       "      <td></td>\n",
       "      <td>Undergraduate</td>\n",
       "    </tr>\n",
       "    <tr>\n",
       "      <th>9</th>\n",
       "      <td>Richard</td>\n",
       "      <td>Dow</td>\n",
       "      <td>Tripp</td>\n",
       "      <td>media/images/richard.jpg</td>\n",
       "      <td>media/images/cover.jpg</td>\n",
       "      <td>Identifying Worldwide Astrophysicists From Sci...</td>\n",
       "      <td></td>\n",
       "      <td>prettytrippy</td>\n",
       "      <td></td>\n",
       "      <td></td>\n",
       "      <td>dow00019@umn.edu</td>\n",
       "      <td>0009-0007-2842-1690</td>\n",
       "      <td>Graduate Student</td>\n",
       "    </tr>\n",
       "    <tr>\n",
       "      <th>10</th>\n",
       "      <td>Bea</td>\n",
       "      <td>Lu</td>\n",
       "      <td></td>\n",
       "      <td>media/images/bea_lu.jpg</td>\n",
       "      <td>media/images/cover.jpg</td>\n",
       "      <td>Natural Language Processing</td>\n",
       "      <td></td>\n",
       "      <td>bumblebealu</td>\n",
       "      <td></td>\n",
       "      <td></td>\n",
       "      <td>lubangji@msu.edu</td>\n",
       "      <td>0000-0002-3393-2424</td>\n",
       "      <td>Undergraduate</td>\n",
       "    </tr>\n",
       "    <tr>\n",
       "      <th>11</th>\n",
       "      <td>Sona</td>\n",
       "      <td>Chitchyan</td>\n",
       "      <td></td>\n",
       "      <td>media/images/sona_photo.jpg</td>\n",
       "      <td>media/images/cover.jpg</td>\n",
       "      <td>Enhanced Type IIP Cosmology With Statistics An...</td>\n",
       "      <td></td>\n",
       "      <td></td>\n",
       "      <td></td>\n",
       "      <td></td>\n",
       "      <td></td>\n",
       "      <td></td>\n",
       "      <td>Other</td>\n",
       "    </tr>\n",
       "    <tr>\n",
       "      <th>12</th>\n",
       "      <td>Iliomar</td>\n",
       "      <td>Rodriguez-Ramos</td>\n",
       "      <td></td>\n",
       "      <td>media/images/iliomar_ft.jpg</td>\n",
       "      <td>media/images/cover.jpg</td>\n",
       "      <td>Exploring The Complex Structures Of Ancient Stars</td>\n",
       "      <td>NaN</td>\n",
       "      <td>NaN</td>\n",
       "      <td>NaN</td>\n",
       "      <td>NaN</td>\n",
       "      <td>NaN</td>\n",
       "      <td>NaN</td>\n",
       "      <td>Graduate Student</td>\n",
       "    </tr>\n",
       "    <tr>\n",
       "      <th>13</th>\n",
       "      <td>Jaladh</td>\n",
       "      <td>Singhal</td>\n",
       "      <td></td>\n",
       "      <td>media/images/jaladh.jpg</td>\n",
       "      <td>media/images/cover.jpg</td>\n",
       "      <td>Space Tools</td>\n",
       "      <td>NaN</td>\n",
       "      <td>NaN</td>\n",
       "      <td>NaN</td>\n",
       "      <td>NaN</td>\n",
       "      <td>NaN</td>\n",
       "      <td>NaN</td>\n",
       "      <td>Graduate Student</td>\n",
       "    </tr>\n",
       "    <tr>\n",
       "      <th>14</th>\n",
       "      <td>Jack</td>\n",
       "      <td>O'Brien</td>\n",
       "      <td>Jack</td>\n",
       "      <td>media/images/jack.jpg</td>\n",
       "      <td>media/images/cover.jpg</td>\n",
       "      <td>NaN</td>\n",
       "      <td>https://jackobrien.info/</td>\n",
       "      <td>Rodot-</td>\n",
       "      <td></td>\n",
       "      <td></td>\n",
       "      <td>jobrien585@gmail.com</td>\n",
       "      <td>0000-0003-3615-9593</td>\n",
       "      <td>Undergraduate</td>\n",
       "    </tr>\n",
       "    <tr>\n",
       "      <th>15</th>\n",
       "      <td>Template</td>\n",
       "      <td>Person</td>\n",
       "      <td></td>\n",
       "      <td>media/images/newton.jpg</td>\n",
       "      <td>media/images/cover.jpg</td>\n",
       "      <td></td>\n",
       "      <td></td>\n",
       "      <td></td>\n",
       "      <td></td>\n",
       "      <td></td>\n",
       "      <td></td>\n",
       "      <td></td>\n",
       "      <td>Undergraduate</td>\n",
       "    </tr>\n",
       "    <tr>\n",
       "      <th>16</th>\n",
       "      <td>Cecelia</td>\n",
       "      <td>Powers</td>\n",
       "      <td></td>\n",
       "      <td>../../website_files/images/me.jpeg</td>\n",
       "      <td>media/images/cover.jpg</td>\n",
       "      <td>NaN</td>\n",
       "      <td>NaN</td>\n",
       "      <td>NaN</td>\n",
       "      <td>NaN</td>\n",
       "      <td>NaN</td>\n",
       "      <td>NaN</td>\n",
       "      <td>NaN</td>\n",
       "      <td>Undergraduate</td>\n",
       "    </tr>\n",
       "    <tr>\n",
       "      <th>17</th>\n",
       "      <td>Kevin</td>\n",
       "      <td>Cawley</td>\n",
       "      <td></td>\n",
       "      <td>media/images/KevinCawleyFall2022.jpg</td>\n",
       "      <td>media/images/cover.jpg</td>\n",
       "      <td>Tardis Cuda</td>\n",
       "      <td></td>\n",
       "      <td>KevinCawley</td>\n",
       "      <td></td>\n",
       "      <td></td>\n",
       "      <td>cawleyke@msu.edu</td>\n",
       "      <td></td>\n",
       "      <td>Other</td>\n",
       "    </tr>\n",
       "    <tr>\n",
       "      <th>18</th>\n",
       "      <td>Sofia</td>\n",
       "      <td>Biriouk</td>\n",
       "      <td></td>\n",
       "      <td>media/images/sofia.jpg</td>\n",
       "      <td>media/images/cover.jpg</td>\n",
       "      <td>SNR0509-675 Center Investigation</td>\n",
       "      <td>https://sofiabiriouk.github.io</td>\n",
       "      <td>sofiabiriouk</td>\n",
       "      <td></td>\n",
       "      <td>sofia-biriouk-595091199</td>\n",
       "      <td>biriouks@msu.edu</td>\n",
       "      <td>0009-0004-2531-7423</td>\n",
       "      <td>Other</td>\n",
       "    </tr>\n",
       "    <tr>\n",
       "      <th>19</th>\n",
       "      <td>Jing</td>\n",
       "      <td>Lu</td>\n",
       "      <td></td>\n",
       "      <td>media/images/jing.jpg</td>\n",
       "      <td>media/images/cover.jpg</td>\n",
       "      <td>Explore the hidden Helium in Type Ic Supernovae</td>\n",
       "      <td></td>\n",
       "      <td>DeerWhale</td>\n",
       "      <td></td>\n",
       "      <td>jing-lu-bb89211bb</td>\n",
       "      <td>lujingeve158@gmail.com</td>\n",
       "      <td>0000-0002-3900-1452</td>\n",
       "      <td>Undergraduate</td>\n",
       "    </tr>\n",
       "    <tr>\n",
       "      <th>20</th>\n",
       "      <td>Alexander</td>\n",
       "      <td>Grunewald</td>\n",
       "      <td></td>\n",
       "      <td>media/images/alexander.jpg</td>\n",
       "      <td>media/images/cover.jpg</td>\n",
       "      <td>Emulator Project</td>\n",
       "      <td></td>\n",
       "      <td>AlexanderGrunewald</td>\n",
       "      <td></td>\n",
       "      <td>alexander-grunewald-8007a51b5</td>\n",
       "      <td>grunew14@msu.edu</td>\n",
       "      <td></td>\n",
       "      <td>Undergraduate</td>\n",
       "    </tr>\n",
       "    <tr>\n",
       "      <th>21</th>\n",
       "      <td>Harshul</td>\n",
       "      <td>Gupta</td>\n",
       "      <td></td>\n",
       "      <td>media/images/harshul.jpeg</td>\n",
       "      <td>media/images/cover.jpg</td>\n",
       "      <td>Website Development</td>\n",
       "      <td>https://www.harshulgupta.in</td>\n",
       "      <td>harshulgupt</td>\n",
       "      <td>harshulgupt</td>\n",
       "      <td>harshulgupt</td>\n",
       "      <td>harshulgupt@gmail.com</td>\n",
       "      <td></td>\n",
       "      <td>Undergraduate</td>\n",
       "    </tr>\n",
       "    <tr>\n",
       "      <th>22</th>\n",
       "      <td>Wolfgang</td>\n",
       "      <td>Kerzendorf</td>\n",
       "      <td></td>\n",
       "      <td>media/images/wolfgang.jpg</td>\n",
       "      <td>media/images/cover.jpg</td>\n",
       "      <td>Supernovae &amp; Computational Metaresearch</td>\n",
       "      <td>https://wolfgangkerzendorf.com</td>\n",
       "      <td>wkerzendorf</td>\n",
       "      <td>wkerzendorf</td>\n",
       "      <td>wolfgang-kerzendorf-598a0466</td>\n",
       "      <td>wkerzend@msu.edu</td>\n",
       "      <td>0000-0002-0479-7235</td>\n",
       "      <td>Undergraduate</td>\n",
       "    </tr>\n",
       "  </tbody>\n",
       "</table>\n",
       "</div>"
      ],
      "text/plain": [
       "   first_name        last_name nick_name  \\\n",
       "0      Joshua          Shields      Josh   \n",
       "1    Anirban             Dutta             \n",
       "2        Erin           Visser             \n",
       "3     Vicente      Amado Olivo             \n",
       "4        Yuki        Matsumura             \n",
       "5      Andrew          Fullard             \n",
       "6       Isaac            Smith             \n",
       "7      Hayden             Monk             \n",
       "8     Atharva             Arya             \n",
       "9     Richard              Dow     Tripp   \n",
       "10        Bea               Lu             \n",
       "11       Sona        Chitchyan             \n",
       "12    Iliomar  Rodriguez-Ramos             \n",
       "13     Jaladh          Singhal             \n",
       "14       Jack          O'Brien      Jack   \n",
       "15   Template           Person             \n",
       "16    Cecelia           Powers             \n",
       "17      Kevin           Cawley             \n",
       "18      Sofia          Biriouk             \n",
       "19       Jing               Lu             \n",
       "20  Alexander        Grunewald             \n",
       "21    Harshul            Gupta             \n",
       "22   Wolfgang       Kerzendorf             \n",
       "\n",
       "                                  image_path        cover_image_path  \\\n",
       "0                media/images/josh_photo.jpg  media/images/cover.jpg   \n",
       "1             media/images/anirban_dutta.jpg  media/images/cover.jpg   \n",
       "2   media/images/erin_visser_website_pic.jpg  media/images/cover.jpg   \n",
       "3              media/images/ESD_headshot.jpg  media/images/cover.jpg   \n",
       "4                 media/images/yuki_face.png  media/images/cover.jpg   \n",
       "5                        media/images/me.jpg  media/images/cover.jpg   \n",
       "6               media/images/isaac_image.jpg  media/images/cover.jpg   \n",
       "7                    media/images/hayden.jpg  media/images/cover.jpg   \n",
       "8                   media/images/atharva.jpg  media/images/cover.jpg   \n",
       "9                   media/images/richard.jpg  media/images/cover.jpg   \n",
       "10                   media/images/bea_lu.jpg  media/images/cover.jpg   \n",
       "11               media/images/sona_photo.jpg  media/images/cover.jpg   \n",
       "12               media/images/iliomar_ft.jpg  media/images/cover.jpg   \n",
       "13                   media/images/jaladh.jpg  media/images/cover.jpg   \n",
       "14                     media/images/jack.jpg  media/images/cover.jpg   \n",
       "15                   media/images/newton.jpg  media/images/cover.jpg   \n",
       "16        ../../website_files/images/me.jpeg  media/images/cover.jpg   \n",
       "17      media/images/KevinCawleyFall2022.jpg  media/images/cover.jpg   \n",
       "18                    media/images/sofia.jpg  media/images/cover.jpg   \n",
       "19                     media/images/jing.jpg  media/images/cover.jpg   \n",
       "20                media/images/alexander.jpg  media/images/cover.jpg   \n",
       "21                 media/images/harshul.jpeg  media/images/cover.jpg   \n",
       "22                 media/images/wolfgang.jpg  media/images/cover.jpg   \n",
       "\n",
       "                                        project_title  \\\n",
       "0   Surviving Companions Of Supernovae And Stellar...   \n",
       "1               Non-LTE modeling of supernova spectra   \n",
       "2                                                 NaN   \n",
       "3   Development Of A Global Registry For Peer Revi...   \n",
       "4   Type IIP Supernovae As Cosmological Distance P...   \n",
       "5   Inferring explosion conditions from late-time ...   \n",
       "6                                                 NaN   \n",
       "7              Surviving Companion Search In SNR-0509   \n",
       "8       Mitigating open science sustainability issues   \n",
       "9   Identifying Worldwide Astrophysicists From Sci...   \n",
       "10                        Natural Language Processing   \n",
       "11  Enhanced Type IIP Cosmology With Statistics An...   \n",
       "12  Exploring The Complex Structures Of Ancient Stars   \n",
       "13                                        Space Tools   \n",
       "14                                                NaN   \n",
       "15                                                      \n",
       "16                                                NaN   \n",
       "17                                        Tardis Cuda   \n",
       "18                   SNR0509-675 Center Investigation   \n",
       "19    Explore the hidden Helium in Type Ic Supernovae   \n",
       "20                                   Emulator Project   \n",
       "21                                Website Development   \n",
       "22            Supernovae & Computational Metaresearch   \n",
       "\n",
       "                                          website       github_handle  \\\n",
       "0                    https://jvshields.github.io/           jvshields   \n",
       "1   https://sites.google.com/view/anirbaniamdutta    Knights-Templars   \n",
       "2                                                          erinvisser   \n",
       "3                                                                       \n",
       "4                                                            ymatsumu   \n",
       "5                                             NaN       andrewfullard   \n",
       "6                                                            smithis7   \n",
       "7                                             NaN                 NaN   \n",
       "8                   https://www.atharvaarya.tech/        atharva-2001   \n",
       "9                                                        prettytrippy   \n",
       "10                                                        bumblebealu   \n",
       "11                                                                      \n",
       "12                                            NaN                 NaN   \n",
       "13                                            NaN                 NaN   \n",
       "14                       https://jackobrien.info/              Rodot-   \n",
       "15                                                                      \n",
       "16                                            NaN                 NaN   \n",
       "17                                                        KevinCawley   \n",
       "18                 https://sofiabiriouk.github.io        sofiabiriouk   \n",
       "19                                                          DeerWhale   \n",
       "20                                                 AlexanderGrunewald   \n",
       "21                    https://www.harshulgupta.in         harshulgupt   \n",
       "22                 https://wolfgangkerzendorf.com         wkerzendorf   \n",
       "\n",
       "    twitter_handle                linkedin_handle                       email  \\\n",
       "0                                                            shield90@msu.edu   \n",
       "1   Anirban29Dutta        anirban-dutta-6a0377238   anirbaniamdutta@gmail.com   \n",
       "2                                                            visserer@msu.edu   \n",
       "3       vamadolivo                                           amadovic@msu.edu   \n",
       "4                                                  matsumurayuki725@gmail.com   \n",
       "5     astrofullard      andrew-fullard-a9a487168/            fullarda@msu.edu   \n",
       "6                                                            smithis7@msu.edu   \n",
       "7              NaN                            NaN                         NaN   \n",
       "8     2001_atharva                   atharva-arya     aryaatharva18@gmail.com   \n",
       "9                                                            dow00019@umn.edu   \n",
       "10                                                           lubangji@msu.edu   \n",
       "11                                                                              \n",
       "12             NaN                            NaN                         NaN   \n",
       "13             NaN                            NaN                         NaN   \n",
       "14                                                       jobrien585@gmail.com   \n",
       "15                                                                              \n",
       "16             NaN                            NaN                         NaN   \n",
       "17                                                           cawleyke@msu.edu   \n",
       "18                        sofia-biriouk-595091199            biriouks@msu.edu   \n",
       "19                              jing-lu-bb89211bb      lujingeve158@gmail.com   \n",
       "20                  alexander-grunewald-8007a51b5            grunew14@msu.edu   \n",
       "21     harshulgupt                    harshulgupt       harshulgupt@gmail.com   \n",
       "22     wkerzendorf   wolfgang-kerzendorf-598a0466            wkerzend@msu.edu   \n",
       "\n",
       "                  orcid            academic_role  \n",
       "0   0000-0002-1560-5286                    Other  \n",
       "1   0000-0002-7708-3831         Graduate Student  \n",
       "2   0009-0001-8470-275X            Undergraduate  \n",
       "3   0000-0003-2248-0941  Postdoctoral researcher  \n",
       "4                               Graduate Student  \n",
       "5   0000-0001-7343-1678         Graduate Student  \n",
       "6   0000-0003-0440-3918            Undergraduate  \n",
       "7                   NaN         Graduate Student  \n",
       "8                                  Undergraduate  \n",
       "9   0009-0007-2842-1690         Graduate Student  \n",
       "10  0000-0002-3393-2424            Undergraduate  \n",
       "11                                         Other  \n",
       "12                  NaN         Graduate Student  \n",
       "13                  NaN         Graduate Student  \n",
       "14  0000-0003-3615-9593            Undergraduate  \n",
       "15                                 Undergraduate  \n",
       "16                  NaN            Undergraduate  \n",
       "17                                         Other  \n",
       "18  0009-0004-2531-7423                    Other  \n",
       "19  0000-0002-3900-1452            Undergraduate  \n",
       "20                                 Undergraduate  \n",
       "21                                 Undergraduate  \n",
       "22  0000-0002-0479-7235            Undergraduate  "
      ]
     },
     "execution_count": 299,
     "metadata": {},
     "output_type": "execute_result"
    }
   ],
   "source": [
    "def func_edu_ex_df(experiences_education_row):\n",
    "    top_education_degree = experiences_education_row['degree']\n",
    "    top_experience_role = experiences_education_row.get('role', \"\")  # .get() used to avoid KeyError\n",
    "    \n",
    "    if pd.isnull(top_experience_role):  # Check if role is NaN\n",
    "        top_experience_role = \"\"\n",
    "\n",
    "    if top_education_degree == 'Bachelors':\n",
    "        return 'Undergraduate'\n",
    "    elif top_education_degree in ['Masters', 'PhD']:\n",
    "        return 'Graduate Student'\n",
    "    if top_experience_role in ['Visiting Researcher', 'Postdoctoral Researcher']:\n",
    "        return 'Postdoctoral researcher'\n",
    "    elif 'Assistant Professor' in top_experience_role or 'Professor' in top_experience_role:\n",
    "        return 'Professor'\n",
    "    return 'Other'  # It's good to have a default value in case none of the conditions match\n",
    "\n",
    "people_page_df['academic_role'] = experiences_education_df.apply(func_edu_ex_df, axis=1)\n",
    "selected_columns_df = people_page_df[['first_name', 'last_name','nick_name','image_path','cover_image_path','project_title','website','github_handle','twitter_handle','linkedin_handle','email','orcid','academic_role']]\n",
    "selected_columns_df\n"
   ]
  },
  {
   "cell_type": "code",
   "execution_count": null,
   "metadata": {},
   "outputs": [],
   "source": [
    "experiences_education_df.sort_values('start_date', ascending=False)"
   ]
  },
  {
   "cell_type": "code",
   "execution_count": null,
   "metadata": {},
   "outputs": [],
   "source": [
    "\n",
    "# experiences_education_df.sort_values('start_date').set_index([\"country\"])\n",
    "# experiences_education_df.index = pd.MultiIndex.()\n",
    "experiences_education_df.set_index(['country', 'role'])\n",
    "\n",
    "\n"
   ]
  },
  {
   "cell_type": "code",
   "execution_count": null,
   "metadata": {},
   "outputs": [],
   "source": [
    "experiences_education_df['first_name'] = people_page_df.first_name\n",
    "experiences_education_df['last_name'] = people_page_df.last_name\n",
    "pd.concat([people_page_df, experiences_education_df], axis=0, ignore_index=True).set_index(['first_name',\t'last_name'])\n"
   ]
  },
  {
   "cell_type": "code",
   "execution_count": null,
   "metadata": {},
   "outputs": [],
   "source": [
    "experiences_education_df.columns"
   ]
  },
  {
   "cell_type": "code",
   "execution_count": null,
   "metadata": {},
   "outputs": [],
   "source": [
    "people_page_df.columns"
   ]
  },
  {
   "cell_type": "code",
   "execution_count": null,
   "metadata": {},
   "outputs": [],
   "source": [
    "pd.merge(people_page_df, experiences_education_df, on = ['first_name',\t'last_name'], how = 'outer').set_index(['first_name',\t'last_name'])"
   ]
  },
  {
   "cell_type": "code",
   "execution_count": null,
   "metadata": {},
   "outputs": [],
   "source": [
    "#Func to display current role\n",
    "\n",
    "def func_edu_ex_df(data_df):\n",
    "\n",
    "\n",
    "    experiences_df = data_df\n",
    "    is_member = experiences_df['end_date'].isna().any()\n",
    "    top_experience_role = experiences_df.iloc[0]['role']\n",
    "    \n",
    "    if is_member:\n",
    "        print(f\"{top_experience_role}: Current member\")\n",
    "    else:\n",
    "        print(f\"{top_experience_role} Alumni\")\n",
    "\n",
    "func_edu_ex_df(experiences_education_df)\n"
   ]
  },
  {
   "cell_type": "code",
   "execution_count": null,
   "metadata": {},
   "outputs": [],
   "source": [
    "\n",
    "\n",
    "\n",
    "website_data_files = {\n",
    "    'contact': 'contact.json',\n",
    "    'general': 'general.json',\n",
    "    'research': 'research.json',\n",
    "    'homepage': 'homepage.json',\n",
    "    'support': 'support.json'\n",
    "}\n",
    "\n",
    "\n",
    "contact, general, research, homepage, support = [{}] * 5\n",
    "\n",
    "\n",
    "for var_name, webpage_json in website_data_files.items():\n",
    "    file_path = WEBSITE_DATA_PATH / webpage_json\n",
    "    if file_path.exists():\n",
    "        with open(file_path, 'r') as f:\n",
    "            locals()[var_name] = json.load(f)\n"
   ]
  },
  {
   "cell_type": "code",
   "execution_count": null,
   "metadata": {},
   "outputs": [],
   "source": [
    "contact_df = pd.DataFrame.from_records([contact])\n",
    "general_df = pd.DataFrame.from_records([general])\n",
    "homepage_df = pd.DataFrame.from_records([homepage])\n",
    "research_df = pd.DataFrame.from_records([research])\n",
    "support_df = pd.DataFrame.from_records([support])\n"
   ]
  },
  {
   "cell_type": "code",
   "execution_count": null,
   "metadata": {},
   "outputs": [],
   "source": [
    "\n",
    "content_dfs = []  \n",
    "for json_file in CONTENT_DIR_PATH.glob('*.json'):\n",
    "    with open(json_file, 'r') as file:\n",
    "        data = json.load(file)\n",
    "        \n",
    "       \n",
    "        df = pd.json_normalize(data)\n",
    "        \n",
    "        content_dfs.append(df)\n",
    "\n",
    "\n",
    "content_df = pd.concat(content_dfs, ignore_index=True, sort=False)\n",
    "\n",
    "\n"
   ]
  },
  {
   "cell_type": "code",
   "execution_count": null,
   "metadata": {},
   "outputs": [],
   "source": [
    "#Creating an instance of the Environment class that looks for templates. Page_link is set to the global variable so that it can be accessed by all templates\n",
    "environment = Environment(loader=FileSystemLoader('templates/'),extensions=['jinja2.ext.loopcontrols'])\n",
    "environment.globals['page_link'] = page_link\n",
    "environment.globals['ContentData'] = content_df"
   ]
  },
  {
   "cell_type": "code",
   "execution_count": null,
   "metadata": {},
   "outputs": [],
   "source": [
    "research_content_unsorted = content_df[content_df['tags'].apply(lambda x: any('research' in tag for tag in x))]\n",
    "research_content = research_content_unsorted.groupby('category').apply(lambda x: x.sort_values('article_date', ascending=False)).reset_index(drop=True)"
   ]
  },
  {
   "cell_type": "code",
   "execution_count": null,
   "metadata": {},
   "outputs": [],
   "source": [
    "news_content_unsorted = content_df[content_df['tags'].apply(lambda x: any('news' in tag for tag in x))]\n",
    "news_content = news_content_unsorted.sort_values(by=\"article_date\", ascending=False)"
   ]
  },
  {
   "cell_type": "code",
   "execution_count": null,
   "metadata": {},
   "outputs": [],
   "source": [
    "latest_content_df = pd.DataFrame()\n",
    "\n",
    "for category in content_df.category.unique():\n",
    "    latest_data = pd.Series(content_df[content_df.category == category].iloc[0])\n",
    "    latest_content_df = latest_content_df._append(latest_data, ignore_index=True)\n",
    "\n",
    "latest_content_df['article_date'] = pd.to_datetime(latest_content_df['article_date'], format='%m-%d-%Y')\n",
    "latest_content_df = latest_content_df.sort_values(by='article_date', ascending=False)"
   ]
  },
  {
   "attachments": {},
   "cell_type": "markdown",
   "metadata": {},
   "source": [
    "##### Homepage"
   ]
  },
  {
   "cell_type": "code",
   "execution_count": null,
   "metadata": {},
   "outputs": [],
   "source": [
    "homepage_template = environment.get_template('homepage.html.j2')"
   ]
  },
  {
   "cell_type": "code",
   "execution_count": null,
   "metadata": {},
   "outputs": [],
   "source": [
    "general_dict = general_df.iloc[0].to_dict()\n",
    "homepage_dict = homepage_df.iloc[0].to_dict()\n"
   ]
  },
  {
   "cell_type": "code",
   "execution_count": null,
   "metadata": {},
   "outputs": [],
   "source": [
    "homepage_content = homepage_template.render(general=general_dict,\n",
    "                                            homepage=homepage_dict,\n",
    "                                            recent_content=latest_content_df.to_dict(orient='records'))\n"
   ]
  },
  {
   "cell_type": "code",
   "execution_count": null,
   "metadata": {},
   "outputs": [],
   "source": [
    "with open('../kerzendorf-group.github.io/index.html', mode='w', encoding='utf-8') as Homepage:\n",
    "    Homepage.write(homepage_content)"
   ]
  },
  {
   "attachments": {},
   "cell_type": "markdown",
   "metadata": {},
   "source": [
    "##### People Page"
   ]
  },
  {
   "cell_type": "code",
   "execution_count": null,
   "metadata": {},
   "outputs": [],
   "source": [
    "templates_dir_path = current_dir / '../templates/'\n",
    "environment = Environment(loader=FileSystemLoader(str(templates_dir_path)))\n",
    "people_template = environment.get_template(\"people.html.j2\")\n"
   ]
  },
  {
   "cell_type": "code",
   "execution_count": null,
   "metadata": {},
   "outputs": [],
   "source": [
    "people_template = environment.get_template(\"people.html.j2\")"
   ]
  },
  {
   "cell_type": "code",
   "execution_count": null,
   "metadata": {},
   "outputs": [],
   "source": [
    "environment.globals['page_link'] = page_link\n",
    "people_content = people_template.render(general=general_dict, present_members=people_page_df, result=result)\n"
   ]
  },
  {
   "cell_type": "code",
   "execution_count": null,
   "metadata": {},
   "outputs": [],
   "source": [
    "with open(\"../../kerzendorf-group.github.io/People.html\", mode=\"w\", encoding=\"utf-8\") as people:\n",
    "    people.write(people_content)"
   ]
  },
  {
   "attachments": {},
   "cell_type": "markdown",
   "metadata": {},
   "source": [
    "##### Individual People Page"
   ]
  },
  {
   "cell_type": "code",
   "execution_count": null,
   "metadata": {},
   "outputs": [],
   "source": [
    "ind_person_template = environment.get_template(\"individual_person.html.j2\")"
   ]
  },
  {
   "cell_type": "code",
   "execution_count": null,
   "metadata": {},
   "outputs": [],
   "source": [
    "for person in people_df['id']:\n",
    "            filename = f\"../kerzendorf-group.github.io/members/{ person }/{ person }.html\"\n",
    "            ind_person_content = ind_person_template.render(general=data[\"general\"], \n",
    "                                                            member_id=person, \n",
    "                                                            content=content_df.to_dict(orient='records'))\n",
    "            with open(filename, mode=\"w\", encoding=\"utf-8\") as page:\n",
    "                page.write(ind_person_content)"
   ]
  },
  {
   "attachments": {},
   "cell_type": "markdown",
   "metadata": {},
   "source": [
    "##### Research Page"
   ]
  },
  {
   "cell_type": "code",
   "execution_count": null,
   "metadata": {},
   "outputs": [],
   "source": [
    "research_template = environment.get_template(\"research.html.j2\")"
   ]
  },
  {
   "cell_type": "code",
   "execution_count": null,
   "metadata": {},
   "outputs": [],
   "source": [
    "main_page_research_content = research_template.render(general=data[\"general\"],\n",
    "                                            content=research_content)"
   ]
  },
  {
   "cell_type": "code",
   "execution_count": null,
   "metadata": {},
   "outputs": [],
   "source": [
    "with open(\"../kerzendorf-group.github.io/Research.html\", mode=\"w\", encoding=\"utf-8\") as research:\n",
    "        research.write(main_page_research_content)"
   ]
  },
  {
   "cell_type": "code",
   "execution_count": null,
   "metadata": {},
   "outputs": [],
   "source": [
    "sub_research_template = environment.get_template(\"sub_research_frontpage.html.j2\")"
   ]
  },
  {
   "cell_type": "code",
   "execution_count": null,
   "metadata": {},
   "outputs": [],
   "source": [
    "for category in content_df.loc[content_df.category != \"News\", \"category\"].unique():\n",
    "        sub_research_content = sub_research_template.render(general=data[\"general\"], \n",
    "                                                            research_general=data[\"research\"], \n",
    "                                                            content = research_content,\n",
    "                                                            category = category\n",
    "                                                            )\n",
    "        folder_path = f\"../kerzendorf-group.github.io/sub_research/{page_link(category.lower())}\"\n",
    "        os.makedirs(folder_path, exist_ok=True)\n",
    "        with open(f\"../kerzendorf-group.github.io/sub_research/{page_link(category.lower())}.html\", mode=\"w\", encoding=\"utf-8\") as sub_research:\n",
    "            sub_research.write(sub_research_content)"
   ]
  },
  {
   "attachments": {},
   "cell_type": "markdown",
   "metadata": {},
   "source": [
    "##### Individual Research Page"
   ]
  },
  {
   "cell_type": "code",
   "execution_count": null,
   "metadata": {},
   "outputs": [],
   "source": [
    "template_no_twitter = environment.get_template(\"research_page_no_twitter.html.j2\")"
   ]
  },
  {
   "cell_type": "code",
   "execution_count": null,
   "metadata": {},
   "outputs": [],
   "source": [
    "for ind_research_keys, ind_research_values in research_content.iterrows():\n",
    "    if \"news\" not in ind_research_values.category.lower():\n",
    "        ind_research_content = template_no_twitter.render(general=data[\"general\"], \n",
    "                                                          member_ids = people_df['id'],\n",
    "                                                          nonmem_ids = non_mem_df['id'],\n",
    "                                                          content = ind_research_values\n",
    "                                                          \n",
    "                                                            )\n",
    "        folder_path = f\"../kerzendorf-group.github.io/sub_research/{page_link(ind_research_values.category.lower())}\"\n",
    "        os.makedirs(folder_path, exist_ok=True)\n",
    "        with open(f\"{ folder_path }/{page_link(ind_research_values.article_id.lower())}.html\", mode=\"w\", encoding=\"utf-8\") as ind_research_page:\n",
    "            ind_research_page.write(ind_research_content)"
   ]
  },
  {
   "attachments": {},
   "cell_type": "markdown",
   "metadata": {},
   "source": [
    "##### News Page"
   ]
  },
  {
   "cell_type": "code",
   "execution_count": null,
   "metadata": {},
   "outputs": [],
   "source": [
    "news_content"
   ]
  },
  {
   "cell_type": "code",
   "execution_count": null,
   "metadata": {},
   "outputs": [],
   "source": [
    "news_template = environment.get_template(\"news.html.j2\")"
   ]
  },
  {
   "cell_type": "code",
   "execution_count": null,
   "metadata": {},
   "outputs": [],
   "source": [
    "news_page_content = news_template.render(general=data[\"general\"],\n",
    "                                         content=news_content,\n",
    "                                         member_ids=people_df['id'],\n",
    "                                         nonmem_ids = non_mem_df['id'],\n",
    "                                         category=\"News\")"
   ]
  },
  {
   "cell_type": "code",
   "execution_count": null,
   "metadata": {},
   "outputs": [],
   "source": [
    "with open(\"../kerzendorf-group.github.io/News.html\", mode=\"w\", encoding=\"utf-8\") as news:\n",
    "        news.write(news_page_content)"
   ]
  },
  {
   "attachments": {},
   "cell_type": "markdown",
   "metadata": {},
   "source": [
    "##### Individual News Pages"
   ]
  },
  {
   "cell_type": "code",
   "execution_count": null,
   "metadata": {},
   "outputs": [],
   "source": [
    "news_template_no_twitter = environment.get_template(\"news_page_no_twitter.html.j2\")\n",
    "#news_template_twitter = environment.get_template(\"news_page_twitter.html.j2\")"
   ]
  },
  {
   "cell_type": "code",
   "execution_count": null,
   "metadata": {},
   "outputs": [],
   "source": [
    "for ind_news_keys, ind_news_values in news_content.iterrows():\n",
    "        ind_news_content = news_template_no_twitter.render(general=data[\"general\"], \n",
    "                                                          member_ids = people_df['id'],\n",
    "                                                          nonmem_ids = non_mem_df['id'],\n",
    "                                                          content = ind_news_values\n",
    "                                                            )\n",
    "        folder_path = f\"../kerzendorf-group.github.io/news/\"\n",
    "        os.makedirs(folder_path, exist_ok=True)\n",
    "        with open(f\"{ folder_path }/{page_link(ind_news_values.article_id.lower())}.html\", mode=\"w\", encoding=\"utf-8\") as ind_news_page:\n",
    "            ind_news_page.write(ind_news_content)"
   ]
  },
  {
   "attachments": {},
   "cell_type": "markdown",
   "metadata": {},
   "source": [
    "##### Support Page"
   ]
  },
  {
   "cell_type": "code",
   "execution_count": null,
   "metadata": {},
   "outputs": [],
   "source": [
    "support_template = environment.get_template('support.html.j2')"
   ]
  },
  {
   "cell_type": "code",
   "execution_count": null,
   "metadata": {},
   "outputs": [],
   "source": [
    "support_content = support_template.render(general=data[\"general\"], support=data[\"support\"])"
   ]
  },
  {
   "cell_type": "code",
   "execution_count": null,
   "metadata": {},
   "outputs": [],
   "source": [
    "with open('../kerzendorf-group.github.io/Support.html', mode='w', encoding='utf-8') as support:\n",
    "    support.write(support_content)"
   ]
  },
  {
   "attachments": {},
   "cell_type": "markdown",
   "metadata": {},
   "source": [
    "##### Contact"
   ]
  },
  {
   "cell_type": "code",
   "execution_count": null,
   "metadata": {},
   "outputs": [],
   "source": [
    "contact_template = environment.get_template('contact.html.j2')"
   ]
  },
  {
   "cell_type": "code",
   "execution_count": null,
   "metadata": {},
   "outputs": [],
   "source": [
    "contact_content = contact_template.render(general=data[\"general\"], contact=data[\"contact\"])"
   ]
  },
  {
   "cell_type": "code",
   "execution_count": null,
   "metadata": {},
   "outputs": [],
   "source": [
    "with open('../kerzendorf-group.github.io/Contact.html', mode='w', encoding='utf-8') as contact:\n",
    "    contact.write(contact_content)"
   ]
  }
 ],
 "metadata": {
  "kernelspec": {
   "display_name": "Python 3",
   "language": "python",
   "name": "python3"
  },
  "language_info": {
   "codemirror_mode": {
    "name": "ipython",
    "version": 3
   },
   "file_extension": ".py",
   "mimetype": "text/x-python",
   "name": "python",
   "nbconvert_exporter": "python",
   "pygments_lexer": "ipython3",
   "version": "3.8.2"
  },
  "orig_nbformat": 4
 },
 "nbformat": 4,
 "nbformat_minor": 2
}
