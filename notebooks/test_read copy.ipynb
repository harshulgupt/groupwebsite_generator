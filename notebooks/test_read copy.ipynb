{
 "cells": [
  {
   "cell_type": "code",
   "execution_count": 1,
   "metadata": {},
   "outputs": [
    {
     "data": {
      "text/plain": [
       "'/Users/harshul/website clone/harshul/test/groupwebsite_generator'"
      ]
     },
     "execution_count": 1,
     "metadata": {},
     "output_type": "execute_result"
    }
   ],
   "source": [
    "# Change the working directory to the desired location\n",
    "# temporary, only for local\n",
    "import os\n",
    "#os.chdir(\"/home/bumblebealu/groupwebsite_generator/\")\n",
    "os.chdir(\"/Users/harshul/website clone/harshul/test/groupwebsite_generator\")\n",
    "os.getcwd()"
   ]
  },
  {
   "cell_type": "code",
   "execution_count": 2,
   "metadata": {},
   "outputs": [],
   "source": [
    "import pandas as pd\n",
    "from pathlib import Path\n",
    "import json"
   ]
  },
  {
   "cell_type": "code",
   "execution_count": 6,
   "metadata": {},
   "outputs": [],
   "source": [
    "MEMBERS_DIR_PATH = Path('../group-data/members/')"
   ]
  },
  {
   "cell_type": "code",
   "execution_count": 14,
   "metadata": {},
   "outputs": [],
   "source": [
    "member_records = []\n",
    "for member_dir in MEMBERS_DIR_PATH.glob('*'):\n",
    "    member_record = json.load(open(member_dir / 'info.json'))\n",
    "    member_json_dir = member_dir / 'jsons'\n",
    "    \n",
    "    if (member_experience := (member_json_dir /  'experiences.json')).exists():\n",
    "        current_position = json.load(open(member_experience))[-1]\n",
    "        \n",
    "    elif (member_education := (member_json_dir /  'education.json')).exists():\n",
    "        current_position = json.load(open(member_education))[-1]\n",
    "\n",
    "    elif (member_awards := (member_json_dir /  'awards.json')).exists():\n",
    "        current_position = json.load(open(member_awards))[-1]\n",
    "    elif (member_roles := (member_json_dir /  'roles.json')).exists():\n",
    "        current_position = json.load(open(member_roles))[-1]\n",
    "    elif (member_projects := (member_json_dir /  'projects.json')).exists():\n",
    "        current_position = json.load(open(member_projects))[-1]   \n",
    "\n",
    "    elif (member_website_media := (member_json_dir /  'website_media.json')).exists():\n",
    "        current_position = json.load(open(member_website_media))[-1]\n",
    "    elif (member_posters := (member_json_dir /  'posters.json')).exists():\n",
    "        current_position = json.load(open(member_posters))[-1]\n",
    "    elif (member_publications := (member_json_dir /  'publications.json')).exists():\n",
    "        current_position = json.load(open(member_website_media))[-1]\n",
    "    elif (member_outreach := (member_json_dir /  'outreach.json')).exists():\n",
    "        current_position = json.load(open(member_outreach))[-1]\n",
    "\n",
    "\n",
    "\n",
    "    member_record.update(current_position)\n",
    "    member_records.append(member_record)"
   ]
  },
  {
   "cell_type": "code",
   "execution_count": 16,
   "metadata": {},
   "outputs": [
    {
     "data": {
      "text/plain": [
       "{'institution': 'University of Toronto',\n",
       " 'city': 'Toronto',\n",
       " 'state': 'Ontario',\n",
       " 'country': 'Canada',\n",
       " 'degree': 'Postdoctoral Fellow',\n",
       " 'start_date': '2011-10-01',\n",
       " 'end_date': '2014-09-30'}"
      ]
     },
     "execution_count": 16,
     "metadata": {},
     "output_type": "execute_result"
    }
   ],
   "source": [
    "current_position"
   ]
  },
  {
   "cell_type": "code",
   "execution_count": 18,
   "metadata": {},
   "outputs": [
    {
     "data": {
      "text/plain": [
       "[{'first_name': 'Anirban ',\n",
       "  'last_name': 'Dutta',\n",
       "  'nick_name': '',\n",
       "  'image_path': 'media/images/anirban_dutta.jpg',\n",
       "  'cover_image_path': 'media/images/cover.jpg',\n",
       "  'introduction': 'Hi there! This is Anirban.',\n",
       "  'id': 'anirban_dutta',\n",
       "  'institution': 'Michigan State University',\n",
       "  'city': 'East Lansing',\n",
       "  'state': 'Michigan',\n",
       "  'country': 'USA',\n",
       "  'role': 'Visiting Researcher',\n",
       "  'start_date': '2023-09-01'},\n",
       " {'first_name': 'Erin',\n",
       "  'last_name': 'Visser',\n",
       "  'nick_name': '',\n",
       "  'image_path': 'media/images/erin_visser_website_pic.jpg',\n",
       "  'cover_image_path': 'media/images/cover.jpg',\n",
       "  'introduction': '',\n",
       "  'id': 'erin_visser',\n",
       "  'degree': 'Bachelors',\n",
       "  'subject': ' Physics and Mathematics, Advanced',\n",
       "  'institution': 'Michigan State University',\n",
       "  'city': 'East Lansing',\n",
       "  'state': 'Michigan',\n",
       "  'country': 'USA',\n",
       "  'start_date': '2023-09-01'},\n",
       " {'first_name': 'Vicente',\n",
       "  'last_name': ' Amado Olivo',\n",
       "  'nick_name': '',\n",
       "  'image_path': 'media/images/ESD_headshot.jpg',\n",
       "  'cover_image_path': 'media/images/cover.jpg',\n",
       "  'introduction': 'I am a graduate student at Michigan State University working on computational meta-research in the Deepthought Initiative (DTI) collaboration. The DTI collaboration applies computational techniques and tools to the big data that is the literature in scientific research. Specifically, DTI focuses on understanding the astrophysics literature by leveraging machine learning. My research focuses on tracking astrophysics publications and identifying all astronomers in the global community from publications on arXiv. My work in computational meta-research has benefited from being surrounded by astrophysicists from our research group, ensuring that the tools we are researching are directly applicable to astrophysicists. ',\n",
       "  'id': 'vicente_amado',\n",
       "  'degree': 'Bachelors',\n",
       "  'subject': 'Computational Mathematics, Science, and Engineering',\n",
       "  'institution': 'Michigan State University',\n",
       "  'city': 'East Lansing',\n",
       "  'state': 'Michigan',\n",
       "  'country': 'USA',\n",
       "  'start_date': '2017-01-01',\n",
       "  'end_date': '2021-12-31'},\n",
       " {'first_name': 'Isaac',\n",
       "  'last_name': 'Smith',\n",
       "  'nick_name': '',\n",
       "  'image_path': 'media/images/isaac_image.jpg',\n",
       "  'cover_image_path': 'media/images/cover.jpg',\n",
       "  'introduction': '',\n",
       "  'id': 'isaac_smith',\n",
       "  'degree': 'Bachelors',\n",
       "  'subject': 'Physics and Mathematics',\n",
       "  'institution': 'Michigan State University',\n",
       "  'city': 'East Lansing',\n",
       "  'state': 'Michigan',\n",
       "  'country': 'USA',\n",
       "  'start_date': '2020-01-01',\n",
       "  'end_date': '2024-12-31'},\n",
       " {'first_name': 'Hayden',\n",
       "  'last_name': 'Monk',\n",
       "  'nick_name': '',\n",
       "  'image_path': 'media/images/hayden.jpg',\n",
       "  'cover_image_path': 'media/images/cover.jpg',\n",
       "  'introduction': '',\n",
       "  'id': 'hayden_monk',\n",
       "  'degree': 'Bachelors',\n",
       "  'subject': 'Astrophysics',\n",
       "  'institution': 'Michigan State University',\n",
       "  'city': 'East Lansing',\n",
       "  'state': 'Michigan',\n",
       "  'country': 'USA',\n",
       "  'start_date': '2022-09-01'},\n",
       " {'first_name': 'Cecelia',\n",
       "  'last_name': 'Powers',\n",
       "  'nick_name': '',\n",
       "  'image_path': '../../images/me.jpg',\n",
       "  'cover_image_path': 'media/images/cover.jpg',\n",
       "  'introduction': '',\n",
       "  'id': 'cecelia_powers',\n",
       "  'degree': 'Bachelors',\n",
       "  'subject': 'Astrophysics',\n",
       "  'institution': 'Michigan State University',\n",
       "  'city': 'East Lansing',\n",
       "  'state': 'Michigan',\n",
       "  'country': 'United States',\n",
       "  'start_date': '2023-09-01'},\n",
       " {'first_name': 'Kevin',\n",
       "  'last_name': 'Cawley',\n",
       "  'nick_name': '',\n",
       "  'image_path': 'media/images/KevinCawleyFall2022.jpg',\n",
       "  'cover_image_path': 'media/images/cover.jpg',\n",
       "  'introduction': '',\n",
       "  'id': 'kevin_cawley',\n",
       "  'institution': 'Michigan State University',\n",
       "  'city': 'East Lansing',\n",
       "  'state': 'Michigan',\n",
       "  'country': 'US',\n",
       "  'entry2': '2020-01-01',\n",
       "  'end_date': '2021-12-31',\n",
       "  'role': 'Professorial Assistant'},\n",
       " {'first_name': 'Alexander',\n",
       "  'last_name': 'Grunewald',\n",
       "  'nick_name': '',\n",
       "  'image_path': 'media/images/alexander.jpg',\n",
       "  'cover_image_path': 'media/images/cover.jpg',\n",
       "  'introduction': \"Alexander Grunewald is an undergraduate student at Michigan State University who is double majoring in Data Science and Statistics. His primary responsibility is to assist with the research and development of an emulator for TARDIS. Outside of school, he serves as the Vice President of MSU's AI club, where he is committed to making the use of AI more accessible to everyone.\",\n",
       "  'id': 'alexander_grunewald',\n",
       "  'degree': 'Bachelors',\n",
       "  'subject': 'Statistics and Data Science',\n",
       "  'institution': 'Michigan State University',\n",
       "  'city': 'East Lansing',\n",
       "  'state': 'Michigan',\n",
       "  'country': 'USA',\n",
       "  'start_date': '2021-01-01',\n",
       "  'end_date': '2025-05-31'}]"
      ]
     },
     "execution_count": 18,
     "metadata": {},
     "output_type": "execute_result"
    }
   ],
   "source": [
    "pd.DataFrame.from_records(member_records)"
   ]
  },
  {
   "cell_type": "code",
   "execution_count": null,
   "metadata": {},
   "outputs": [],
   "source": []
  }
 ],
 "metadata": {
  "kernelspec": {
   "display_name": "cv",
   "language": "python",
   "name": "python3"
  },
  "language_info": {
   "codemirror_mode": {
    "name": "ipython",
    "version": 3
   },
   "file_extension": ".py",
   "mimetype": "text/x-python",
   "name": "python",
   "nbconvert_exporter": "python",
   "pygments_lexer": "ipython3",
   "version": "3.8.2"
  },
  "orig_nbformat": 4
 },
 "nbformat": 4,
 "nbformat_minor": 2
}
